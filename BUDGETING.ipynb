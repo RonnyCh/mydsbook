{
 "cells": [
  {
   "cell_type": "code",
   "execution_count": 118,
   "metadata": {},
   "outputs": [
    {
     "data": {
      "text/html": [
       "<div>\n",
       "<style scoped>\n",
       "    .dataframe tbody tr th:only-of-type {\n",
       "        vertical-align: middle;\n",
       "    }\n",
       "\n",
       "    .dataframe tbody tr th {\n",
       "        vertical-align: top;\n",
       "    }\n",
       "\n",
       "    .dataframe thead th {\n",
       "        text-align: right;\n",
       "    }\n",
       "</style>\n",
       "<table border=\"1\" class=\"dataframe\">\n",
       "  <thead>\n",
       "    <tr style=\"text-align: right;\">\n",
       "      <th></th>\n",
       "      <th>Period</th>\n",
       "      <th>Description</th>\n",
       "      <th>Amount</th>\n",
       "    </tr>\n",
       "  </thead>\n",
       "  <tbody>\n",
       "    <tr>\n",
       "      <th>0</th>\n",
       "      <td>2021-01</td>\n",
       "      <td>Salary</td>\n",
       "      <td>2250</td>\n",
       "    </tr>\n",
       "    <tr>\n",
       "      <th>1</th>\n",
       "      <td>2021-01</td>\n",
       "      <td>The Pond Rent</td>\n",
       "      <td>3250</td>\n",
       "    </tr>\n",
       "    <tr>\n",
       "      <th>2</th>\n",
       "      <td>2021-01</td>\n",
       "      <td>Wolli Creek Rent</td>\n",
       "      <td>2250</td>\n",
       "    </tr>\n",
       "    <tr>\n",
       "      <th>3</th>\n",
       "      <td>2021-02</td>\n",
       "      <td>Salary</td>\n",
       "      <td>1800</td>\n",
       "    </tr>\n",
       "    <tr>\n",
       "      <th>4</th>\n",
       "      <td>2021-02</td>\n",
       "      <td>The Pond Rent</td>\n",
       "      <td>2600</td>\n",
       "    </tr>\n",
       "    <tr>\n",
       "      <th>5</th>\n",
       "      <td>2021-02</td>\n",
       "      <td>Wolli Creek Rent</td>\n",
       "      <td>1800</td>\n",
       "    </tr>\n",
       "    <tr>\n",
       "      <th>6</th>\n",
       "      <td>2021-03</td>\n",
       "      <td>Salary</td>\n",
       "      <td>1800</td>\n",
       "    </tr>\n",
       "    <tr>\n",
       "      <th>7</th>\n",
       "      <td>2021-03</td>\n",
       "      <td>The Pond Rent</td>\n",
       "      <td>2600</td>\n",
       "    </tr>\n",
       "    <tr>\n",
       "      <th>8</th>\n",
       "      <td>2021-03</td>\n",
       "      <td>Wolli Creek Rent</td>\n",
       "      <td>1800</td>\n",
       "    </tr>\n",
       "    <tr>\n",
       "      <th>9</th>\n",
       "      <td>2021-04</td>\n",
       "      <td>Salary</td>\n",
       "      <td>2250</td>\n",
       "    </tr>\n",
       "    <tr>\n",
       "      <th>10</th>\n",
       "      <td>2021-04</td>\n",
       "      <td>The Pond Rent</td>\n",
       "      <td>3250</td>\n",
       "    </tr>\n",
       "    <tr>\n",
       "      <th>11</th>\n",
       "      <td>2021-04</td>\n",
       "      <td>Wolli Creek Rent</td>\n",
       "      <td>2250</td>\n",
       "    </tr>\n",
       "    <tr>\n",
       "      <th>12</th>\n",
       "      <td>2021-05</td>\n",
       "      <td>Salary</td>\n",
       "      <td>1800</td>\n",
       "    </tr>\n",
       "    <tr>\n",
       "      <th>13</th>\n",
       "      <td>2021-05</td>\n",
       "      <td>The Pond Rent</td>\n",
       "      <td>2600</td>\n",
       "    </tr>\n",
       "    <tr>\n",
       "      <th>14</th>\n",
       "      <td>2021-05</td>\n",
       "      <td>Wolli Creek Rent</td>\n",
       "      <td>1800</td>\n",
       "    </tr>\n",
       "    <tr>\n",
       "      <th>15</th>\n",
       "      <td>2021-06</td>\n",
       "      <td>Salary</td>\n",
       "      <td>1800</td>\n",
       "    </tr>\n",
       "    <tr>\n",
       "      <th>16</th>\n",
       "      <td>2021-06</td>\n",
       "      <td>The Pond Rent</td>\n",
       "      <td>2600</td>\n",
       "    </tr>\n",
       "    <tr>\n",
       "      <th>17</th>\n",
       "      <td>2021-06</td>\n",
       "      <td>Wolli Creek Rent</td>\n",
       "      <td>1800</td>\n",
       "    </tr>\n",
       "    <tr>\n",
       "      <th>18</th>\n",
       "      <td>2021-07</td>\n",
       "      <td>Salary</td>\n",
       "      <td>2250</td>\n",
       "    </tr>\n",
       "    <tr>\n",
       "      <th>19</th>\n",
       "      <td>2021-07</td>\n",
       "      <td>The Pond Rent</td>\n",
       "      <td>3250</td>\n",
       "    </tr>\n",
       "    <tr>\n",
       "      <th>20</th>\n",
       "      <td>2021-07</td>\n",
       "      <td>Wolli Creek Rent</td>\n",
       "      <td>2250</td>\n",
       "    </tr>\n",
       "    <tr>\n",
       "      <th>21</th>\n",
       "      <td>2021-08</td>\n",
       "      <td>Salary</td>\n",
       "      <td>1800</td>\n",
       "    </tr>\n",
       "    <tr>\n",
       "      <th>22</th>\n",
       "      <td>2021-08</td>\n",
       "      <td>The Pond Rent</td>\n",
       "      <td>2600</td>\n",
       "    </tr>\n",
       "    <tr>\n",
       "      <th>23</th>\n",
       "      <td>2021-08</td>\n",
       "      <td>Wolli Creek Rent</td>\n",
       "      <td>1800</td>\n",
       "    </tr>\n",
       "    <tr>\n",
       "      <th>24</th>\n",
       "      <td>2021-09</td>\n",
       "      <td>Salary</td>\n",
       "      <td>1800</td>\n",
       "    </tr>\n",
       "    <tr>\n",
       "      <th>25</th>\n",
       "      <td>2021-09</td>\n",
       "      <td>The Pond Rent</td>\n",
       "      <td>2600</td>\n",
       "    </tr>\n",
       "    <tr>\n",
       "      <th>26</th>\n",
       "      <td>2021-09</td>\n",
       "      <td>Wolli Creek Rent</td>\n",
       "      <td>1800</td>\n",
       "    </tr>\n",
       "    <tr>\n",
       "      <th>27</th>\n",
       "      <td>2021-10</td>\n",
       "      <td>Salary</td>\n",
       "      <td>2250</td>\n",
       "    </tr>\n",
       "    <tr>\n",
       "      <th>28</th>\n",
       "      <td>2021-10</td>\n",
       "      <td>The Pond Rent</td>\n",
       "      <td>3250</td>\n",
       "    </tr>\n",
       "    <tr>\n",
       "      <th>29</th>\n",
       "      <td>2021-10</td>\n",
       "      <td>Wolli Creek Rent</td>\n",
       "      <td>2250</td>\n",
       "    </tr>\n",
       "    <tr>\n",
       "      <th>30</th>\n",
       "      <td>2021-11</td>\n",
       "      <td>Salary</td>\n",
       "      <td>1800</td>\n",
       "    </tr>\n",
       "    <tr>\n",
       "      <th>31</th>\n",
       "      <td>2021-11</td>\n",
       "      <td>The Pond Rent</td>\n",
       "      <td>2600</td>\n",
       "    </tr>\n",
       "    <tr>\n",
       "      <th>32</th>\n",
       "      <td>2021-11</td>\n",
       "      <td>Wolli Creek Rent</td>\n",
       "      <td>1800</td>\n",
       "    </tr>\n",
       "    <tr>\n",
       "      <th>33</th>\n",
       "      <td>2021-12</td>\n",
       "      <td>Salary</td>\n",
       "      <td>1800</td>\n",
       "    </tr>\n",
       "    <tr>\n",
       "      <th>34</th>\n",
       "      <td>2021-12</td>\n",
       "      <td>The Pond Rent</td>\n",
       "      <td>2600</td>\n",
       "    </tr>\n",
       "    <tr>\n",
       "      <th>35</th>\n",
       "      <td>2021-12</td>\n",
       "      <td>Wolli Creek Rent</td>\n",
       "      <td>1800</td>\n",
       "    </tr>\n",
       "  </tbody>\n",
       "</table>\n",
       "</div>"
      ],
      "text/plain": [
       "     Period       Description  Amount\n",
       "0   2021-01  Salary              2250\n",
       "1   2021-01  The Pond Rent       3250\n",
       "2   2021-01  Wolli Creek Rent    2250\n",
       "3   2021-02  Salary              1800\n",
       "4   2021-02  The Pond Rent       2600\n",
       "5   2021-02  Wolli Creek Rent    1800\n",
       "6   2021-03  Salary              1800\n",
       "7   2021-03  The Pond Rent       2600\n",
       "8   2021-03  Wolli Creek Rent    1800\n",
       "9   2021-04  Salary              2250\n",
       "10  2021-04  The Pond Rent       3250\n",
       "11  2021-04  Wolli Creek Rent    2250\n",
       "12  2021-05  Salary              1800\n",
       "13  2021-05  The Pond Rent       2600\n",
       "14  2021-05  Wolli Creek Rent    1800\n",
       "15  2021-06  Salary              1800\n",
       "16  2021-06  The Pond Rent       2600\n",
       "17  2021-06  Wolli Creek Rent    1800\n",
       "18  2021-07  Salary              2250\n",
       "19  2021-07  The Pond Rent       3250\n",
       "20  2021-07  Wolli Creek Rent    2250\n",
       "21  2021-08  Salary              1800\n",
       "22  2021-08  The Pond Rent       2600\n",
       "23  2021-08  Wolli Creek Rent    1800\n",
       "24  2021-09  Salary              1800\n",
       "25  2021-09  The Pond Rent       2600\n",
       "26  2021-09  Wolli Creek Rent    1800\n",
       "27  2021-10  Salary              2250\n",
       "28  2021-10  The Pond Rent       3250\n",
       "29  2021-10  Wolli Creek Rent    2250\n",
       "30  2021-11  Salary              1800\n",
       "31  2021-11  The Pond Rent       2600\n",
       "32  2021-11  Wolli Creek Rent    1800\n",
       "33  2021-12  Salary              1800\n",
       "34  2021-12  The Pond Rent       2600\n",
       "35  2021-12  Wolli Creek Rent    1800"
      ]
     },
     "execution_count": 118,
     "metadata": {},
     "output_type": "execute_result"
    }
   ],
   "source": [
    "import pandas as pd\n",
    "import numpy as np\n",
    "\n",
    "EndDate = '2021-12-25'\n",
    "\n",
    "\n",
    "######## input your forecast/budget number to the list below ###########\n",
    "     \n",
    "            # Desc         Amt  Start Date  Freq \n",
    "mylist = [['The Pond Rent   ',650,'2021-01-01','7D'],\n",
    "          ['Wolli Creek Rent',450,'2021-01-01','7D'],\n",
    "          ['Salary          ',450,'2021-01-01','7D'],\n",
    "         ]\n",
    "\n",
    "########################################################################\n",
    "\n",
    "\n",
    "df = pd.DataFrame(columns=['Date','Description','Amount'])\n",
    "\n",
    "for i in range(len(mylist)):\n",
    "    date = pd.date_range(mylist[i][2],EndDate,freq=mylist[i][3])\n",
    "    amount = mylist[i][1]\n",
    "    desc = mylist[i][0]\n",
    "    tmp = pd.DataFrame({'Date':date,'Description':desc,'Amount':amount})\n",
    "    df = df.append(tmp)   \n",
    "    \n",
    "# add Period\n",
    "df['Period'] = pd.to_datetime(df['Date']).dt.to_period('M')\n",
    "\n",
    "Total = df[['Period','Description','Amount']]\n",
    "Total.groupby(['Period','Description']).sum().reset_index()\n"
   ]
  },
  {
   "cell_type": "code",
   "execution_count": 194,
   "metadata": {},
   "outputs": [],
   "source": [
    "\n",
    "def cat(string):\n",
    "    \n",
    "# list of keywords, add as you find new ones\n",
    "    WolliRent = ['slick','carena']\n",
    "    ThePondRent    = ['Harcourts','Hills Prestige','Hillside']\n",
    "    Grocery          = ['Coles','Woolworths','Woolworth']\n",
    "    Shopping         = ['REBEL','Chemist']\n",
    "    Salary           = ['Salary']\n",
    "    Internet         = ['TPG']\n",
    "\n",
    "    if string in ' '.join(Grocery):\n",
    "        cat = 'Grocery'\n",
    "    elif string in ' '.join(Salary):\n",
    "        cat = 'Salary'\n",
    "    elif string in ' '.join(Shopping):\n",
    "        cat = 'Internet'\n",
    "    else:\n",
    "        cat = 'Other'\n",
    "\n",
    "    return cat"
   ]
  },
  {
   "cell_type": "code",
   "execution_count": null,
   "metadata": {},
   "outputs": [],
   "source": [
    "x for x in xyz if x not in a"
   ]
  },
  {
   "cell_type": "code",
   "execution_count": 236,
   "metadata": {},
   "outputs": [
    {
     "name": "stdout",
     "output_type": "stream",
     "text": [
      "[0, 4, 6, 7, 9]\n"
     ]
    }
   ],
   "source": [
    "a = [2,3,4,5,6,7,8,9,0]\n",
    "xyz = [0,12,4,6,242,7,9]\n",
    "\n",
    "print([x for x in xyz if x in a])"
   ]
  },
  {
   "cell_type": "code",
   "execution_count": 255,
   "metadata": {},
   "outputs": [
    {
     "name": "stdout",
     "output_type": "stream",
     "text": [
      "cole\n"
     ]
    }
   ],
   "source": [
    "\n",
    "grocery = ['coles','cole','tongli']\n",
    "electronic = ['jb','harvery']\n",
    "\n",
    "mytext = ['this is cole']\n",
    "\n",
    "for i in grocery:\n",
    "    if i in ''.join(mytext):\n",
    "        print (i)\n",
    "        break"
   ]
  },
  {
   "cell_type": "code",
   "execution_count": 257,
   "metadata": {},
   "outputs": [
    {
     "ename": "SyntaxError",
     "evalue": "invalid syntax (<ipython-input-257-6e2e28811905>, line 4)",
     "output_type": "error",
     "traceback": [
      "\u001b[0;36m  File \u001b[0;32m\"<ipython-input-257-6e2e28811905>\"\u001b[0;36m, line \u001b[0;32m4\u001b[0m\n\u001b[0;31m    check = [x for x in xyz if x in ''.join(a):break]\u001b[0m\n\u001b[0m                                              ^\u001b[0m\n\u001b[0;31mSyntaxError\u001b[0m\u001b[0;31m:\u001b[0m invalid syntax\n"
     ]
    }
   ],
   "source": [
    "xyz = ['coles','cole','tongli']\n",
    "a = ['this is coles']\n",
    "\n",
    "check = [x for x in xyz if x in ''.join(a)]\n",
    "\n",
    "for i in check:\n",
    "    cat = 'Groceries'\n",
    "    print(cat)"
   ]
  },
  {
   "cell_type": "code",
   "execution_count": 235,
   "metadata": {},
   "outputs": [
    {
     "ename": "SyntaxError",
     "evalue": "invalid syntax (<ipython-input-235-bd6988c81078>, line 1)",
     "output_type": "error",
     "traceback": [
      "\u001b[0;36m  File \u001b[0;32m\"<ipython-input-235-bd6988c81078>\"\u001b[0;36m, line \u001b[0;32m1\u001b[0m\n\u001b[0;31m    s for s in some_list if myword in s\u001b[0m\n\u001b[0m      ^\u001b[0m\n\u001b[0;31mSyntaxError\u001b[0m\u001b[0;31m:\u001b[0m invalid syntax\n"
     ]
    }
   ],
   "source": [
    "s for s in some_list if myword in s"
   ]
  },
  {
   "cell_type": "code",
   "execution_count": 230,
   "metadata": {},
   "outputs": [],
   "source": [
    "some_list  = ['Coles','Cole']\n",
    "#s = 'Rebel BONDI BONDI JUNCTINSW'\n",
    "if any(\"Rebel\" in s for s in some_list):\n",
    "    print ('OK')\n",
    "        "
   ]
  },
  {
   "cell_type": "code",
   "execution_count": null,
   "metadata": {},
   "outputs": [],
   "source": [
    "j = input('what:')\n",
    "\n",
    "print (j)"
   ]
  },
  {
   "cell_type": "code",
   "execution_count": null,
   "metadata": {},
   "outputs": [],
   "source": [
    "cba = pd.read_csv('/users/ronny/downloads/CSVData-8.csv',header=None,usecols=[0,1,2])\n",
    "cba.columns=['Date','Amount','Desc']"
   ]
  },
  {
   "cell_type": "code",
   "execution_count": 196,
   "metadata": {},
   "outputs": [
    {
     "data": {
      "text/html": [
       "<div>\n",
       "<style scoped>\n",
       "    .dataframe tbody tr th:only-of-type {\n",
       "        vertical-align: middle;\n",
       "    }\n",
       "\n",
       "    .dataframe tbody tr th {\n",
       "        vertical-align: top;\n",
       "    }\n",
       "\n",
       "    .dataframe thead th {\n",
       "        text-align: right;\n",
       "    }\n",
       "</style>\n",
       "<table border=\"1\" class=\"dataframe\">\n",
       "  <thead>\n",
       "    <tr style=\"text-align: right;\">\n",
       "      <th></th>\n",
       "      <th>Date</th>\n",
       "      <th>Amount</th>\n",
       "      <th>Desc</th>\n",
       "      <th>Cat</th>\n",
       "    </tr>\n",
       "  </thead>\n",
       "  <tbody>\n",
       "    <tr>\n",
       "      <th>0</th>\n",
       "      <td>14/01/2021</td>\n",
       "      <td>-54.80</td>\n",
       "      <td>L J HARPER &amp; CO PTY      KIRRAWEE</td>\n",
       "      <td>Other</td>\n",
       "    </tr>\n",
       "    <tr>\n",
       "      <th>1</th>\n",
       "      <td>13/01/2021</td>\n",
       "      <td>-8.20</td>\n",
       "      <td>WW METRO        1716     HAYMARKET   NS</td>\n",
       "      <td>Other</td>\n",
       "    </tr>\n",
       "    <tr>\n",
       "      <th>2</th>\n",
       "      <td>13/01/2021</td>\n",
       "      <td>-10.55</td>\n",
       "      <td>THAI KEE IGA             HAYMARKET   NSW</td>\n",
       "      <td>Other</td>\n",
       "    </tr>\n",
       "    <tr>\n",
       "      <th>3</th>\n",
       "      <td>13/01/2021</td>\n",
       "      <td>-5.99</td>\n",
       "      <td>TONGLI SUPERMARKET QPS   HAYMARKET</td>\n",
       "      <td>Other</td>\n",
       "    </tr>\n",
       "    <tr>\n",
       "      <th>4</th>\n",
       "      <td>12/01/2021</td>\n",
       "      <td>-6.30</td>\n",
       "      <td>ANDERSEN'S OF DENMAR     COOGEE      NSW</td>\n",
       "      <td>Other</td>\n",
       "    </tr>\n",
       "    <tr>\n",
       "      <th>...</th>\n",
       "      <td>...</td>\n",
       "      <td>...</td>\n",
       "      <td>...</td>\n",
       "      <td>...</td>\n",
       "    </tr>\n",
       "    <tr>\n",
       "      <th>115</th>\n",
       "      <td>17/12/2020</td>\n",
       "      <td>-69.99</td>\n",
       "      <td>REBEL BONDI              BONDI JUNCTINSW</td>\n",
       "      <td>Other</td>\n",
       "    </tr>\n",
       "    <tr>\n",
       "      <th>116</th>\n",
       "      <td>17/12/2020</td>\n",
       "      <td>-4.98</td>\n",
       "      <td>CHEMIST WAREHOUSE        HAYMARKET   NSW</td>\n",
       "      <td>Other</td>\n",
       "    </tr>\n",
       "    <tr>\n",
       "      <th>117</th>\n",
       "      <td>17/12/2020</td>\n",
       "      <td>-21.25</td>\n",
       "      <td>WW METRO        1716     HAYMARKET   NS</td>\n",
       "      <td>Other</td>\n",
       "    </tr>\n",
       "    <tr>\n",
       "      <th>118</th>\n",
       "      <td>17/12/2020</td>\n",
       "      <td>-18.00</td>\n",
       "      <td>KMART 1084               BONDI JCT   AUS</td>\n",
       "      <td>Other</td>\n",
       "    </tr>\n",
       "    <tr>\n",
       "      <th>119</th>\n",
       "      <td>17/12/2020</td>\n",
       "      <td>-135.00</td>\n",
       "      <td>Kogan.com 3GLMVU42       Melbourne   AUS</td>\n",
       "      <td>Other</td>\n",
       "    </tr>\n",
       "  </tbody>\n",
       "</table>\n",
       "<p>120 rows × 4 columns</p>\n",
       "</div>"
      ],
      "text/plain": [
       "           Date  Amount                                      Desc    Cat\n",
       "0    14/01/2021  -54.80         L J HARPER & CO PTY      KIRRAWEE  Other\n",
       "1    13/01/2021   -8.20   WW METRO        1716     HAYMARKET   NS  Other\n",
       "2    13/01/2021  -10.55  THAI KEE IGA             HAYMARKET   NSW  Other\n",
       "3    13/01/2021   -5.99        TONGLI SUPERMARKET QPS   HAYMARKET  Other\n",
       "4    12/01/2021   -6.30  ANDERSEN'S OF DENMAR     COOGEE      NSW  Other\n",
       "..          ...     ...                                       ...    ...\n",
       "115  17/12/2020  -69.99  REBEL BONDI              BONDI JUNCTINSW  Other\n",
       "116  17/12/2020   -4.98  CHEMIST WAREHOUSE        HAYMARKET   NSW  Other\n",
       "117  17/12/2020  -21.25   WW METRO        1716     HAYMARKET   NS  Other\n",
       "118  17/12/2020  -18.00  KMART 1084               BONDI JCT   AUS  Other\n",
       "119  17/12/2020 -135.00  Kogan.com 3GLMVU42       Melbourne   AUS  Other\n",
       "\n",
       "[120 rows x 4 columns]"
      ]
     },
     "execution_count": 196,
     "metadata": {},
     "output_type": "execute_result"
    }
   ],
   "source": [
    "cba['Cat'] = cba.apply(lambda x:cat(x['Desc']),axis=1)\n",
    "\n",
    "cba"
   ]
  },
  {
   "cell_type": "code",
   "execution_count": 158,
   "metadata": {},
   "outputs": [
    {
     "data": {
      "text/plain": [
       "6"
      ]
     },
     "execution_count": 158,
     "metadata": {},
     "output_type": "execute_result"
    }
   ],
   "source": [
    "l = 'rebel is the sport'\n",
    "\n",
    "l.find('is')"
   ]
  },
  {
   "cell_type": "code",
   "execution_count": 162,
   "metadata": {},
   "outputs": [
    {
     "data": {
      "text/plain": [
       "True"
      ]
     },
     "execution_count": 162,
     "metadata": {},
     "output_type": "execute_result"
    }
   ],
   "source": [
    "'foo' in '**foo**'"
   ]
  },
  {
   "cell_type": "code",
   "execution_count": 160,
   "metadata": {},
   "outputs": [
    {
     "data": {
      "text/plain": [
       "True"
      ]
     },
     "execution_count": 160,
     "metadata": {},
     "output_type": "execute_result"
    }
   ],
   "source": [
    "'foo' in '**foo**'"
   ]
  },
  {
   "cell_type": "code",
   "execution_count": 180,
   "metadata": {},
   "outputs": [
    {
     "data": {
      "text/plain": [
       "True"
      ]
     },
     "execution_count": 180,
     "metadata": {},
     "output_type": "execute_result"
    }
   ],
   "source": [
    "s = ' '.join(grocery)\n",
    "'Cole' in s"
   ]
  },
  {
   "cell_type": "code",
   "execution_count": 179,
   "metadata": {},
   "outputs": [
    {
     "data": {
      "text/plain": [
       "'Coles Woolworths'"
      ]
     },
     "execution_count": 179,
     "metadata": {},
     "output_type": "execute_result"
    }
   ],
   "source": [
    "s"
   ]
  },
  {
   "cell_type": "code",
   "execution_count": 167,
   "metadata": {},
   "outputs": [
    {
     "data": {
      "text/plain": [
       "True"
      ]
     },
     "execution_count": 167,
     "metadata": {},
     "output_type": "execute_result"
    }
   ],
   "source": [
    "'cole' in 'colesWoolwortjs'"
   ]
  },
  {
   "cell_type": "raw",
   "metadata": {},
   "source": [
    "grocery"
   ]
  },
  {
   "cell_type": "code",
   "execution_count": null,
   "metadata": {},
   "outputs": [],
   "source": []
  }
 ],
 "metadata": {
  "kernelspec": {
   "display_name": "Python 3",
   "language": "python",
   "name": "python3"
  },
  "language_info": {
   "codemirror_mode": {
    "name": "ipython",
    "version": 3
   },
   "file_extension": ".py",
   "mimetype": "text/x-python",
   "name": "python",
   "nbconvert_exporter": "python",
   "pygments_lexer": "ipython3",
   "version": "3.8.3"
  }
 },
 "nbformat": 4,
 "nbformat_minor": 4
}
