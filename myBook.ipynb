{
 "cells": [
  {
   "cell_type": "markdown",
   "metadata": {},
   "source": [
    "### Table of Contents\n",
    "\n",
    "[Purpose](#intro)  \n",
    "[Basic GIT](#git) \n",
    "   \n",
    "[Data Wrangling](#nothing)\n",
    " * [Python For Function](#wrangling1)\n",
    " * [Python Escape ', Enter New Line , Enter Long Text (Triple quote), Combine string values ](#wrangling2)\n",
    " * [Numpy](#wrangling3)\n",
    " * [Pandas](#wrangling4)\n",
    "      * [Looping DataFrame Like Excel](#wrangling5)\n",
    "      * [GroupBy](#wrangling6)\n",
    " * [Looping Panda Rows](#LoopPanda) \n",
    " * [Creating Function Examples](#function)  \n",
    " * [map](#map)  \n",
    " * [Numpy Random Choice](#randchoice)  \n",
    " * [Data Wrangling Words](#Words)  \n",
    " \n",
    "\n",
    "[Algorithms explanation high level](#algorithms)\n",
    "\n",
    "\n",
    "[Visualisation](#nothing)  \n",
    " * [Seaborn](#seaborn)\n",
    " * [pairplot](#pairplot)  \n",
    "\n",
    "\n",
    "[Linear Example](#ExLinear)  \n",
    "[Classification Example](#ExClassification)  \n",
    "[Evaluation Matrix](#Evaluation)  \n",
    "[Handwriting Example](#Handwriting)  \n",
    "\n",
    "[COVID Data](#COVID)  \n",
    "[Stock Advice](#Yahoo)  \n",
    "[Forecasting](#forecast)"
   ]
  },
  {
   "cell_type": "markdown",
   "metadata": {},
   "source": [
    "\n",
    "# Purpose <a id='intro'></a>\n",
    "\n",
    "This book consists of all the stuff that I have learnt over the years using python for data science works. \n",
    "Sometimes, it is quite easy to forget the concept and codes. Hence, this book is created to help me refresh my memory to do data science works.\n",
    "\n",
    "This book also uses markdown coding to format the paragraph to more readable way. Please [refer to this website](https://www.markdownguide.org/cheat-sheet/) for quick guide on some of the tricks.\n",
    "\n",
    "Some of the basic to cover in this book :\n",
    "\n",
    "1. Visualisation - Seaborn\n",
    "2. Visualisation - Matplotlib\n",
    "\n",
    "\n",
    "> JUST LIKE JIUJITSU, YOU NEED TO KEEP **_PRACTISE_** TO REMEMBER SOME OF THE MOVES\n",
    "\n",
    "\n",
    "I always forget how to code certain things if I have not touched python for a while. So this book will help me to refresh some of the stuff I have learn over the years.\n",
    "\n",
    "Some of the questions that always come everytime I forget python :\n",
    "\n",
    "* How to search string \n",
    "* How to do visualisation on certain data \n",
    "* Where can I find available data online (built-in) from Python\n",
    "\n",
    "\n"
   ]
  },
  {
   "cell_type": "markdown",
   "metadata": {},
   "source": [
    "# Basic GIT <a id='git'></a>\n",
    "\n",
    "[Usefull Internet Link](https://www.w3docs.com/snippets/git/how-to-compare-local-and-remote-branches.html)\n",
    "\n",
    "\n",
    "**Workaround getting the folder to a specified folder when opening Jupyter notebook**\n",
    "\n",
    "- Open Anaconda Prompt\n",
    "- Go to your specific directory, e.g. in work laptop chdir \\users\\m118954\\users\\mydsbook\n",
    "- then type jupyter notebook\n",
    "- it will open a browser in that directory\n",
    "\n",
    "**1. Understanding how git works**\n",
    "\n",
    "Git contains two folders, one in the server (master) and one in your local drive.\n",
    "When you work in the local drive, you need to create a branch as your work-in-progress area.\n",
    "\n",
    "So for example you can do :\n",
    "- git branch laptop or \n",
    "- git branch mac or \n",
    "- git branch phobepc\n",
    "\n",
    "Then you can use merge before pushing back to server (master)\n",
    "\n",
    "**_Also to remember you can always use Git Status and there will be some commands to help_**\n",
    "\n",
    "**2. Some basic commands to start pushing git file to server**\n",
    "\n",
    "Firstly you need to create a repository in www.github.com and note the name of the repository for later\n",
    "\n",
    "In your local drive do the following :\n",
    "- git init  (to start the tracking file)\n",
    "- git add README.md   (to add a file to track in git)\n",
    "- git commit -m \"first commit\"  (commit the changes/new file to staging area in your local git drive)\n",
    "- git remote add origin https://github.com/RonnyCh/test.git  (link to the server repository)\n",
    "- git push -u origin master (You do this once at the beginning and next one just git push)\n",
    "\n",
    "**3. To check the url or changing the url**\n",
    "\n",
    "- git remote get-url origin (checking URL)\n",
    "- git remote set-url origin https://github.com/RonnyCh/test.git  (changing URL)\n",
    "\n",
    "\n",
    "**4. Branching**\n",
    "\n",
    "- git branch (branchName)\n",
    "- git checkout (branchName)   >>>> go to that branch\n",
    "    \n",
    "You can then work on your local branch and do whatever. Do the same steps as step 2 to add, commit etc in the branch.\n",
    "The only difference when you push you push to local branch. In this case, you'll do the following code\n",
    "- git push --set-upstream origin (branchname)    \n",
    "\n",
    "Then, you need to merge your local file to master in your local drive. \n",
    "- git checkout master     >>>>  go to master\n",
    "- git merge (branchName)  >>>>  to sync it\n",
    "- git push\n",
    "- git branch -d (branchName) >>>> if you don't need that branch anymore\n",
    "\n",
    "\n",
    "To list all branches, make sure you go to the directory first otherwise it won't work\n",
    "- git branch -a\n",
    "\n",
    "**5. Git Remove**\n",
    "\n",
    "This is opposite of git add. This is if you want to remove files from being tracked.\n",
    "\n",
    "- git rm filename\n",
    "\n",
    "To undo or ignore your local changes, do the following\n",
    "- git restore filename  (keep doing this from undo even from commit)\n",
    "\n",
    "\n",
    "\n",
    "# Others\n",
    "reset the local files. e.g you delete some files from github web and want to force overwrite to local file\n",
    "\n",
    "git fetch --all  \n",
    "git reset --hard origin/master (for master branch) or  \n",
    "git reset --hard origin/<branch_name> >>> for specific branch name  \n",
    "https://stackoverflow.com/questions/1125968/how-do-i-force-git-pull-to-overwrite-local-files\n",
    "\n",
    "Notes on command to read text file\n",
    "\n",
    "use command cat readme.md\n",
    "\n",
    "\n",
    "###to restore files you accidentaly remove using git rm\n",
    "\n",
    "1. Git Status >>> to see the files that have been deleted\n",
    "2. Git reset Head\n",
    "3. Git checkout -- xxx.ipynb (filename)"
   ]
  },
  {
   "cell_type": "code",
   "execution_count": 130,
   "metadata": {},
   "outputs": [],
   "source": [
    "import seaborn as sns\n",
    "iris = sns.load_dataset('iris')\n",
    "titanic = sns.load_dataset('titanic')\n",
    "car_crashes = sns.load_dataset('car_crashes')\n",
    "exercise = sns.load_dataset('exercise')\n",
    "tips = sns.load_dataset('tips')\n",
    "mpg = sns.load_dataset('mpg')\n",
    "planets = sns.load_dataset('planets')\n",
    "flights = sns.load_dataset('flights')\n",
    "diamonds = sns.load_dataset('diamonds')\n",
    "fmri = sns.load_dataset('fmri')\n",
    "\n",
    "\n",
    "from sklearn.datasets import load_boston"
   ]
  },
  {
   "cell_type": "markdown",
   "metadata": {},
   "source": [
    "# This book will use the datasets from Seaborn\n",
    "\n",
    "You can do the below codes to get some data from Seaborn such as Titanic or Iris. The full list can be downloaded from the code below.\n",
    "\n",
    "If you use work laptop, you need to run download all the files first since network blocking downloading the datasets.\n",
    "\n",
    "To get the full list of dataset, run the code below.\n",
    "\n",
    "> **import seaborn as sns**  \n",
    "> **sns.get_dataset_names()**"
   ]
  },
  {
   "cell_type": "markdown",
   "metadata": {},
   "source": [
    "# Download all the datasets first <a id='list1'></a>"
   ]
  },
  {
   "cell_type": "markdown",
   "metadata": {},
   "source": [
    "# Python For Statement <a id='wrangling1'></a>"
   ]
  },
  {
   "cell_type": "code",
   "execution_count": 43,
   "metadata": {},
   "outputs": [
    {
     "name": "stdout",
     "output_type": "stream",
     "text": [
      "Mercury Venus Earth Mars Jupiter Saturn Uranus Neptune "
     ]
    }
   ],
   "source": [
    "planets = ['Mercury', 'Venus', 'Earth', 'Mars', 'Jupiter', 'Saturn', 'Uranus', 'Neptune']\n",
    "for planet in planets:\n",
    "    print(planet,end=\" \") # print all on same line"
   ]
  },
  {
   "cell_type": "code",
   "execution_count": 44,
   "metadata": {},
   "outputs": [
    {
     "name": "stdout",
     "output_type": "stream",
     "text": [
      "HELLO"
     ]
    }
   ],
   "source": [
    "s = 'steganograpHy is the practicE of conceaLing a file, message, image, or video within another fiLe, message, image, Or video.'\n",
    "msg = ''\n",
    "# print all the uppercase letters in s, one at a time\n",
    "for char in s:\n",
    "    if char.isupper():\n",
    "        print(char, end='')"
   ]
  },
  {
   "cell_type": "code",
   "execution_count": 45,
   "metadata": {},
   "outputs": [
    {
     "name": "stdout",
     "output_type": "stream",
     "text": [
      "0 1 2 3 4 5 6 7 8 9 "
     ]
    }
   ],
   "source": [
    "i = 0\n",
    "while i < 10:\n",
    "    print(i, end=' ')\n",
    "    i += 1"
   ]
  },
  {
   "cell_type": "code",
   "execution_count": 46,
   "metadata": {},
   "outputs": [
    {
     "data": {
      "text/plain": [
       "[0, 2, 4, 6, 8]"
      ]
     },
     "execution_count": 46,
     "metadata": {},
     "output_type": "execute_result"
    }
   ],
   "source": [
    "[n*2 for n in range(5)]    # for within a bracket"
   ]
  },
  {
   "cell_type": "code",
   "execution_count": 47,
   "metadata": {},
   "outputs": [
    {
     "data": {
      "text/plain": [
       "[0, 2, 4, 6, 8]"
      ]
     },
     "execution_count": 47,
     "metadata": {},
     "output_type": "execute_result"
    }
   ],
   "source": [
    "x = []                     # an alternative code of the above\n",
    "\n",
    "for n in range(5):\n",
    "    x.append(n*2)\n",
    "x"
   ]
  },
  {
   "cell_type": "code",
   "execution_count": 48,
   "metadata": {},
   "outputs": [
    {
     "data": {
      "text/plain": [
       "[0, 1, 2, 3, 4, 5, 6, 7, 8, 9, 10, 11, 12, 13, 14]"
      ]
     },
     "execution_count": 48,
     "metadata": {},
     "output_type": "execute_result"
    }
   ],
   "source": [
    "myval = range(20)                # initially up to 20\n",
    "\n",
    "[n for n in myval if n <15]      # use if to limit below 15\n"
   ]
  },
  {
   "cell_type": "code",
   "execution_count": 49,
   "metadata": {},
   "outputs": [
    {
     "data": {
      "text/plain": [
       "['VENUS!', 'EARTH!', 'MARS!']"
      ]
     },
     "execution_count": 49,
     "metadata": {},
     "output_type": "execute_result"
    }
   ],
   "source": [
    "planets = ['Mercury', 'Venus', 'Earth', 'Mars', 'Jupiter', 'Saturn', 'Uranus', 'Neptune']\n",
    "\n",
    "[planet.upper() + '!' for planet in planets if len(planet) < 6]"
   ]
  },
  {
   "cell_type": "code",
   "execution_count": 50,
   "metadata": {},
   "outputs": [
    {
     "name": "stdout",
     "output_type": "stream",
     "text": [
      "mercury\n",
      "venus\n",
      "earth\n",
      "mars\n",
      "jupiter\n",
      "saturn\n",
      "uranus\n",
      "neptune\n"
     ]
    }
   ],
   "source": [
    "for s in planets:\n",
    "    print (s.lower())"
   ]
  },
  {
   "cell_type": "markdown",
   "metadata": {},
   "source": [
    "# Python Escape ', Enter New Line, Enter Long Text (Triple Quote)<a id='wrangling2'></a>"
   ]
  },
  {
   "cell_type": "code",
   "execution_count": 51,
   "metadata": {},
   "outputs": [
    {
     "data": {
      "text/plain": [
       "\"my name is ronny and this is ronny's book\""
      ]
     },
     "execution_count": 51,
     "metadata": {},
     "output_type": "execute_result"
    }
   ],
   "source": [
    "'my name is ronny and this is ronny\\'s book'           # escape is \\ before ' or \"\""
   ]
  },
  {
   "cell_type": "code",
   "execution_count": 52,
   "metadata": {},
   "outputs": [
    {
     "name": "stdout",
     "output_type": "stream",
     "text": [
      "1\n",
      "2 3\n",
      "Oke tripple quote you can just enter like normal \n",
      "paragrah and it will look exactly like that\n"
     ]
    }
   ],
   "source": [
    "\n",
    "print (\"1\\n2 3\")      #\\n to enter a new line\n",
    "\n",
    "print (\"\"\"Oke tripple quote you can just enter like normal \n",
    "paragrah and it will look exactly like that\"\"\")"
   ]
  },
  {
   "cell_type": "code",
   "execution_count": 53,
   "metadata": {},
   "outputs": [
    {
     "name": "stdout",
     "output_type": "stream",
     "text": [
      "[1, 2, 3]\n",
      "5\n",
      "[1, 2]\n"
     ]
    }
   ],
   "source": [
    "mylist = [1,2,3,4,5]\n",
    "\n",
    "\n",
    "print (mylist[:3])      # pick up first 3\n",
    "print (mylist[-1])      # pick up last one from right\n",
    "\n",
    "print (mylist[:-3])     # Exclude the last 3 from right"
   ]
  },
  {
   "cell_type": "code",
   "execution_count": 54,
   "metadata": {},
   "outputs": [
    {
     "data": {
      "text/plain": [
       "['oke', 'this', 'is', 'it']"
      ]
     },
     "execution_count": 54,
     "metadata": {},
     "output_type": "execute_result"
    }
   ],
   "source": [
    "myword = \"oke this is it\"\n",
    "myword.split()"
   ]
  },
  {
   "cell_type": "code",
   "execution_count": 55,
   "metadata": {},
   "outputs": [
    {
     "data": {
      "text/plain": [
       "'01/31/1956'"
      ]
     },
     "execution_count": 55,
     "metadata": {},
     "output_type": "execute_result"
    }
   ],
   "source": [
    "datestr = '1956-01-31'\n",
    "year, month, day = datestr.split('-')\n",
    "\n",
    "'/'.join([month, day, year])"
   ]
  },
  {
   "cell_type": "code",
   "execution_count": 56,
   "metadata": {},
   "outputs": [
    {
     "name": "stdout",
     "output_type": "stream",
     "text": [
      "The enemey gets hit for 2000 hitpoints\n"
     ]
    }
   ],
   "source": [
    "damage =2000\n",
    "\n",
    "print('The enemey gets hit for {} hitpoints'.format(damage))"
   ]
  },
  {
   "cell_type": "markdown",
   "metadata": {},
   "source": [
    "# Generating random numbers in Numpy <a id='wrangling3'></a>\n",
    "\n",
    "You can use a few commands :\n",
    "* random.rand(no of array, no of row, no of col)  or if you just use random.rand(10) it will just pick up 10 random numbers \n",
    "* linspace(start value, end value, no of numbers within the range)\n",
    "\n",
    "Below codes showing some samples to explain the differences better."
   ]
  },
  {
   "cell_type": "code",
   "execution_count": 57,
   "metadata": {},
   "outputs": [
    {
     "data": {
      "text/plain": [
       "array([ 1.  ,  5.75, 10.5 , 15.25, 20.  ])"
      ]
     },
     "execution_count": 57,
     "metadata": {},
     "output_type": "execute_result"
    }
   ],
   "source": [
    "import numpy as np\n",
    "np.linspace(1,20,5)     # from number 1 to 20 give me 5 samples (incremental)"
   ]
  },
  {
   "cell_type": "code",
   "execution_count": 58,
   "metadata": {},
   "outputs": [
    {
     "data": {
      "text/plain": [
       "array([6, 7, 1, 9, 4, 6, 1, 4, 4, 1])"
      ]
     },
     "execution_count": 58,
     "metadata": {},
     "output_type": "execute_result"
    }
   ],
   "source": [
    "np.random.randint(1,10,10)   # give random integer numbers from 1 to 9, with total of 10 random numbers"
   ]
  },
  {
   "cell_type": "code",
   "execution_count": 59,
   "metadata": {},
   "outputs": [
    {
     "data": {
      "text/plain": [
       "array([[0.04776314, 0.60853412],\n",
       "       [0.06896739, 0.70703182],\n",
       "       [0.11363513, 0.7713452 ],\n",
       "       [0.73597082, 0.13616833],\n",
       "       [0.51848627, 0.69100492],\n",
       "       [0.42868892, 0.6772311 ],\n",
       "       [0.07951697, 0.0175057 ],\n",
       "       [0.60336347, 0.36178981],\n",
       "       [0.6717726 , 0.79478584],\n",
       "       [0.27727378, 0.4641725 ]])"
      ]
     },
     "execution_count": 59,
     "metadata": {},
     "output_type": "execute_result"
    }
   ],
   "source": [
    "np.random.rand(10,2)     # give me an array of 10 rows and 2 columns"
   ]
  },
  {
   "cell_type": "code",
   "execution_count": 60,
   "metadata": {},
   "outputs": [
    {
     "data": {
      "text/plain": [
       "array([[0.11716042, 0.9491351 ],\n",
       "       [0.14459522, 1.52657707],\n",
       "       [0.39439579, 1.87124892],\n",
       "       [1.11671372, 2.50606641]])"
      ]
     },
     "execution_count": 60,
     "metadata": {},
     "output_type": "execute_result"
    }
   ],
   "source": [
    "np.random.rand(4,2).cumsum(axis=0)     # a cool one to create a cumulative sum for each column --> axis = 0"
   ]
  },
  {
   "cell_type": "markdown",
   "metadata": {},
   "source": [
    "<a id='randchoice'></a>"
   ]
  },
  {
   "cell_type": "code",
   "execution_count": 61,
   "metadata": {},
   "outputs": [
    {
     "name": "stdout",
     "output_type": "stream",
     "text": [
      "['E' 'B' 'B']\n",
      "['C' 'E' 'A']\n",
      "['C' 'A' 'B']\n",
      "['E' 'A' 'D']\n"
     ]
    }
   ],
   "source": [
    "import numpy as np \n",
    "j = ['A','B','C','D','E']\n",
    "\n",
    "\n",
    "for i in range(4):\n",
    "    s = np.random.choice(j, 3, replace='False')    # random pick j (3 items) and replacement no\n",
    "    print (s)"
   ]
  },
  {
   "cell_type": "markdown",
   "metadata": {},
   "source": [
    "# Pandas Cheat Sheet <a id='wrangling4'></a>"
   ]
  },
  {
   "cell_type": "markdown",
   "metadata": {},
   "source": [
    "\n",
    "```python\n",
    "data = np.random.rand(5,4)                                 # create some random numbers with 5 rows and 4 columns\n",
    "header = ['A','B','C','D']                                 # create headers a, b ,c, d\n",
    "index = ['row1','row2','row3','row4','row5']               # create 4 rows\n",
    "pd.DataFrame(data,index,header)                            # create a dataframe based on the above parameters\n",
    "\n",
    "df['Age'] = df['Age'].replace(np.nan, df['Age'].mean())    # replacing null value option 1\n",
    "df['Age'] = df['Age'].fillna(df['Age'].mean())             # replacing null value option 2\n",
    "\n",
    "\n",
    "df['pclass'].remove_duplicates()                           # remove duplicates, good for creating mapping\n",
    "\n",
    "\n",
    "import pandas as pd\n",
    "pd.date_range('2019/10/31',periods=10, freq='M')           # create date series\n",
    "tips['total_bill'].hist()                                  # a quick histogram using pandas\n",
    "\n",
    "\n",
    "titanic[titanic['sex'].isin(['female','male'])]            # filtring using isin... for numbers get rid of the single quote\n",
    "titanic.drop(['fare','adult_male','deck'],axis=1)          # dropping columns\n",
    "titanic.embark_town.unique()                               # find unique values in a field\n",
    "titanic.embark_town.value_counts()                         # count total values \n",
    "\n",
    "\n",
    "```"
   ]
  },
  {
   "cell_type": "markdown",
   "metadata": {},
   "source": [
    "# Looping Pandas Rows Like Excel Offset <a id='wrangling5'></a>"
   ]
  },
  {
   "cell_type": "code",
   "execution_count": 62,
   "metadata": {},
   "outputs": [
    {
     "data": {
      "text/html": [
       "<div>\n",
       "<style scoped>\n",
       "    .dataframe tbody tr th:only-of-type {\n",
       "        vertical-align: middle;\n",
       "    }\n",
       "\n",
       "    .dataframe tbody tr th {\n",
       "        vertical-align: top;\n",
       "    }\n",
       "\n",
       "    .dataframe thead th {\n",
       "        text-align: right;\n",
       "    }\n",
       "</style>\n",
       "<table border=\"1\" class=\"dataframe\">\n",
       "  <thead>\n",
       "    <tr style=\"text-align: right;\">\n",
       "      <th></th>\n",
       "      <th>CustName</th>\n",
       "      <th>Amount</th>\n",
       "      <th>IsFraud</th>\n",
       "      <th>PrevRow</th>\n",
       "      <th>Sum3rows</th>\n",
       "      <th>Avg3rows</th>\n",
       "    </tr>\n",
       "  </thead>\n",
       "  <tbody>\n",
       "    <tr>\n",
       "      <th>0</th>\n",
       "      <td>Ronny</td>\n",
       "      <td>5.50</td>\n",
       "      <td>N</td>\n",
       "      <td>nan</td>\n",
       "      <td>nan</td>\n",
       "      <td>nan</td>\n",
       "    </tr>\n",
       "    <tr>\n",
       "      <th>1</th>\n",
       "      <td>Ronny</td>\n",
       "      <td>25.00</td>\n",
       "      <td>Y</td>\n",
       "      <td>nan</td>\n",
       "      <td>nan</td>\n",
       "      <td>nan</td>\n",
       "    </tr>\n",
       "    <tr>\n",
       "      <th>2</th>\n",
       "      <td>Fu</td>\n",
       "      <td>3.50</td>\n",
       "      <td>N</td>\n",
       "      <td>25.00</td>\n",
       "      <td>34.00</td>\n",
       "      <td>11.33</td>\n",
       "    </tr>\n",
       "    <tr>\n",
       "      <th>3</th>\n",
       "      <td>Fu</td>\n",
       "      <td>14.00</td>\n",
       "      <td>N</td>\n",
       "      <td>3.50</td>\n",
       "      <td>42.50</td>\n",
       "      <td>14.17</td>\n",
       "    </tr>\n",
       "    <tr>\n",
       "      <th>4</th>\n",
       "      <td>Chin</td>\n",
       "      <td>20.00</td>\n",
       "      <td>N</td>\n",
       "      <td>14.00</td>\n",
       "      <td>37.50</td>\n",
       "      <td>12.50</td>\n",
       "    </tr>\n",
       "    <tr>\n",
       "      <th>5</th>\n",
       "      <td>Dang</td>\n",
       "      <td>16.00</td>\n",
       "      <td>N</td>\n",
       "      <td>20.00</td>\n",
       "      <td>50.00</td>\n",
       "      <td>16.67</td>\n",
       "    </tr>\n",
       "  </tbody>\n",
       "</table>\n",
       "</div>"
      ],
      "text/plain": [
       "  CustName  Amount IsFraud  PrevRow  Sum3rows  Avg3rows\n",
       "0    Ronny    5.50       N      nan       nan       nan\n",
       "1    Ronny   25.00       Y      nan       nan       nan\n",
       "2       Fu    3.50       N    25.00     34.00     11.33\n",
       "3       Fu   14.00       N     3.50     42.50     14.17\n",
       "4     Chin   20.00       N    14.00     37.50     12.50\n",
       "5     Dang   16.00       N    20.00     50.00     16.67"
      ]
     },
     "execution_count": 62,
     "metadata": {},
     "output_type": "execute_result"
    }
   ],
   "source": [
    "import pandas as pd\n",
    "df = pd.DataFrame({'CustName' : ['Ronny', 'Ronny', 'Fu', 'Fu', 'Chin', 'Dang'],\n",
    "                   'Amount' : [5.5, 25, 3.5, 14, 20, 16],\n",
    "                   'IsFraud' : ['N', 'Y', 'N', 'N', 'N', 'N']})\n",
    "\n",
    "\n",
    "# use for (looping) and loc index to move or offsetting between rows\n",
    "for i in range(2,len(df['Amount'])):\n",
    "    df.loc[i,'PrevRow'] = df.loc[i-1,'Amount']\n",
    "    df.loc[i,'Sum3rows'] = sum(df.loc[i-2:i,'Amount']) \n",
    "    df.loc[i,'Avg3rows'] = sum(df.loc[i-2:i,'Amount'])/len(df.loc[i-2:i,'Amount'])   # average is done using sum/len\n",
    "\n",
    "df\n"
   ]
  },
  {
   "cell_type": "markdown",
   "metadata": {},
   "source": [
    "\n",
    "## PANDAS GroupBy and FILTERING DATA <a id='wrangling6'></a>\n",
    "\n",
    "\n",
    "You can also use Pandas like SQL, below link will show you more details.\n",
    "https://pandas.pydata.org/pandas-docs/stable/getting_started/comparison/comparison_with_sql.html\n",
    "\n",
    "Below is an exampe on how left join work in pandas and how you can filter null result where mapping does not work\n"
   ]
  },
  {
   "cell_type": "code",
   "execution_count": 63,
   "metadata": {},
   "outputs": [
    {
     "data": {
      "text/html": [
       "<div>\n",
       "<style scoped>\n",
       "    .dataframe tbody tr th:only-of-type {\n",
       "        vertical-align: middle;\n",
       "    }\n",
       "\n",
       "    .dataframe tbody tr th {\n",
       "        vertical-align: top;\n",
       "    }\n",
       "\n",
       "    .dataframe thead th {\n",
       "        text-align: right;\n",
       "    }\n",
       "</style>\n",
       "<table border=\"1\" class=\"dataframe\">\n",
       "  <thead>\n",
       "    <tr style=\"text-align: right;\">\n",
       "      <th></th>\n",
       "      <th>CustName</th>\n",
       "      <th>Amount</th>\n",
       "      <th>IsFraud</th>\n",
       "    </tr>\n",
       "  </thead>\n",
       "  <tbody>\n",
       "    <tr>\n",
       "      <th>0</th>\n",
       "      <td>Ronny</td>\n",
       "      <td>5.50</td>\n",
       "      <td>N</td>\n",
       "    </tr>\n",
       "    <tr>\n",
       "      <th>1</th>\n",
       "      <td>Ronny</td>\n",
       "      <td>25.00</td>\n",
       "      <td>Y</td>\n",
       "    </tr>\n",
       "    <tr>\n",
       "      <th>2</th>\n",
       "      <td>Fu</td>\n",
       "      <td>3.50</td>\n",
       "      <td>N</td>\n",
       "    </tr>\n",
       "    <tr>\n",
       "      <th>3</th>\n",
       "      <td>Fu</td>\n",
       "      <td>14.00</td>\n",
       "      <td>N</td>\n",
       "    </tr>\n",
       "    <tr>\n",
       "      <th>4</th>\n",
       "      <td>Chin</td>\n",
       "      <td>20.00</td>\n",
       "      <td>N</td>\n",
       "    </tr>\n",
       "    <tr>\n",
       "      <th>5</th>\n",
       "      <td>Dang</td>\n",
       "      <td>16.00</td>\n",
       "      <td>N</td>\n",
       "    </tr>\n",
       "  </tbody>\n",
       "</table>\n",
       "</div>"
      ],
      "text/plain": [
       "  CustName  Amount IsFraud\n",
       "0    Ronny    5.50       N\n",
       "1    Ronny   25.00       Y\n",
       "2       Fu    3.50       N\n",
       "3       Fu   14.00       N\n",
       "4     Chin   20.00       N\n",
       "5     Dang   16.00       N"
      ]
     },
     "execution_count": 63,
     "metadata": {},
     "output_type": "execute_result"
    }
   ],
   "source": [
    "df = pd.DataFrame({'CustName' : ['Ronny', 'Ronny', 'Fu', 'Fu', 'Chin', 'Dang'],\n",
    "                   'Amount' : [5.5, 25, 3.5, 14, 20, 16],\n",
    "                   'IsFraud' : ['N', 'Y', 'N', 'N', 'N', 'N']})\n",
    "df"
   ]
  },
  {
   "cell_type": "code",
   "execution_count": 64,
   "metadata": {},
   "outputs": [
    {
     "data": {
      "text/html": [
       "<div>\n",
       "<style scoped>\n",
       "    .dataframe tbody tr th:only-of-type {\n",
       "        vertical-align: middle;\n",
       "    }\n",
       "\n",
       "    .dataframe tbody tr th {\n",
       "        vertical-align: top;\n",
       "    }\n",
       "\n",
       "    .dataframe thead th {\n",
       "        text-align: right;\n",
       "    }\n",
       "</style>\n",
       "<table border=\"1\" class=\"dataframe\">\n",
       "  <thead>\n",
       "    <tr style=\"text-align: right;\">\n",
       "      <th></th>\n",
       "      <th>Amount</th>\n",
       "      <th>IsFraud</th>\n",
       "    </tr>\n",
       "    <tr>\n",
       "      <th>CustName</th>\n",
       "      <th></th>\n",
       "      <th></th>\n",
       "    </tr>\n",
       "  </thead>\n",
       "  <tbody>\n",
       "    <tr>\n",
       "      <th>Chin</th>\n",
       "      <td>1</td>\n",
       "      <td>1</td>\n",
       "    </tr>\n",
       "    <tr>\n",
       "      <th>Dang</th>\n",
       "      <td>1</td>\n",
       "      <td>1</td>\n",
       "    </tr>\n",
       "    <tr>\n",
       "      <th>Fu</th>\n",
       "      <td>2</td>\n",
       "      <td>2</td>\n",
       "    </tr>\n",
       "    <tr>\n",
       "      <th>Ronny</th>\n",
       "      <td>2</td>\n",
       "      <td>2</td>\n",
       "    </tr>\n",
       "  </tbody>\n",
       "</table>\n",
       "</div>"
      ],
      "text/plain": [
       "          Amount  IsFraud\n",
       "CustName                 \n",
       "Chin           1        1\n",
       "Dang           1        1\n",
       "Fu             2        2\n",
       "Ronny          2        2"
      ]
     },
     "execution_count": 64,
     "metadata": {},
     "output_type": "execute_result"
    }
   ],
   "source": [
    "df.groupby('CustName').count()"
   ]
  },
  {
   "cell_type": "code",
   "execution_count": 65,
   "metadata": {},
   "outputs": [
    {
     "data": {
      "text/html": [
       "<div>\n",
       "<style scoped>\n",
       "    .dataframe tbody tr th:only-of-type {\n",
       "        vertical-align: middle;\n",
       "    }\n",
       "\n",
       "    .dataframe tbody tr th {\n",
       "        vertical-align: top;\n",
       "    }\n",
       "\n",
       "    .dataframe thead th {\n",
       "        text-align: right;\n",
       "    }\n",
       "</style>\n",
       "<table border=\"1\" class=\"dataframe\">\n",
       "  <thead>\n",
       "    <tr style=\"text-align: right;\">\n",
       "      <th></th>\n",
       "      <th>Amount</th>\n",
       "    </tr>\n",
       "    <tr>\n",
       "      <th>CustName</th>\n",
       "      <th></th>\n",
       "    </tr>\n",
       "  </thead>\n",
       "  <tbody>\n",
       "    <tr>\n",
       "      <th>Chin</th>\n",
       "      <td>20.00</td>\n",
       "    </tr>\n",
       "    <tr>\n",
       "      <th>Dang</th>\n",
       "      <td>16.00</td>\n",
       "    </tr>\n",
       "    <tr>\n",
       "      <th>Fu</th>\n",
       "      <td>17.50</td>\n",
       "    </tr>\n",
       "    <tr>\n",
       "      <th>Ronny</th>\n",
       "      <td>30.50</td>\n",
       "    </tr>\n",
       "  </tbody>\n",
       "</table>\n",
       "</div>"
      ],
      "text/plain": [
       "          Amount\n",
       "CustName        \n",
       "Chin       20.00\n",
       "Dang       16.00\n",
       "Fu         17.50\n",
       "Ronny      30.50"
      ]
     },
     "execution_count": 65,
     "metadata": {},
     "output_type": "execute_result"
    }
   ],
   "source": [
    "df.groupby('CustName').sum()"
   ]
  },
  {
   "cell_type": "code",
   "execution_count": 66,
   "metadata": {},
   "outputs": [
    {
     "data": {
      "text/html": [
       "<div>\n",
       "<style scoped>\n",
       "    .dataframe tbody tr th:only-of-type {\n",
       "        vertical-align: middle;\n",
       "    }\n",
       "\n",
       "    .dataframe tbody tr th {\n",
       "        vertical-align: top;\n",
       "    }\n",
       "\n",
       "    .dataframe thead th {\n",
       "        text-align: right;\n",
       "    }\n",
       "</style>\n",
       "<table border=\"1\" class=\"dataframe\">\n",
       "  <thead>\n",
       "    <tr style=\"text-align: right;\">\n",
       "      <th></th>\n",
       "      <th>CustName</th>\n",
       "      <th>Amount</th>\n",
       "      <th>IsFraud</th>\n",
       "    </tr>\n",
       "  </thead>\n",
       "  <tbody>\n",
       "    <tr>\n",
       "      <th>0</th>\n",
       "      <td>Ronny</td>\n",
       "      <td>5.50</td>\n",
       "      <td>N</td>\n",
       "    </tr>\n",
       "    <tr>\n",
       "      <th>1</th>\n",
       "      <td>Ronny</td>\n",
       "      <td>25.00</td>\n",
       "      <td>Y</td>\n",
       "    </tr>\n",
       "    <tr>\n",
       "      <th>2</th>\n",
       "      <td>Fu</td>\n",
       "      <td>3.50</td>\n",
       "      <td>N</td>\n",
       "    </tr>\n",
       "    <tr>\n",
       "      <th>3</th>\n",
       "      <td>Fu</td>\n",
       "      <td>14.00</td>\n",
       "      <td>N</td>\n",
       "    </tr>\n",
       "  </tbody>\n",
       "</table>\n",
       "</div>"
      ],
      "text/plain": [
       "  CustName  Amount IsFraud\n",
       "0    Ronny    5.50       N\n",
       "1    Ronny   25.00       Y\n",
       "2       Fu    3.50       N\n",
       "3       Fu   14.00       N"
      ]
     },
     "execution_count": 66,
     "metadata": {},
     "output_type": "execute_result"
    }
   ],
   "source": [
    "df.groupby('CustName').filter(lambda x:x['IsFraud'].count()>1)"
   ]
  },
  {
   "cell_type": "code",
   "execution_count": 67,
   "metadata": {},
   "outputs": [],
   "source": [
    "mylist = ['Ronny','Dang']"
   ]
  },
  {
   "cell_type": "code",
   "execution_count": 68,
   "metadata": {},
   "outputs": [
    {
     "data": {
      "text/html": [
       "<div>\n",
       "<style scoped>\n",
       "    .dataframe tbody tr th:only-of-type {\n",
       "        vertical-align: middle;\n",
       "    }\n",
       "\n",
       "    .dataframe tbody tr th {\n",
       "        vertical-align: top;\n",
       "    }\n",
       "\n",
       "    .dataframe thead th {\n",
       "        text-align: right;\n",
       "    }\n",
       "</style>\n",
       "<table border=\"1\" class=\"dataframe\">\n",
       "  <thead>\n",
       "    <tr style=\"text-align: right;\">\n",
       "      <th></th>\n",
       "      <th>CustName</th>\n",
       "      <th>Amount</th>\n",
       "      <th>IsFraud</th>\n",
       "    </tr>\n",
       "  </thead>\n",
       "  <tbody>\n",
       "    <tr>\n",
       "      <th>0</th>\n",
       "      <td>Ronny</td>\n",
       "      <td>5.50</td>\n",
       "      <td>N</td>\n",
       "    </tr>\n",
       "    <tr>\n",
       "      <th>1</th>\n",
       "      <td>Ronny</td>\n",
       "      <td>25.00</td>\n",
       "      <td>Y</td>\n",
       "    </tr>\n",
       "    <tr>\n",
       "      <th>5</th>\n",
       "      <td>Dang</td>\n",
       "      <td>16.00</td>\n",
       "      <td>N</td>\n",
       "    </tr>\n",
       "  </tbody>\n",
       "</table>\n",
       "</div>"
      ],
      "text/plain": [
       "  CustName  Amount IsFraud\n",
       "0    Ronny    5.50       N\n",
       "1    Ronny   25.00       Y\n",
       "5     Dang   16.00       N"
      ]
     },
     "execution_count": 68,
     "metadata": {},
     "output_type": "execute_result"
    }
   ],
   "source": [
    "df[df['CustName'].isin(mylist)]"
   ]
  },
  {
   "cell_type": "markdown",
   "metadata": {},
   "source": [
    "## now do the following code if you want to filter the previous code to pick up customer where fraud count >1"
   ]
  },
  {
   "cell_type": "code",
   "execution_count": 69,
   "metadata": {},
   "outputs": [
    {
     "data": {
      "text/html": [
       "<div>\n",
       "<style scoped>\n",
       "    .dataframe tbody tr th:only-of-type {\n",
       "        vertical-align: middle;\n",
       "    }\n",
       "\n",
       "    .dataframe tbody tr th {\n",
       "        vertical-align: top;\n",
       "    }\n",
       "\n",
       "    .dataframe thead th {\n",
       "        text-align: right;\n",
       "    }\n",
       "</style>\n",
       "<table border=\"1\" class=\"dataframe\">\n",
       "  <thead>\n",
       "    <tr style=\"text-align: right;\">\n",
       "      <th></th>\n",
       "      <th>CustName</th>\n",
       "      <th>Amount</th>\n",
       "      <th>IsFraud</th>\n",
       "    </tr>\n",
       "  </thead>\n",
       "  <tbody>\n",
       "    <tr>\n",
       "      <th>0</th>\n",
       "      <td>Ronny</td>\n",
       "      <td>5.50</td>\n",
       "      <td>N</td>\n",
       "    </tr>\n",
       "    <tr>\n",
       "      <th>1</th>\n",
       "      <td>Ronny</td>\n",
       "      <td>25.00</td>\n",
       "      <td>Y</td>\n",
       "    </tr>\n",
       "    <tr>\n",
       "      <th>2</th>\n",
       "      <td>Fu</td>\n",
       "      <td>3.50</td>\n",
       "      <td>N</td>\n",
       "    </tr>\n",
       "    <tr>\n",
       "      <th>3</th>\n",
       "      <td>Fu</td>\n",
       "      <td>14.00</td>\n",
       "      <td>N</td>\n",
       "    </tr>\n",
       "  </tbody>\n",
       "</table>\n",
       "</div>"
      ],
      "text/plain": [
       "  CustName  Amount IsFraud\n",
       "0    Ronny    5.50       N\n",
       "1    Ronny   25.00       Y\n",
       "2       Fu    3.50       N\n",
       "3       Fu   14.00       N"
      ]
     },
     "execution_count": 69,
     "metadata": {},
     "output_type": "execute_result"
    }
   ],
   "source": [
    "df.groupby('CustName').filter(lambda x:x['IsFraud'].count()>1)"
   ]
  },
  {
   "cell_type": "code",
   "execution_count": 70,
   "metadata": {},
   "outputs": [
    {
     "data": {
      "text/html": [
       "<div>\n",
       "<style scoped>\n",
       "    .dataframe tbody tr th:only-of-type {\n",
       "        vertical-align: middle;\n",
       "    }\n",
       "\n",
       "    .dataframe tbody tr th {\n",
       "        vertical-align: top;\n",
       "    }\n",
       "\n",
       "    .dataframe thead th {\n",
       "        text-align: right;\n",
       "    }\n",
       "</style>\n",
       "<table border=\"1\" class=\"dataframe\">\n",
       "  <thead>\n",
       "    <tr style=\"text-align: right;\">\n",
       "      <th></th>\n",
       "      <th>who</th>\n",
       "      <th>pclass</th>\n",
       "      <th>fare</th>\n",
       "      <th>Desc</th>\n",
       "    </tr>\n",
       "  </thead>\n",
       "  <tbody>\n",
       "    <tr>\n",
       "      <th>0</th>\n",
       "      <td>man</td>\n",
       "      <td>3</td>\n",
       "      <td>7.25</td>\n",
       "      <td>NaN</td>\n",
       "    </tr>\n",
       "    <tr>\n",
       "      <th>1</th>\n",
       "      <td>woman</td>\n",
       "      <td>1</td>\n",
       "      <td>71.28</td>\n",
       "      <td>class1</td>\n",
       "    </tr>\n",
       "    <tr>\n",
       "      <th>2</th>\n",
       "      <td>woman</td>\n",
       "      <td>3</td>\n",
       "      <td>7.92</td>\n",
       "      <td>NaN</td>\n",
       "    </tr>\n",
       "    <tr>\n",
       "      <th>3</th>\n",
       "      <td>woman</td>\n",
       "      <td>1</td>\n",
       "      <td>53.10</td>\n",
       "      <td>class1</td>\n",
       "    </tr>\n",
       "    <tr>\n",
       "      <th>4</th>\n",
       "      <td>man</td>\n",
       "      <td>3</td>\n",
       "      <td>8.05</td>\n",
       "      <td>NaN</td>\n",
       "    </tr>\n",
       "    <tr>\n",
       "      <th>5</th>\n",
       "      <td>man</td>\n",
       "      <td>3</td>\n",
       "      <td>8.46</td>\n",
       "      <td>NaN</td>\n",
       "    </tr>\n",
       "    <tr>\n",
       "      <th>6</th>\n",
       "      <td>man</td>\n",
       "      <td>1</td>\n",
       "      <td>51.86</td>\n",
       "      <td>class1</td>\n",
       "    </tr>\n",
       "    <tr>\n",
       "      <th>7</th>\n",
       "      <td>child</td>\n",
       "      <td>3</td>\n",
       "      <td>21.07</td>\n",
       "      <td>NaN</td>\n",
       "    </tr>\n",
       "    <tr>\n",
       "      <th>8</th>\n",
       "      <td>woman</td>\n",
       "      <td>3</td>\n",
       "      <td>11.13</td>\n",
       "      <td>NaN</td>\n",
       "    </tr>\n",
       "    <tr>\n",
       "      <th>9</th>\n",
       "      <td>child</td>\n",
       "      <td>2</td>\n",
       "      <td>30.07</td>\n",
       "      <td>class2</td>\n",
       "    </tr>\n",
       "    <tr>\n",
       "      <th>10</th>\n",
       "      <td>child</td>\n",
       "      <td>3</td>\n",
       "      <td>16.70</td>\n",
       "      <td>NaN</td>\n",
       "    </tr>\n",
       "    <tr>\n",
       "      <th>11</th>\n",
       "      <td>woman</td>\n",
       "      <td>1</td>\n",
       "      <td>26.55</td>\n",
       "      <td>class1</td>\n",
       "    </tr>\n",
       "    <tr>\n",
       "      <th>12</th>\n",
       "      <td>man</td>\n",
       "      <td>3</td>\n",
       "      <td>8.05</td>\n",
       "      <td>NaN</td>\n",
       "    </tr>\n",
       "    <tr>\n",
       "      <th>13</th>\n",
       "      <td>man</td>\n",
       "      <td>3</td>\n",
       "      <td>31.27</td>\n",
       "      <td>NaN</td>\n",
       "    </tr>\n",
       "    <tr>\n",
       "      <th>14</th>\n",
       "      <td>child</td>\n",
       "      <td>3</td>\n",
       "      <td>7.85</td>\n",
       "      <td>NaN</td>\n",
       "    </tr>\n",
       "  </tbody>\n",
       "</table>\n",
       "</div>"
      ],
      "text/plain": [
       "      who  pclass  fare    Desc\n",
       "0     man       3  7.25     NaN\n",
       "1   woman       1 71.28  class1\n",
       "2   woman       3  7.92     NaN\n",
       "3   woman       1 53.10  class1\n",
       "4     man       3  8.05     NaN\n",
       "5     man       3  8.46     NaN\n",
       "6     man       1 51.86  class1\n",
       "7   child       3 21.07     NaN\n",
       "8   woman       3 11.13     NaN\n",
       "9   child       2 30.07  class2\n",
       "10  child       3 16.70     NaN\n",
       "11  woman       1 26.55  class1\n",
       "12    man       3  8.05     NaN\n",
       "13    man       3 31.27     NaN\n",
       "14  child       3  7.85     NaN"
      ]
     },
     "execution_count": 70,
     "metadata": {},
     "output_type": "execute_result"
    }
   ],
   "source": [
    "mydf = titanic[['who','pclass','fare']].head(15)\n",
    "mymap = pd.DataFrame({'pclass':[1,2],'Desc':['class1','class2']})\n",
    "result = pd.merge(mydf,mymap,on='pclass',how='left')\n",
    "\n",
    "result\n"
   ]
  },
  {
   "cell_type": "markdown",
   "metadata": {},
   "source": [
    "If you want to filter null values due to mapping does not exist or want to add another calculated field, please follow the next two codes"
   ]
  },
  {
   "cell_type": "code",
   "execution_count": 71,
   "metadata": {},
   "outputs": [
    {
     "data": {
      "text/html": [
       "<div>\n",
       "<style scoped>\n",
       "    .dataframe tbody tr th:only-of-type {\n",
       "        vertical-align: middle;\n",
       "    }\n",
       "\n",
       "    .dataframe tbody tr th {\n",
       "        vertical-align: top;\n",
       "    }\n",
       "\n",
       "    .dataframe thead th {\n",
       "        text-align: right;\n",
       "    }\n",
       "</style>\n",
       "<table border=\"1\" class=\"dataframe\">\n",
       "  <thead>\n",
       "    <tr style=\"text-align: right;\">\n",
       "      <th></th>\n",
       "      <th>who</th>\n",
       "      <th>pclass</th>\n",
       "      <th>fare</th>\n",
       "      <th>Desc</th>\n",
       "    </tr>\n",
       "  </thead>\n",
       "  <tbody>\n",
       "    <tr>\n",
       "      <th>0</th>\n",
       "      <td>man</td>\n",
       "      <td>3</td>\n",
       "      <td>7.25</td>\n",
       "      <td>NaN</td>\n",
       "    </tr>\n",
       "    <tr>\n",
       "      <th>2</th>\n",
       "      <td>woman</td>\n",
       "      <td>3</td>\n",
       "      <td>7.92</td>\n",
       "      <td>NaN</td>\n",
       "    </tr>\n",
       "    <tr>\n",
       "      <th>4</th>\n",
       "      <td>man</td>\n",
       "      <td>3</td>\n",
       "      <td>8.05</td>\n",
       "      <td>NaN</td>\n",
       "    </tr>\n",
       "    <tr>\n",
       "      <th>5</th>\n",
       "      <td>man</td>\n",
       "      <td>3</td>\n",
       "      <td>8.46</td>\n",
       "      <td>NaN</td>\n",
       "    </tr>\n",
       "    <tr>\n",
       "      <th>7</th>\n",
       "      <td>child</td>\n",
       "      <td>3</td>\n",
       "      <td>21.07</td>\n",
       "      <td>NaN</td>\n",
       "    </tr>\n",
       "    <tr>\n",
       "      <th>8</th>\n",
       "      <td>woman</td>\n",
       "      <td>3</td>\n",
       "      <td>11.13</td>\n",
       "      <td>NaN</td>\n",
       "    </tr>\n",
       "    <tr>\n",
       "      <th>10</th>\n",
       "      <td>child</td>\n",
       "      <td>3</td>\n",
       "      <td>16.70</td>\n",
       "      <td>NaN</td>\n",
       "    </tr>\n",
       "    <tr>\n",
       "      <th>12</th>\n",
       "      <td>man</td>\n",
       "      <td>3</td>\n",
       "      <td>8.05</td>\n",
       "      <td>NaN</td>\n",
       "    </tr>\n",
       "    <tr>\n",
       "      <th>13</th>\n",
       "      <td>man</td>\n",
       "      <td>3</td>\n",
       "      <td>31.27</td>\n",
       "      <td>NaN</td>\n",
       "    </tr>\n",
       "    <tr>\n",
       "      <th>14</th>\n",
       "      <td>child</td>\n",
       "      <td>3</td>\n",
       "      <td>7.85</td>\n",
       "      <td>NaN</td>\n",
       "    </tr>\n",
       "  </tbody>\n",
       "</table>\n",
       "</div>"
      ],
      "text/plain": [
       "      who  pclass  fare Desc\n",
       "0     man       3  7.25  NaN\n",
       "2   woman       3  7.92  NaN\n",
       "4     man       3  8.05  NaN\n",
       "5     man       3  8.46  NaN\n",
       "7   child       3 21.07  NaN\n",
       "8   woman       3 11.13  NaN\n",
       "10  child       3 16.70  NaN\n",
       "12    man       3  8.05  NaN\n",
       "13    man       3 31.27  NaN\n",
       "14  child       3  7.85  NaN"
      ]
     },
     "execution_count": 71,
     "metadata": {},
     "output_type": "execute_result"
    }
   ],
   "source": [
    "result[result['Desc'].isna()]"
   ]
  },
  {
   "cell_type": "code",
   "execution_count": 72,
   "metadata": {},
   "outputs": [
    {
     "data": {
      "text/html": [
       "<div>\n",
       "<style scoped>\n",
       "    .dataframe tbody tr th:only-of-type {\n",
       "        vertical-align: middle;\n",
       "    }\n",
       "\n",
       "    .dataframe tbody tr th {\n",
       "        vertical-align: top;\n",
       "    }\n",
       "\n",
       "    .dataframe thead th {\n",
       "        text-align: right;\n",
       "    }\n",
       "</style>\n",
       "<table border=\"1\" class=\"dataframe\">\n",
       "  <thead>\n",
       "    <tr style=\"text-align: right;\">\n",
       "      <th></th>\n",
       "      <th>who</th>\n",
       "      <th>pclass</th>\n",
       "      <th>fare</th>\n",
       "      <th>Desc</th>\n",
       "      <th>Discounted</th>\n",
       "    </tr>\n",
       "  </thead>\n",
       "  <tbody>\n",
       "    <tr>\n",
       "      <th>0</th>\n",
       "      <td>man</td>\n",
       "      <td>3</td>\n",
       "      <td>7.25</td>\n",
       "      <td>NaN</td>\n",
       "      <td>6.16</td>\n",
       "    </tr>\n",
       "    <tr>\n",
       "      <th>1</th>\n",
       "      <td>woman</td>\n",
       "      <td>1</td>\n",
       "      <td>71.28</td>\n",
       "      <td>class1</td>\n",
       "      <td>60.59</td>\n",
       "    </tr>\n",
       "    <tr>\n",
       "      <th>2</th>\n",
       "      <td>woman</td>\n",
       "      <td>3</td>\n",
       "      <td>7.92</td>\n",
       "      <td>NaN</td>\n",
       "      <td>6.74</td>\n",
       "    </tr>\n",
       "    <tr>\n",
       "      <th>3</th>\n",
       "      <td>woman</td>\n",
       "      <td>1</td>\n",
       "      <td>53.10</td>\n",
       "      <td>class1</td>\n",
       "      <td>45.13</td>\n",
       "    </tr>\n",
       "    <tr>\n",
       "      <th>4</th>\n",
       "      <td>man</td>\n",
       "      <td>3</td>\n",
       "      <td>8.05</td>\n",
       "      <td>NaN</td>\n",
       "      <td>6.84</td>\n",
       "    </tr>\n",
       "    <tr>\n",
       "      <th>5</th>\n",
       "      <td>man</td>\n",
       "      <td>3</td>\n",
       "      <td>8.46</td>\n",
       "      <td>NaN</td>\n",
       "      <td>7.19</td>\n",
       "    </tr>\n",
       "    <tr>\n",
       "      <th>6</th>\n",
       "      <td>man</td>\n",
       "      <td>1</td>\n",
       "      <td>51.86</td>\n",
       "      <td>class1</td>\n",
       "      <td>44.08</td>\n",
       "    </tr>\n",
       "    <tr>\n",
       "      <th>7</th>\n",
       "      <td>child</td>\n",
       "      <td>3</td>\n",
       "      <td>21.07</td>\n",
       "      <td>NaN</td>\n",
       "      <td>17.91</td>\n",
       "    </tr>\n",
       "    <tr>\n",
       "      <th>8</th>\n",
       "      <td>woman</td>\n",
       "      <td>3</td>\n",
       "      <td>11.13</td>\n",
       "      <td>NaN</td>\n",
       "      <td>9.46</td>\n",
       "    </tr>\n",
       "    <tr>\n",
       "      <th>9</th>\n",
       "      <td>child</td>\n",
       "      <td>2</td>\n",
       "      <td>30.07</td>\n",
       "      <td>class2</td>\n",
       "      <td>25.56</td>\n",
       "    </tr>\n",
       "    <tr>\n",
       "      <th>10</th>\n",
       "      <td>child</td>\n",
       "      <td>3</td>\n",
       "      <td>16.70</td>\n",
       "      <td>NaN</td>\n",
       "      <td>14.19</td>\n",
       "    </tr>\n",
       "    <tr>\n",
       "      <th>11</th>\n",
       "      <td>woman</td>\n",
       "      <td>1</td>\n",
       "      <td>26.55</td>\n",
       "      <td>class1</td>\n",
       "      <td>22.57</td>\n",
       "    </tr>\n",
       "    <tr>\n",
       "      <th>12</th>\n",
       "      <td>man</td>\n",
       "      <td>3</td>\n",
       "      <td>8.05</td>\n",
       "      <td>NaN</td>\n",
       "      <td>6.84</td>\n",
       "    </tr>\n",
       "    <tr>\n",
       "      <th>13</th>\n",
       "      <td>man</td>\n",
       "      <td>3</td>\n",
       "      <td>31.27</td>\n",
       "      <td>NaN</td>\n",
       "      <td>26.58</td>\n",
       "    </tr>\n",
       "    <tr>\n",
       "      <th>14</th>\n",
       "      <td>child</td>\n",
       "      <td>3</td>\n",
       "      <td>7.85</td>\n",
       "      <td>NaN</td>\n",
       "      <td>6.68</td>\n",
       "    </tr>\n",
       "  </tbody>\n",
       "</table>\n",
       "</div>"
      ],
      "text/plain": [
       "      who  pclass  fare    Desc  Discounted\n",
       "0     man       3  7.25     NaN        6.16\n",
       "1   woman       1 71.28  class1       60.59\n",
       "2   woman       3  7.92     NaN        6.74\n",
       "3   woman       1 53.10  class1       45.13\n",
       "4     man       3  8.05     NaN        6.84\n",
       "5     man       3  8.46     NaN        7.19\n",
       "6     man       1 51.86  class1       44.08\n",
       "7   child       3 21.07     NaN       17.91\n",
       "8   woman       3 11.13     NaN        9.46\n",
       "9   child       2 30.07  class2       25.56\n",
       "10  child       3 16.70     NaN       14.19\n",
       "11  woman       1 26.55  class1       22.57\n",
       "12    man       3  8.05     NaN        6.84\n",
       "13    man       3 31.27     NaN       26.58\n",
       "14  child       3  7.85     NaN        6.68"
      ]
     },
     "execution_count": 72,
     "metadata": {},
     "output_type": "execute_result"
    }
   ],
   "source": [
    "result.assign(Discounted=result['fare']*0.85)\n"
   ]
  },
  {
   "cell_type": "markdown",
   "metadata": {},
   "source": [
    "## Function and if statement and using APPLY to dataframe <a id='function'></a>\n",
    "\n",
    "You can use below codes to see how to create a simple dataframe and a function.\n",
    "To apply the function you need to use apply lambda. What it means, the whole dataframe\n",
    "will be considered as X and you can filter x['columnname'] etc...\n",
    "\n",
    "Also, notice with the IF statement to remember identation \n",
    "The rule is you have to indent everytime you make a new if.\n",
    "Otherwise, the codes will be in line with if.\n",
    "\n",
    "## Example 1"
   ]
  },
  {
   "cell_type": "code",
   "execution_count": 73,
   "metadata": {},
   "outputs": [
    {
     "data": {
      "text/html": [
       "<div>\n",
       "<style scoped>\n",
       "    .dataframe tbody tr th:only-of-type {\n",
       "        vertical-align: middle;\n",
       "    }\n",
       "\n",
       "    .dataframe tbody tr th {\n",
       "        vertical-align: top;\n",
       "    }\n",
       "\n",
       "    .dataframe thead th {\n",
       "        text-align: right;\n",
       "    }\n",
       "</style>\n",
       "<table border=\"1\" class=\"dataframe\">\n",
       "  <thead>\n",
       "    <tr style=\"text-align: right;\">\n",
       "      <th></th>\n",
       "      <th>Type</th>\n",
       "      <th>Amount</th>\n",
       "      <th>PrevBal</th>\n",
       "      <th>AfterBal</th>\n",
       "    </tr>\n",
       "  </thead>\n",
       "  <tbody>\n",
       "    <tr>\n",
       "      <th>0</th>\n",
       "      <td>Cash-In</td>\n",
       "      <td>10</td>\n",
       "      <td>100</td>\n",
       "      <td>110</td>\n",
       "    </tr>\n",
       "    <tr>\n",
       "      <th>1</th>\n",
       "      <td>Transfer</td>\n",
       "      <td>20</td>\n",
       "      <td>120</td>\n",
       "      <td>120</td>\n",
       "    </tr>\n",
       "    <tr>\n",
       "      <th>2</th>\n",
       "      <td>Deposit</td>\n",
       "      <td>30</td>\n",
       "      <td>100</td>\n",
       "      <td>130</td>\n",
       "    </tr>\n",
       "    <tr>\n",
       "      <th>3</th>\n",
       "      <td>Transfer</td>\n",
       "      <td>20</td>\n",
       "      <td>130</td>\n",
       "      <td>130</td>\n",
       "    </tr>\n",
       "    <tr>\n",
       "      <th>4</th>\n",
       "      <td>Transfer</td>\n",
       "      <td>40</td>\n",
       "      <td>140</td>\n",
       "      <td>100</td>\n",
       "    </tr>\n",
       "  </tbody>\n",
       "</table>\n",
       "</div>"
      ],
      "text/plain": [
       "       Type  Amount  PrevBal  AfterBal\n",
       "0   Cash-In      10      100       110\n",
       "1  Transfer      20      120       120\n",
       "2   Deposit      30      100       130\n",
       "3  Transfer      20      130       130\n",
       "4  Transfer      40      140       100"
      ]
     },
     "execution_count": 73,
     "metadata": {},
     "output_type": "execute_result"
    }
   ],
   "source": [
    "\n",
    "#data = np.reshape((type + amt+bal1+bal2),(4,5)).T\n",
    "\n",
    "df = pd.DataFrame({'Type':['Cash-In','Transfer','Deposit','Transfer','Transfer'],\n",
    "             'Amount': [10,20,30,20,40],\n",
    "             'PrevBal': [100,120,100,130,140],\n",
    "             'AfterBal': [110,120,130,130,100]})\n",
    "df"
   ]
  },
  {
   "cell_type": "code",
   "execution_count": 74,
   "metadata": {},
   "outputs": [],
   "source": [
    "def chk(Type, Amt,PrevBal,AfterBal):\n",
    "    if Type=='Transfer':\n",
    "        if  (PrevBal - Amt) != AfterBal:\n",
    "            h = 'fraud'\n",
    "        else:\n",
    "            h = 'ok'\n",
    "    else:\n",
    "        h = 'ok'\n",
    "    return h"
   ]
  },
  {
   "cell_type": "code",
   "execution_count": 75,
   "metadata": {},
   "outputs": [
    {
     "data": {
      "text/plain": [
       "0       ok\n",
       "1    fraud\n",
       "2       ok\n",
       "3    fraud\n",
       "4       ok\n",
       "dtype: object"
      ]
     },
     "execution_count": 75,
     "metadata": {},
     "output_type": "execute_result"
    }
   ],
   "source": [
    "df.apply(lambda x:chk(x['Type'],x['Amount'],x['PrevBal'],x['AfterBal']),axis=1)"
   ]
  },
  {
   "cell_type": "code",
   "execution_count": 76,
   "metadata": {},
   "outputs": [
    {
     "data": {
      "text/html": [
       "<div>\n",
       "<style scoped>\n",
       "    .dataframe tbody tr th:only-of-type {\n",
       "        vertical-align: middle;\n",
       "    }\n",
       "\n",
       "    .dataframe tbody tr th {\n",
       "        vertical-align: top;\n",
       "    }\n",
       "\n",
       "    .dataframe thead th {\n",
       "        text-align: right;\n",
       "    }\n",
       "</style>\n",
       "<table border=\"1\" class=\"dataframe\">\n",
       "  <thead>\n",
       "    <tr style=\"text-align: right;\">\n",
       "      <th></th>\n",
       "      <th>Type</th>\n",
       "      <th>Amount</th>\n",
       "      <th>PrevBal</th>\n",
       "      <th>AfterBal</th>\n",
       "      <th>IsTransfer</th>\n",
       "    </tr>\n",
       "  </thead>\n",
       "  <tbody>\n",
       "    <tr>\n",
       "      <th>0</th>\n",
       "      <td>Cash-In</td>\n",
       "      <td>10</td>\n",
       "      <td>100</td>\n",
       "      <td>110</td>\n",
       "      <td>No</td>\n",
       "    </tr>\n",
       "    <tr>\n",
       "      <th>1</th>\n",
       "      <td>Transfer</td>\n",
       "      <td>20</td>\n",
       "      <td>120</td>\n",
       "      <td>120</td>\n",
       "      <td>Yes</td>\n",
       "    </tr>\n",
       "    <tr>\n",
       "      <th>2</th>\n",
       "      <td>Deposit</td>\n",
       "      <td>30</td>\n",
       "      <td>100</td>\n",
       "      <td>130</td>\n",
       "      <td>No</td>\n",
       "    </tr>\n",
       "    <tr>\n",
       "      <th>3</th>\n",
       "      <td>Transfer</td>\n",
       "      <td>20</td>\n",
       "      <td>130</td>\n",
       "      <td>130</td>\n",
       "      <td>Yes</td>\n",
       "    </tr>\n",
       "    <tr>\n",
       "      <th>4</th>\n",
       "      <td>Transfer</td>\n",
       "      <td>40</td>\n",
       "      <td>140</td>\n",
       "      <td>100</td>\n",
       "      <td>Yes</td>\n",
       "    </tr>\n",
       "  </tbody>\n",
       "</table>\n",
       "</div>"
      ],
      "text/plain": [
       "       Type  Amount  PrevBal  AfterBal IsTransfer\n",
       "0   Cash-In      10      100       110         No\n",
       "1  Transfer      20      120       120        Yes\n",
       "2   Deposit      30      100       130         No\n",
       "3  Transfer      20      130       130        Yes\n",
       "4  Transfer      40      140       100        Yes"
      ]
     },
     "execution_count": 76,
     "metadata": {},
     "output_type": "execute_result"
    }
   ],
   "source": [
    "\n",
    "df['IsTransfer']=df['Type'].apply(lambda x:'Yes' if x=='Transfer' else 'No')    # applying lambda and if statements\n",
    "\n",
    "df"
   ]
  },
  {
   "cell_type": "markdown",
   "metadata": {},
   "source": [
    "## Example 2\n",
    "\n",
    "In here, I created a function to converted wide data to normal dataframe. \n",
    "See code below to get a better understanding on how function can be really  \n",
    "usefull for your coding."
   ]
  },
  {
   "cell_type": "code",
   "execution_count": 77,
   "metadata": {},
   "outputs": [
    {
     "data": {
      "text/html": [
       "<div>\n",
       "<style scoped>\n",
       "    .dataframe tbody tr th:only-of-type {\n",
       "        vertical-align: middle;\n",
       "    }\n",
       "\n",
       "    .dataframe tbody tr th {\n",
       "        vertical-align: top;\n",
       "    }\n",
       "\n",
       "    .dataframe thead th {\n",
       "        text-align: right;\n",
       "    }\n",
       "</style>\n",
       "<table border=\"1\" class=\"dataframe\">\n",
       "  <thead>\n",
       "    <tr style=\"text-align: right;\">\n",
       "      <th></th>\n",
       "      <th>Name</th>\n",
       "      <th>0</th>\n",
       "      <th>1</th>\n",
       "      <th>2</th>\n",
       "      <th>3</th>\n",
       "      <th>4</th>\n",
       "      <th>5</th>\n",
       "      <th>6</th>\n",
       "      <th>7</th>\n",
       "    </tr>\n",
       "  </thead>\n",
       "  <tbody>\n",
       "    <tr>\n",
       "      <th>0</th>\n",
       "      <td>NSW</td>\n",
       "      <td>0.89</td>\n",
       "      <td>0.32</td>\n",
       "      <td>0.50</td>\n",
       "      <td>0.44</td>\n",
       "      <td>0.67</td>\n",
       "      <td>0.53</td>\n",
       "      <td>0.34</td>\n",
       "      <td>0.90</td>\n",
       "    </tr>\n",
       "    <tr>\n",
       "      <th>1</th>\n",
       "      <td>VIC</td>\n",
       "      <td>0.56</td>\n",
       "      <td>0.59</td>\n",
       "      <td>0.84</td>\n",
       "      <td>0.31</td>\n",
       "      <td>0.80</td>\n",
       "      <td>0.22</td>\n",
       "      <td>0.86</td>\n",
       "      <td>0.97</td>\n",
       "    </tr>\n",
       "    <tr>\n",
       "      <th>2</th>\n",
       "      <td>WA</td>\n",
       "      <td>0.55</td>\n",
       "      <td>0.25</td>\n",
       "      <td>0.69</td>\n",
       "      <td>0.12</td>\n",
       "      <td>0.99</td>\n",
       "      <td>0.88</td>\n",
       "      <td>0.50</td>\n",
       "      <td>0.85</td>\n",
       "    </tr>\n",
       "  </tbody>\n",
       "</table>\n",
       "</div>"
      ],
      "text/plain": [
       "  Name    0    1    2    3    4    5    6    7\n",
       "0  NSW 0.89 0.32 0.50 0.44 0.67 0.53 0.34 0.90\n",
       "1  VIC 0.56 0.59 0.84 0.31 0.80 0.22 0.86 0.97\n",
       "2   WA 0.55 0.25 0.69 0.12 0.99 0.88 0.50 0.85"
      ]
     },
     "execution_count": 77,
     "metadata": {},
     "output_type": "execute_result"
    }
   ],
   "source": [
    "import pandas as pd\n",
    "import numpy as np\n",
    "\n",
    "\n",
    "x = pd.DataFrame(np.random.rand(3,8))\n",
    "states = pd.DataFrame({'Name':['NSW','VIC','WA']})\n",
    "\n",
    "df = pd.concat([states,x],axis=1)\n",
    "df.head()"
   ]
  },
  {
   "cell_type": "code",
   "execution_count": 78,
   "metadata": {},
   "outputs": [],
   "source": [
    "def shrink(df,id):\n",
    "\n",
    "\n",
    "    new = pd.DataFrame(columns = id + ['Value'])\n",
    "    mydf = df[id]\n",
    "    mytarget = df.drop(id,axis=1)\n",
    "\n",
    "    for i in mytarget.columns:\n",
    "        myseries = pd.concat([mydf,mytarget[i]],axis=1)\n",
    "        myseries.columns = id + ['Value']\n",
    "       # print (myseries)\n",
    "        new = new.append(myseries)\n",
    "\n",
    "    new = new.reset_index(drop=True)\n",
    "    return new"
   ]
  },
  {
   "cell_type": "code",
   "execution_count": 79,
   "metadata": {},
   "outputs": [
    {
     "data": {
      "text/html": [
       "<div>\n",
       "<style scoped>\n",
       "    .dataframe tbody tr th:only-of-type {\n",
       "        vertical-align: middle;\n",
       "    }\n",
       "\n",
       "    .dataframe tbody tr th {\n",
       "        vertical-align: top;\n",
       "    }\n",
       "\n",
       "    .dataframe thead th {\n",
       "        text-align: right;\n",
       "    }\n",
       "</style>\n",
       "<table border=\"1\" class=\"dataframe\">\n",
       "  <thead>\n",
       "    <tr style=\"text-align: right;\">\n",
       "      <th></th>\n",
       "      <th>Name</th>\n",
       "      <th>Value</th>\n",
       "    </tr>\n",
       "  </thead>\n",
       "  <tbody>\n",
       "    <tr>\n",
       "      <th>0</th>\n",
       "      <td>NSW</td>\n",
       "      <td>0.89</td>\n",
       "    </tr>\n",
       "    <tr>\n",
       "      <th>1</th>\n",
       "      <td>VIC</td>\n",
       "      <td>0.56</td>\n",
       "    </tr>\n",
       "    <tr>\n",
       "      <th>2</th>\n",
       "      <td>WA</td>\n",
       "      <td>0.55</td>\n",
       "    </tr>\n",
       "    <tr>\n",
       "      <th>3</th>\n",
       "      <td>NSW</td>\n",
       "      <td>0.32</td>\n",
       "    </tr>\n",
       "    <tr>\n",
       "      <th>4</th>\n",
       "      <td>VIC</td>\n",
       "      <td>0.59</td>\n",
       "    </tr>\n",
       "    <tr>\n",
       "      <th>5</th>\n",
       "      <td>WA</td>\n",
       "      <td>0.25</td>\n",
       "    </tr>\n",
       "    <tr>\n",
       "      <th>6</th>\n",
       "      <td>NSW</td>\n",
       "      <td>0.50</td>\n",
       "    </tr>\n",
       "    <tr>\n",
       "      <th>7</th>\n",
       "      <td>VIC</td>\n",
       "      <td>0.84</td>\n",
       "    </tr>\n",
       "    <tr>\n",
       "      <th>8</th>\n",
       "      <td>WA</td>\n",
       "      <td>0.69</td>\n",
       "    </tr>\n",
       "    <tr>\n",
       "      <th>9</th>\n",
       "      <td>NSW</td>\n",
       "      <td>0.44</td>\n",
       "    </tr>\n",
       "    <tr>\n",
       "      <th>10</th>\n",
       "      <td>VIC</td>\n",
       "      <td>0.31</td>\n",
       "    </tr>\n",
       "    <tr>\n",
       "      <th>11</th>\n",
       "      <td>WA</td>\n",
       "      <td>0.12</td>\n",
       "    </tr>\n",
       "    <tr>\n",
       "      <th>12</th>\n",
       "      <td>NSW</td>\n",
       "      <td>0.67</td>\n",
       "    </tr>\n",
       "    <tr>\n",
       "      <th>13</th>\n",
       "      <td>VIC</td>\n",
       "      <td>0.80</td>\n",
       "    </tr>\n",
       "    <tr>\n",
       "      <th>14</th>\n",
       "      <td>WA</td>\n",
       "      <td>0.99</td>\n",
       "    </tr>\n",
       "    <tr>\n",
       "      <th>15</th>\n",
       "      <td>NSW</td>\n",
       "      <td>0.53</td>\n",
       "    </tr>\n",
       "    <tr>\n",
       "      <th>16</th>\n",
       "      <td>VIC</td>\n",
       "      <td>0.22</td>\n",
       "    </tr>\n",
       "    <tr>\n",
       "      <th>17</th>\n",
       "      <td>WA</td>\n",
       "      <td>0.88</td>\n",
       "    </tr>\n",
       "    <tr>\n",
       "      <th>18</th>\n",
       "      <td>NSW</td>\n",
       "      <td>0.34</td>\n",
       "    </tr>\n",
       "    <tr>\n",
       "      <th>19</th>\n",
       "      <td>VIC</td>\n",
       "      <td>0.86</td>\n",
       "    </tr>\n",
       "    <tr>\n",
       "      <th>20</th>\n",
       "      <td>WA</td>\n",
       "      <td>0.50</td>\n",
       "    </tr>\n",
       "    <tr>\n",
       "      <th>21</th>\n",
       "      <td>NSW</td>\n",
       "      <td>0.90</td>\n",
       "    </tr>\n",
       "    <tr>\n",
       "      <th>22</th>\n",
       "      <td>VIC</td>\n",
       "      <td>0.97</td>\n",
       "    </tr>\n",
       "    <tr>\n",
       "      <th>23</th>\n",
       "      <td>WA</td>\n",
       "      <td>0.85</td>\n",
       "    </tr>\n",
       "  </tbody>\n",
       "</table>\n",
       "</div>"
      ],
      "text/plain": [
       "   Name  Value\n",
       "0   NSW   0.89\n",
       "1   VIC   0.56\n",
       "2    WA   0.55\n",
       "3   NSW   0.32\n",
       "4   VIC   0.59\n",
       "5    WA   0.25\n",
       "6   NSW   0.50\n",
       "7   VIC   0.84\n",
       "8    WA   0.69\n",
       "9   NSW   0.44\n",
       "10  VIC   0.31\n",
       "11   WA   0.12\n",
       "12  NSW   0.67\n",
       "13  VIC   0.80\n",
       "14   WA   0.99\n",
       "15  NSW   0.53\n",
       "16  VIC   0.22\n",
       "17   WA   0.88\n",
       "18  NSW   0.34\n",
       "19  VIC   0.86\n",
       "20   WA   0.50\n",
       "21  NSW   0.90\n",
       "22  VIC   0.97\n",
       "23   WA   0.85"
      ]
     },
     "execution_count": 79,
     "metadata": {},
     "output_type": "execute_result"
    }
   ],
   "source": [
    "shrink(df,['Name'])"
   ]
  },
  {
   "cell_type": "code",
   "execution_count": 82,
   "metadata": {},
   "outputs": [
    {
     "data": {
      "text/html": [
       "<div>\n",
       "<style scoped>\n",
       "    .dataframe tbody tr th:only-of-type {\n",
       "        vertical-align: middle;\n",
       "    }\n",
       "\n",
       "    .dataframe tbody tr th {\n",
       "        vertical-align: top;\n",
       "    }\n",
       "\n",
       "    .dataframe thead th {\n",
       "        text-align: right;\n",
       "    }\n",
       "</style>\n",
       "<table border=\"1\" class=\"dataframe\">\n",
       "  <thead>\n",
       "    <tr style=\"text-align: right;\">\n",
       "      <th></th>\n",
       "      <th>embark_town</th>\n",
       "      <th>sex</th>\n",
       "      <th>count</th>\n",
       "    </tr>\n",
       "  </thead>\n",
       "  <tbody>\n",
       "    <tr>\n",
       "      <th>0</th>\n",
       "      <td>Cherbourg</td>\n",
       "      <td>female</td>\n",
       "      <td>73</td>\n",
       "    </tr>\n",
       "    <tr>\n",
       "      <th>1</th>\n",
       "      <td>Cherbourg</td>\n",
       "      <td>male</td>\n",
       "      <td>95</td>\n",
       "    </tr>\n",
       "    <tr>\n",
       "      <th>2</th>\n",
       "      <td>Queenstown</td>\n",
       "      <td>female</td>\n",
       "      <td>36</td>\n",
       "    </tr>\n",
       "    <tr>\n",
       "      <th>3</th>\n",
       "      <td>Queenstown</td>\n",
       "      <td>male</td>\n",
       "      <td>41</td>\n",
       "    </tr>\n",
       "    <tr>\n",
       "      <th>4</th>\n",
       "      <td>Southampton</td>\n",
       "      <td>female</td>\n",
       "      <td>203</td>\n",
       "    </tr>\n",
       "    <tr>\n",
       "      <th>5</th>\n",
       "      <td>Southampton</td>\n",
       "      <td>male</td>\n",
       "      <td>441</td>\n",
       "    </tr>\n",
       "  </tbody>\n",
       "</table>\n",
       "</div>"
      ],
      "text/plain": [
       "   embark_town     sex  count\n",
       "0    Cherbourg  female     73\n",
       "1    Cherbourg    male     95\n",
       "2   Queenstown  female     36\n",
       "3   Queenstown    male     41\n",
       "4  Southampton  female    203\n",
       "5  Southampton    male    441"
      ]
     },
     "execution_count": 82,
     "metadata": {},
     "output_type": "execute_result"
    }
   ],
   "source": []
  },
  {
   "cell_type": "markdown",
   "metadata": {},
   "source": [
    "# map and replace data <a id = 'map'></a>\n",
    "\n",
    "You can use map or replace but as per forum, map is 10x faster."
   ]
  },
  {
   "cell_type": "code",
   "execution_count": 83,
   "metadata": {},
   "outputs": [
    {
     "data": {
      "text/html": [
       "<div>\n",
       "<style scoped>\n",
       "    .dataframe tbody tr th:only-of-type {\n",
       "        vertical-align: middle;\n",
       "    }\n",
       "\n",
       "    .dataframe tbody tr th {\n",
       "        vertical-align: top;\n",
       "    }\n",
       "\n",
       "    .dataframe thead th {\n",
       "        text-align: right;\n",
       "    }\n",
       "</style>\n",
       "<table border=\"1\" class=\"dataframe\">\n",
       "  <thead>\n",
       "    <tr style=\"text-align: right;\">\n",
       "      <th></th>\n",
       "      <th>survived</th>\n",
       "      <th>pclass</th>\n",
       "      <th>sex</th>\n",
       "      <th>age</th>\n",
       "      <th>sibsp</th>\n",
       "      <th>parch</th>\n",
       "      <th>fare</th>\n",
       "      <th>embarked</th>\n",
       "      <th>class</th>\n",
       "      <th>who</th>\n",
       "      <th>adult_male</th>\n",
       "      <th>deck</th>\n",
       "      <th>embark_town</th>\n",
       "      <th>alive</th>\n",
       "      <th>alone</th>\n",
       "      <th>newClass</th>\n",
       "    </tr>\n",
       "  </thead>\n",
       "  <tbody>\n",
       "    <tr>\n",
       "      <th>0</th>\n",
       "      <td>0</td>\n",
       "      <td>3</td>\n",
       "      <td>male</td>\n",
       "      <td>22.00</td>\n",
       "      <td>1</td>\n",
       "      <td>0</td>\n",
       "      <td>7.25</td>\n",
       "      <td>S</td>\n",
       "      <td>Third</td>\n",
       "      <td>man</td>\n",
       "      <td>True</td>\n",
       "      <td>NaN</td>\n",
       "      <td>Southampton</td>\n",
       "      <td>no</td>\n",
       "      <td>False</td>\n",
       "      <td>3</td>\n",
       "    </tr>\n",
       "    <tr>\n",
       "      <th>1</th>\n",
       "      <td>1</td>\n",
       "      <td>1</td>\n",
       "      <td>female</td>\n",
       "      <td>38.00</td>\n",
       "      <td>1</td>\n",
       "      <td>0</td>\n",
       "      <td>71.28</td>\n",
       "      <td>C</td>\n",
       "      <td>First</td>\n",
       "      <td>woman</td>\n",
       "      <td>False</td>\n",
       "      <td>C</td>\n",
       "      <td>Cherbourg</td>\n",
       "      <td>yes</td>\n",
       "      <td>False</td>\n",
       "      <td>1</td>\n",
       "    </tr>\n",
       "    <tr>\n",
       "      <th>2</th>\n",
       "      <td>1</td>\n",
       "      <td>3</td>\n",
       "      <td>female</td>\n",
       "      <td>26.00</td>\n",
       "      <td>0</td>\n",
       "      <td>0</td>\n",
       "      <td>7.92</td>\n",
       "      <td>S</td>\n",
       "      <td>Third</td>\n",
       "      <td>woman</td>\n",
       "      <td>False</td>\n",
       "      <td>NaN</td>\n",
       "      <td>Southampton</td>\n",
       "      <td>yes</td>\n",
       "      <td>True</td>\n",
       "      <td>3</td>\n",
       "    </tr>\n",
       "    <tr>\n",
       "      <th>3</th>\n",
       "      <td>1</td>\n",
       "      <td>1</td>\n",
       "      <td>female</td>\n",
       "      <td>35.00</td>\n",
       "      <td>1</td>\n",
       "      <td>0</td>\n",
       "      <td>53.10</td>\n",
       "      <td>S</td>\n",
       "      <td>First</td>\n",
       "      <td>woman</td>\n",
       "      <td>False</td>\n",
       "      <td>C</td>\n",
       "      <td>Southampton</td>\n",
       "      <td>yes</td>\n",
       "      <td>False</td>\n",
       "      <td>1</td>\n",
       "    </tr>\n",
       "    <tr>\n",
       "      <th>4</th>\n",
       "      <td>0</td>\n",
       "      <td>3</td>\n",
       "      <td>male</td>\n",
       "      <td>35.00</td>\n",
       "      <td>0</td>\n",
       "      <td>0</td>\n",
       "      <td>8.05</td>\n",
       "      <td>S</td>\n",
       "      <td>Third</td>\n",
       "      <td>man</td>\n",
       "      <td>True</td>\n",
       "      <td>NaN</td>\n",
       "      <td>Southampton</td>\n",
       "      <td>no</td>\n",
       "      <td>True</td>\n",
       "      <td>3</td>\n",
       "    </tr>\n",
       "  </tbody>\n",
       "</table>\n",
       "</div>"
      ],
      "text/plain": [
       "   survived  pclass     sex   age  sibsp  parch  fare embarked  class    who  \\\n",
       "0         0       3    male 22.00      1      0  7.25        S  Third    man   \n",
       "1         1       1  female 38.00      1      0 71.28        C  First  woman   \n",
       "2         1       3  female 26.00      0      0  7.92        S  Third  woman   \n",
       "3         1       1  female 35.00      1      0 53.10        S  First  woman   \n",
       "4         0       3    male 35.00      0      0  8.05        S  Third    man   \n",
       "\n",
       "   adult_male deck  embark_town alive  alone newClass  \n",
       "0        True  NaN  Southampton    no  False        3  \n",
       "1       False    C    Cherbourg   yes  False        1  \n",
       "2       False  NaN  Southampton   yes   True        3  \n",
       "3       False    C  Southampton   yes  False        1  \n",
       "4        True  NaN  Southampton    no   True        3  "
      ]
     },
     "execution_count": 83,
     "metadata": {},
     "output_type": "execute_result"
    }
   ],
   "source": [
    "titanic['newClass']=titanic['class'].map({'Third':3,'First':1,'Second':2})\n",
    "\n",
    "titanic.head()\n"
   ]
  },
  {
   "cell_type": "code",
   "execution_count": 84,
   "metadata": {},
   "outputs": [
    {
     "data": {
      "text/html": [
       "<div>\n",
       "<style scoped>\n",
       "    .dataframe tbody tr th:only-of-type {\n",
       "        vertical-align: middle;\n",
       "    }\n",
       "\n",
       "    .dataframe tbody tr th {\n",
       "        vertical-align: top;\n",
       "    }\n",
       "\n",
       "    .dataframe thead th {\n",
       "        text-align: right;\n",
       "    }\n",
       "</style>\n",
       "<table border=\"1\" class=\"dataframe\">\n",
       "  <thead>\n",
       "    <tr style=\"text-align: right;\">\n",
       "      <th></th>\n",
       "      <th>cost</th>\n",
       "    </tr>\n",
       "  </thead>\n",
       "  <tbody>\n",
       "    <tr>\n",
       "      <th>foo</th>\n",
       "      <td>$123.46</td>\n",
       "    </tr>\n",
       "    <tr>\n",
       "      <th>bar</th>\n",
       "      <td>$234.57</td>\n",
       "    </tr>\n",
       "    <tr>\n",
       "      <th>baz</th>\n",
       "      <td>$345.68</td>\n",
       "    </tr>\n",
       "    <tr>\n",
       "      <th>quux</th>\n",
       "      <td>$456.79</td>\n",
       "    </tr>\n",
       "  </tbody>\n",
       "</table>\n",
       "</div>"
      ],
      "text/plain": [
       "         cost\n",
       "foo   $123.46\n",
       "bar   $234.57\n",
       "baz   $345.68\n",
       "quux  $456.79"
      ]
     },
     "execution_count": 84,
     "metadata": {},
     "output_type": "execute_result"
    }
   ],
   "source": [
    "import pandas as pd\n",
    "df = pd.DataFrame([123.4567, 234.5678, 345.6789, 456.7890],\n",
    "                  index=['foo','bar','baz','quux'],\n",
    "                  columns=['cost'])\n",
    "\n",
    "#df = df.applymap(\"${0:.2f}\".format)\n",
    "\n",
    "df.applymap(\"${0:.2f}\".format)"
   ]
  },
  {
   "cell_type": "code",
   "execution_count": 85,
   "metadata": {},
   "outputs": [
    {
     "data": {
      "text/html": [
       "<div>\n",
       "<style scoped>\n",
       "    .dataframe tbody tr th:only-of-type {\n",
       "        vertical-align: middle;\n",
       "    }\n",
       "\n",
       "    .dataframe tbody tr th {\n",
       "        vertical-align: top;\n",
       "    }\n",
       "\n",
       "    .dataframe thead th {\n",
       "        text-align: right;\n",
       "    }\n",
       "</style>\n",
       "<table border=\"1\" class=\"dataframe\">\n",
       "  <thead>\n",
       "    <tr style=\"text-align: right;\">\n",
       "      <th></th>\n",
       "      <th>survived</th>\n",
       "      <th>pclass</th>\n",
       "      <th>sex</th>\n",
       "      <th>age</th>\n",
       "      <th>sibsp</th>\n",
       "      <th>parch</th>\n",
       "      <th>fare</th>\n",
       "      <th>embarked</th>\n",
       "      <th>class</th>\n",
       "      <th>who</th>\n",
       "      <th>adult_male</th>\n",
       "      <th>deck</th>\n",
       "      <th>embark_town</th>\n",
       "      <th>alive</th>\n",
       "      <th>alone</th>\n",
       "      <th>newClass</th>\n",
       "    </tr>\n",
       "  </thead>\n",
       "  <tbody>\n",
       "    <tr>\n",
       "      <th>0</th>\n",
       "      <td>0</td>\n",
       "      <td>3</td>\n",
       "      <td>male</td>\n",
       "      <td>22.00</td>\n",
       "      <td>1</td>\n",
       "      <td>0</td>\n",
       "      <td>7.25</td>\n",
       "      <td>S</td>\n",
       "      <td>2</td>\n",
       "      <td>man</td>\n",
       "      <td>True</td>\n",
       "      <td>NaN</td>\n",
       "      <td>Southampton</td>\n",
       "      <td>no</td>\n",
       "      <td>False</td>\n",
       "      <td>3</td>\n",
       "    </tr>\n",
       "    <tr>\n",
       "      <th>1</th>\n",
       "      <td>1</td>\n",
       "      <td>1</td>\n",
       "      <td>female</td>\n",
       "      <td>38.00</td>\n",
       "      <td>1</td>\n",
       "      <td>0</td>\n",
       "      <td>71.28</td>\n",
       "      <td>C</td>\n",
       "      <td>0</td>\n",
       "      <td>woman</td>\n",
       "      <td>False</td>\n",
       "      <td>C</td>\n",
       "      <td>Cherbourg</td>\n",
       "      <td>yes</td>\n",
       "      <td>False</td>\n",
       "      <td>1</td>\n",
       "    </tr>\n",
       "    <tr>\n",
       "      <th>2</th>\n",
       "      <td>1</td>\n",
       "      <td>3</td>\n",
       "      <td>female</td>\n",
       "      <td>26.00</td>\n",
       "      <td>0</td>\n",
       "      <td>0</td>\n",
       "      <td>7.92</td>\n",
       "      <td>S</td>\n",
       "      <td>2</td>\n",
       "      <td>woman</td>\n",
       "      <td>False</td>\n",
       "      <td>NaN</td>\n",
       "      <td>Southampton</td>\n",
       "      <td>yes</td>\n",
       "      <td>True</td>\n",
       "      <td>3</td>\n",
       "    </tr>\n",
       "    <tr>\n",
       "      <th>3</th>\n",
       "      <td>1</td>\n",
       "      <td>1</td>\n",
       "      <td>female</td>\n",
       "      <td>35.00</td>\n",
       "      <td>1</td>\n",
       "      <td>0</td>\n",
       "      <td>53.10</td>\n",
       "      <td>S</td>\n",
       "      <td>0</td>\n",
       "      <td>woman</td>\n",
       "      <td>False</td>\n",
       "      <td>C</td>\n",
       "      <td>Southampton</td>\n",
       "      <td>yes</td>\n",
       "      <td>False</td>\n",
       "      <td>1</td>\n",
       "    </tr>\n",
       "    <tr>\n",
       "      <th>4</th>\n",
       "      <td>0</td>\n",
       "      <td>3</td>\n",
       "      <td>male</td>\n",
       "      <td>35.00</td>\n",
       "      <td>0</td>\n",
       "      <td>0</td>\n",
       "      <td>8.05</td>\n",
       "      <td>S</td>\n",
       "      <td>2</td>\n",
       "      <td>man</td>\n",
       "      <td>True</td>\n",
       "      <td>NaN</td>\n",
       "      <td>Southampton</td>\n",
       "      <td>no</td>\n",
       "      <td>True</td>\n",
       "      <td>3</td>\n",
       "    </tr>\n",
       "  </tbody>\n",
       "</table>\n",
       "</div>"
      ],
      "text/plain": [
       "   survived  pclass     sex   age  sibsp  parch  fare embarked  class    who  \\\n",
       "0         0       3    male 22.00      1      0  7.25        S      2    man   \n",
       "1         1       1  female 38.00      1      0 71.28        C      0  woman   \n",
       "2         1       3  female 26.00      0      0  7.92        S      2  woman   \n",
       "3         1       1  female 35.00      1      0 53.10        S      0  woman   \n",
       "4         0       3    male 35.00      0      0  8.05        S      2    man   \n",
       "\n",
       "   adult_male deck  embark_town alive  alone newClass  \n",
       "0        True  NaN  Southampton    no  False        3  \n",
       "1       False    C    Cherbourg   yes  False        1  \n",
       "2       False  NaN  Southampton   yes   True        3  \n",
       "3       False    C  Southampton   yes  False        1  \n",
       "4        True  NaN  Southampton    no   True        3  "
      ]
     },
     "execution_count": 85,
     "metadata": {},
     "output_type": "execute_result"
    }
   ],
   "source": [
    "titanic['class']=titanic['class'].astype('category')\n",
    "titanic['class']= titanic['class'].cat.codes\n",
    "\n",
    "titanic.head()"
   ]
  },
  {
   "cell_type": "markdown",
   "metadata": {},
   "source": [
    "# Using SimpleImputer to replace null value with avg\n",
    "\n",
    "Check the [link](https://scikit-learn.org/stable/modules/generated/sklearn.impute.SimpleImputer.html) to see some of the parameters around strategy. Apparently, you can use text as well like the ones that occur the most."
   ]
  },
  {
   "cell_type": "code",
   "execution_count": 88,
   "metadata": {},
   "outputs": [
    {
     "name": "stdout",
     "output_type": "stream",
     "text": [
      "[[ 7.  2.  3.]\n",
      " [ 4.  4.  6.]\n",
      " [10.  6.  9.]]\n"
     ]
    }
   ],
   "source": [
    "import numpy as np\n",
    "from sklearn.impute import SimpleImputer\n",
    "imp_mean = SimpleImputer(missing_values=np.nan, strategy='mean')\n",
    "\n",
    "s = np.array([[7, 2, 3], [4, np.nan, 6], [10, 6, 9]])\n",
    "\n",
    "\n",
    "imp_mean.fit(s)\n",
    "\n",
    "print((imp_mean.transform(s)))"
   ]
  },
  {
   "cell_type": "markdown",
   "metadata": {},
   "source": [
    "# One Hot Encoding explained in simple term instead of using scikit shit example! confuse the shit out of me!"
   ]
  },
  {
   "cell_type": "code",
   "execution_count": 89,
   "metadata": {},
   "outputs": [
    {
     "name": "stdout",
     "output_type": "stream",
     "text": [
      "['red', 'green', 'yellow', 'red'] [[1]\n",
      " [0]\n",
      " [2]\n",
      " [1]]\n"
     ]
    }
   ],
   "source": [
    "from sklearn.preprocessing import LabelEncoder\n",
    "from sklearn.preprocessing import OneHotEncoder\n",
    "\n",
    "color = (['red','green','yellow','red'])\n",
    "\n",
    "\n",
    "label = LabelEncoder()\n",
    "labelresult=label.fit_transform(color).reshape(4,1)\n",
    "\n",
    "print (color, labelresult)\n"
   ]
  },
  {
   "cell_type": "code",
   "execution_count": 90,
   "metadata": {},
   "outputs": [
    {
     "data": {
      "text/plain": [
       "array([[0., 1., 0.],\n",
       "       [1., 0., 0.],\n",
       "       [0., 0., 1.],\n",
       "       [0., 1., 0.]])"
      ]
     },
     "execution_count": 90,
     "metadata": {},
     "output_type": "execute_result"
    }
   ],
   "source": [
    "import numpy as np\n",
    "encoder = OneHotEncoder(sparse=False)       # select false so it comes up as matrix otherwise array\n",
    "#encoder.fit_transform(labelresult)\n",
    "\n",
    "encoder.fit_transform(np.reshape(color,(4,1)))      #one hot encoding color but need to make sure the list is 2d array, hence the reshape(4,1)"
   ]
  },
  {
   "cell_type": "markdown",
   "metadata": {},
   "source": [
    "\n",
    "# Some useful internet link\n",
    "\n",
    "[seaborn visualisation and formattting etc](https://www.drawingfromdata.com/how-to-rotate-axis-labels-in-seaborn-and-matplotlib)"
   ]
  },
  {
   "cell_type": "code",
   "execution_count": 91,
   "metadata": {},
   "outputs": [
    {
     "name": "stdout",
     "output_type": "stream",
     "text": [
      "[0.61808618 0.37785768]\n"
     ]
    },
    {
     "data": {
      "text/html": [
       "<div>\n",
       "<style scoped>\n",
       "    .dataframe tbody tr th:only-of-type {\n",
       "        vertical-align: middle;\n",
       "    }\n",
       "\n",
       "    .dataframe tbody tr th {\n",
       "        vertical-align: top;\n",
       "    }\n",
       "\n",
       "    .dataframe thead th {\n",
       "        text-align: right;\n",
       "    }\n",
       "</style>\n",
       "<table border=\"1\" class=\"dataframe\">\n",
       "  <thead>\n",
       "    <tr style=\"text-align: right;\">\n",
       "      <th></th>\n",
       "      <th>0</th>\n",
       "      <th>1</th>\n",
       "    </tr>\n",
       "  </thead>\n",
       "  <tbody>\n",
       "    <tr>\n",
       "      <th>0</th>\n",
       "      <td>-2.71</td>\n",
       "      <td>-1.60</td>\n",
       "    </tr>\n",
       "    <tr>\n",
       "      <th>1</th>\n",
       "      <td>-2.31</td>\n",
       "      <td>0.53</td>\n",
       "    </tr>\n",
       "    <tr>\n",
       "      <th>2</th>\n",
       "      <td>-1.81</td>\n",
       "      <td>3.80</td>\n",
       "    </tr>\n",
       "    <tr>\n",
       "      <th>3</th>\n",
       "      <td>-0.41</td>\n",
       "      <td>-3.13</td>\n",
       "    </tr>\n",
       "    <tr>\n",
       "      <th>4</th>\n",
       "      <td>2.50</td>\n",
       "      <td>-0.25</td>\n",
       "    </tr>\n",
       "    <tr>\n",
       "      <th>5</th>\n",
       "      <td>4.75</td>\n",
       "      <td>0.65</td>\n",
       "    </tr>\n",
       "  </tbody>\n",
       "</table>\n",
       "</div>"
      ],
      "text/plain": [
       "      0     1\n",
       "0 -2.71 -1.60\n",
       "1 -2.31  0.53\n",
       "2 -1.81  3.80\n",
       "3 -0.41 -3.13\n",
       "4  2.50 -0.25\n",
       "5  4.75  0.65"
      ]
     },
     "execution_count": 91,
     "metadata": {},
     "output_type": "execute_result"
    }
   ],
   "source": [
    "\n",
    "# work in progress PCA (make it simple to understand)\n",
    "\n",
    "import numpy as np\n",
    "from sklearn.decomposition import PCA\n",
    "X = np.array([[-1, -1, 3], [-2, -1,5], [-3, -2,8], [1, 1,3], [2, 1,7], [3, 2,9]])\n",
    "pca = PCA(n_components=2)\n",
    "pca.fit(X)\n",
    "#PCA(n_components=2)\n",
    "print(pca.explained_variance_ratio_)\n",
    "#print(pca.singular_values_)\n",
    "\n",
    "\n",
    "s = pca.fit_transform(X)\n",
    "pd.DataFrame(data = s)\n"
   ]
  },
  {
   "cell_type": "markdown",
   "metadata": {},
   "source": [
    "# Basic of seaborn coding <a id = 'seaborn'></a>\n",
    "\n",
    "\n",
    "These are the basic of seaborn chart :\n",
    "\n",
    "1. Import seaborn as sns\n",
    "2. There are a few types of charts : relplot,catplot, distplot, regplot, lmplot\n",
    "    * relplot for relationship of two attributes x and y (numeric) [check the tutorial](https://seaborn.pydata.org/tutorial/relational.html)\n",
    "    * catplot for categorical values [check the tutorial](https://seaborn.pydata.org/tutorial/categorical.html)\n",
    "    * distplot for distribution like histogram for a field [check the tutorial](https://seaborn.pydata.org/tutorial/distribution.html)\n",
    "    * regplot for regression x & y and drawing a line, e.g. x = 2 * y [check the tutorial](https://seaborn.pydata.org/tutorial/regression.html)\n",
    "    * lmplot similar to regression but [check the tutorial](https://seaborn.pydata.org/tutorial/regression.html)\n",
    "3. The basic plot is similar where you type sns.catplot (x=,y=,data=..., and other attributes)\n",
    "\n",
    "\n"
   ]
  },
  {
   "cell_type": "markdown",
   "metadata": {},
   "source": [
    "# Let's look at Some Bar Plots which can be confusing sometimes\n",
    "\n",
    "In the below summary you can see the actual numbers by year.\n",
    "\n",
    "In the below section you will learn the following :\n",
    "* How to use subplots to put a few charts in one canvas or figure\n",
    "* Understand some seaborn charts and some such as **catplot can't be used with subplots**\n",
    "\n",
    "\n",
    "1. Setting Up the canvas and number of columns/rows including the size of the canvas\n",
    "\n",
    "The below create a canvas (fig) with 3 axes (columns). It is determined by subplots(1,3) which is 1 row & 3 columns.\n",
    "You can also put the title to overall canvas using fig.suptitle ('yes weird suptitle instead of subtite???')\n",
    "\n",
    ">fig, (ax1,ax2,ax3) = plt.subplots(1,3,figsize=(15,8))  \n",
    ">fig.suptitle('Explaining Bar Plot Diff', fontsize=16)\n",
    "\n",
    "\n",
    "2. Putting different charts to subplots\n",
    "\n",
    "Some charts not working with subplots such as catplot or the main charts in seaborn tutorial. \n",
    "Others will work such as countplot, barplot so play around with it or check seaborn tutorial. \n",
    "\n",
    "To put the chart to subplot you need to use the function ax = . In the code below ax=ax2 putting to second column.\n",
    "\n",
    "> chart1 = sns.barplot(x='year',y='passengers',data=df,ax=ax2)\n",
    "\n",
    "\n",
    "3. Putting titles, xlabel, ylabel and rotate xlabel\n",
    "\n",
    "> After setting up the chart1, you can use the code chart1.set(xLabel=..,yLabel=..,title=..)\n",
    "\n",
    "To rotate the xlabel to say 45 degrees you can use the below code \n",
    "> chart1.set_xticklabels(chart1.get_xticklabels(), rotation=45)\n",
    "\n"
   ]
  },
  {
   "cell_type": "code",
   "execution_count": 92,
   "metadata": {},
   "outputs": [
    {
     "data": {
      "text/html": [
       "<div>\n",
       "<style scoped>\n",
       "    .dataframe tbody tr th:only-of-type {\n",
       "        vertical-align: middle;\n",
       "    }\n",
       "\n",
       "    .dataframe tbody tr th {\n",
       "        vertical-align: top;\n",
       "    }\n",
       "\n",
       "    .dataframe thead th {\n",
       "        text-align: right;\n",
       "    }\n",
       "</style>\n",
       "<table border=\"1\" class=\"dataframe\">\n",
       "  <thead>\n",
       "    <tr style=\"text-align: right;\">\n",
       "      <th></th>\n",
       "      <th>year</th>\n",
       "      <th>month</th>\n",
       "      <th>passengers</th>\n",
       "    </tr>\n",
       "  </thead>\n",
       "  <tbody>\n",
       "    <tr>\n",
       "      <th>0</th>\n",
       "      <td>1949</td>\n",
       "      <td>Jan</td>\n",
       "      <td>112</td>\n",
       "    </tr>\n",
       "    <tr>\n",
       "      <th>1</th>\n",
       "      <td>1949</td>\n",
       "      <td>Feb</td>\n",
       "      <td>118</td>\n",
       "    </tr>\n",
       "    <tr>\n",
       "      <th>2</th>\n",
       "      <td>1949</td>\n",
       "      <td>Mar</td>\n",
       "      <td>132</td>\n",
       "    </tr>\n",
       "    <tr>\n",
       "      <th>3</th>\n",
       "      <td>1949</td>\n",
       "      <td>Apr</td>\n",
       "      <td>129</td>\n",
       "    </tr>\n",
       "    <tr>\n",
       "      <th>4</th>\n",
       "      <td>1949</td>\n",
       "      <td>May</td>\n",
       "      <td>121</td>\n",
       "    </tr>\n",
       "  </tbody>\n",
       "</table>\n",
       "</div>"
      ],
      "text/plain": [
       "   year month  passengers\n",
       "0  1949   Jan         112\n",
       "1  1949   Feb         118\n",
       "2  1949   Mar         132\n",
       "3  1949   Apr         129\n",
       "4  1949   May         121"
      ]
     },
     "execution_count": 92,
     "metadata": {},
     "output_type": "execute_result"
    }
   ],
   "source": [
    "import matplotlib.pyplot as plt\n",
    "import seaborn as sns\n",
    "\n",
    "df = sns.load_dataset('flights')\n",
    "df.head()"
   ]
  },
  {
   "cell_type": "code",
   "execution_count": 93,
   "metadata": {},
   "outputs": [
    {
     "data": {
      "image/png": "[encoded data removed]",
      "text/plain": [
       "<Figure size 1224x504 with 3 Axes>"
      ]
     },
     "metadata": {
      "needs_background": "light"
     },
     "output_type": "display_data"
    }
   ],
   "source": [
    "import matplotlib.pyplot as plt\n",
    "import seaborn as sns\n",
    "\n",
    "#df = sns.load_dataset('flights')\n",
    "#df.head()\n",
    "\n",
    "fig, (ax1,ax2,ax3) = plt.subplots(1,3,figsize=(17,7))\n",
    "fig.suptitle('Explaining Bar Plot Diff', fontsize=16)\n",
    "\n",
    "chart1 = sns.barplot(x='year',y='passengers',data=df,ax=ax2)\n",
    "chart1.set(title='Bar Plot Default (Avg)')\n",
    "chart1.set(xLabel='Year',yLabel='Passenger')   # variation 1\n",
    "chart1.set_xticklabels(chart1.get_xticklabels(), rotation=45)\n",
    "\n",
    "chart2 = sns.barplot(x='year',y='passengers', estimator =sum, data=df,ax=ax3)\n",
    "chart2.set(title='Bar Plot With Estimator SUM')\n",
    "chart2.set(xLabel='Year')   #variation 2 on how you can define this\n",
    "chart2.set(yLabel='Passenger')  # variation 2 on how you can define this\n",
    "chart2.set_xticklabels(chart2.get_xticklabels(), rotation=45)\n",
    "\n",
    "chart3 = sns.countplot(x='year',data=df,ax=ax1)\n",
    "chart3.set(title='Count Plot')\n",
    "chart3.set(xLabel='Year')\n",
    "chart3.set(yLabel='Passenger')\n",
    "chart3.set_xticklabels(chart3.get_xticklabels(), rotation=45)\n",
    "\n",
    "\n",
    "\n",
    "plt.show()"
   ]
  },
  {
   "cell_type": "markdown",
   "metadata": {},
   "source": [
    "\n",
    "# More variations of charts you can use from seaborn\n",
    "\n",
    "When analysing the data it is important to make it more beautiful for presentation purposes. As I see in Kaggle there are to many codes without visualisation and this can be boring for users.\n",
    "\n",
    "So see the results below including presentation of some samples from Seaborn putting to subplots.\n"
   ]
  },
  {
   "cell_type": "code",
   "execution_count": 95,
   "metadata": {},
   "outputs": [
    {
     "data": {
      "image/png": "[encoded data removed]",
      "text/plain": [
       "<Figure size 1440x720 with 6 Axes>"
      ]
     },
     "metadata": {
      "needs_background": "light"
     },
     "output_type": "display_data"
    }
   ],
   "source": [
    "import matplotlib.pyplot as plt\n",
    "import seaborn as sns\n",
    "import numpy as np\n",
    "import pandas as pd\n",
    "\n",
    "\n",
    "# create fig and subplots\n",
    "fig, ax = plt.subplots(2,3,figsize=(20,10))\n",
    "     \n",
    "\n",
    "chart1 = sns.countplot(x=\"day\", hue='sex',data=tips, palette=\"colorblind\", ax=ax[0,0]) # refer ax to which col and row to go to (start from 0 base)\n",
    "chart1.set(title='Tips Count Plot')\n",
    "\n",
    "chart2 = sns.boxplot(x=\"day\", y=\"total_bill\", hue='sex', data=tips, ax=ax[1,0])\n",
    "chart2.set(title='Tips Box Plot')\n",
    "\n",
    "chart3 = sns.barplot(x=\"day\", y=\"total_bill\", hue=\"sex\", data=tips, ax=ax[0,1])\n",
    "chart3.set(title='Tips Bar Plot Default (Avg)')\n",
    "\n",
    "\n",
    "chart4 = sns.barplot(x=\"day\", y=\"total_bill\", hue=\"sex\", data=tips, estimator = sum, ax=ax[0,2])\n",
    "chart4.set(title='Tips Bar Plot SUM')\n",
    "\n",
    "chart4 = sns.barplot(x=\"tip\", y='day',data=tips, ax=ax[1,2])\n",
    "chart4.set(title='Tips Bar Plot Horizontal Avg')\n",
    "\n",
    "\n",
    "\n",
    "index = pd.date_range(\"1 1 2000\", periods=100,\n",
    "                      freq=\"m\", name=\"date\")\n",
    "data = np.random.randn(100, 4).cumsum(axis=0)\n",
    "wide_df = pd.DataFrame(data, index, [\"a\", \"b\", \"c\", \"d\"])\n",
    "chart5 = sns.lineplot(data=wide_df,ax=ax[1,1])\n",
    "\n",
    "plt.show()\n"
   ]
  },
  {
   "cell_type": "code",
   "execution_count": 96,
   "metadata": {},
   "outputs": [
    {
     "name": "stderr",
     "output_type": "stream",
     "text": [
      "/opt/anaconda3/lib/python3.8/site-packages/seaborn/distributions.py:2551: FutureWarning: `distplot` is a deprecated function and will be removed in a future version. Please adapt your code to use either `displot` (a figure-level function with similar flexibility) or `histplot` (an axes-level function for histograms).\n",
      "  warnings.warn(msg, FutureWarning)\n",
      "/opt/anaconda3/lib/python3.8/site-packages/seaborn/distributions.py:2551: FutureWarning: `distplot` is a deprecated function and will be removed in a future version. Please adapt your code to use either `displot` (a figure-level function with similar flexibility) or `kdeplot` (an axes-level function for kernel density plots).\n",
      "  warnings.warn(msg, FutureWarning)\n",
      "/opt/anaconda3/lib/python3.8/site-packages/seaborn/distributions.py:2055: FutureWarning: The `axis` variable is no longer used and will be removed. Instead, assign variables directly to `x` or `y`.\n",
      "  warnings.warn(msg, FutureWarning)\n",
      "/opt/anaconda3/lib/python3.8/site-packages/seaborn/distributions.py:2551: FutureWarning: `distplot` is a deprecated function and will be removed in a future version. Please adapt your code to use either `displot` (a figure-level function with similar flexibility) or `kdeplot` (an axes-level function for kernel density plots).\n",
      "  warnings.warn(msg, FutureWarning)\n",
      "/opt/anaconda3/lib/python3.8/site-packages/seaborn/distributions.py:2551: FutureWarning: `distplot` is a deprecated function and will be removed in a future version. Please adapt your code to use either `displot` (a figure-level function with similar flexibility) or `histplot` (an axes-level function for histograms).\n",
      "  warnings.warn(msg, FutureWarning)\n"
     ]
    },
    {
     "data": {
      "image/png": "[encoded data removed]",
      "text/plain": [
       "<Figure size 504x504 with 4 Axes>"
      ]
     },
     "metadata": {},
     "output_type": "display_data"
    }
   ],
   "source": [
    "import numpy as np\n",
    "import seaborn as sns\n",
    "import matplotlib.pyplot as plt\n",
    "\n",
    "sns.set(style=\"white\", palette=\"muted\", color_codes=True)\n",
    "rs = np.random.RandomState(10)\n",
    "\n",
    "# Set up the matplotlib figure\n",
    "f, axes = plt.subplots(2, 2, figsize=(7, 7), sharex=True)\n",
    "sns.despine(left=True)\n",
    "\n",
    "# Generate a random univariate dataset\n",
    "d = rs.normal(size=100)\n",
    "\n",
    "# Plot a simple histogram with binsize determined automatically\n",
    "sns.distplot(d, kde=False, color=\"b\", ax=axes[0, 0])\n",
    "\n",
    "# Plot a kernel density estimate and rug plot\n",
    "sns.distplot(d, hist=False, rug=True, color=\"r\", ax=axes[0, 1])\n",
    "\n",
    "# Plot a filled kernel density estimate\n",
    "sns.distplot(d, hist=False, color=\"g\", kde_kws={\"shade\": True}, ax=axes[1, 0])\n",
    "\n",
    "# Plot a histogram and kernel density estimate\n",
    "sns.distplot(d, color=\"m\", ax=axes[1, 1])\n",
    "\n",
    "plt.setp(axes, yticks=[])\n",
    "plt.tight_layout()"
   ]
  },
  {
   "cell_type": "code",
   "execution_count": 97,
   "metadata": {},
   "outputs": [
    {
     "data": {
      "image/png": "[encoded data removed]",
      "text/plain": [
       "<Figure size 720x360 with 2 Axes>"
      ]
     },
     "metadata": {},
     "output_type": "display_data"
    }
   ],
   "source": [
    "import seaborn as sns\n",
    "import matplotlib.pyplot as plt\n",
    "\n",
    "f, (ax1, ax2) = plt.subplots(1, 2, figsize=(10, 5), sharex=True)\n",
    "\n",
    "sns.boxplot(x=\"day\",y=\"total_bill\",data=tips, ax=ax1)\n",
    "ax = sns.countplot(x=\"day\", data=tips, ax=ax2)"
   ]
  },
  {
   "cell_type": "markdown",
   "metadata": {},
   "source": [
    "## Example 1 Pairplot   <a id ='pairplot'></a>\n",
    "\n",
    "One of the issue I found is with the colour due to my colour blind issue. The good news is you can change the palette using set_palette, in this case rainbow palette seems to work for me.\n",
    "\n",
    "The pair plot works with Iris due to :\n",
    "* You can see clustering based on different attributes. May not work on other dataset\n",
    "* The hue effect to determine the species shows different pairing can determine the seggregation\n",
    "\n",
    "However, this pairplot does not work well with **Titanic** due to data structure is different. So if you find similar characteristic like Iris, you can use pairplot.\n"
   ]
  },
  {
   "cell_type": "code",
   "execution_count": 98,
   "metadata": {},
   "outputs": [
    {
     "data": {
      "text/plain": [
       "<seaborn.axisgrid.PairGrid at 0x7ff9bd158eb0>"
      ]
     },
     "execution_count": 98,
     "metadata": {},
     "output_type": "execute_result"
    },
    {
     "data": {
      "image/png": "[encoded data removed]",
      "text/plain": [
       "<Figure size 806.85x720 with 20 Axes>"
      ]
     },
     "metadata": {},
     "output_type": "display_data"
    }
   ],
   "source": [
    "import seaborn as sns\n",
    "sns.set(style=\"ticks\")\n",
    "sns.set_palette(\"rainbow\")\n",
    "\n",
    "sns.pairplot(iris, hue=\"species\")"
   ]
  },
  {
   "cell_type": "code",
   "execution_count": 99,
   "metadata": {},
   "outputs": [
    {
     "data": {
      "text/plain": [
       "<seaborn.axisgrid.FacetGrid at 0x7ff99d7e0790>"
      ]
     },
     "execution_count": 99,
     "metadata": {},
     "output_type": "execute_result"
    },
    {
     "data": {
      "image/png": "[encoded data removed]",
      "text/plain": [
       "<Figure size 432x432 with 4 Axes>"
      ]
     },
     "metadata": {},
     "output_type": "display_data"
    }
   ],
   "source": [
    "import numpy as np\n",
    "import seaborn as sns\n",
    "import matplotlib.pyplot as plt\n",
    "sns.set(style=\"darkgrid\")\n",
    "\n",
    "titanic = sns.load_dataset(\"titanic\")\n",
    "g = sns.FacetGrid(titanic, row=\"alone\", col=\"alive\", margin_titles=True)\n",
    "bins = np.linspace(0, 80, 6)\n",
    "g.map(plt.hist, \"age\", color=\"steelblue\",bins=bins)"
   ]
  },
  {
   "cell_type": "markdown",
   "metadata": {},
   "source": [
    "For categorical data, you can use **catplot** and the palette can be tailored using the following optiosn :\n",
    "* pastel\n",
    "* muted\n",
    "* bright\n",
    "* colorblind\n",
    "* dark\n",
    "* deep\n",
    "\n",
    "\n",
    "In the two charts below, you can see the difference. The first one showing % of survival by sex and the second one counting the actual numbers.\n",
    "\n",
    "If you put *kind = bar*, then you need to put x and y value. The Y value is % of survival.  \n",
    "Otherwise, if *kind = count*, then you only need to put x value since it calculates total only\n",
    "\n"
   ]
  },
  {
   "cell_type": "markdown",
   "metadata": {},
   "source": [
    "# Bar Plot\n",
    "\n",
    "This is a good chart to use when you want to compare cumulative accross an attribute by ascending or descending. In this case we compare total car crashes and find out the breakdown by states.\n",
    "\n",
    "Steps to do :\n",
    "\n",
    "1. A dataframe where you sort a specific field\n",
    "2. Then use seaborn barplot\n"
   ]
  },
  {
   "cell_type": "code",
   "execution_count": 104,
   "metadata": {},
   "outputs": [
    {
     "data": {
      "image/png": "[encoded data removed]",
      "text/plain": [
       "<Figure size 1152x1080 with 1 Axes>"
      ]
     },
     "metadata": {},
     "output_type": "display_data"
    }
   ],
   "source": [
    "import matplotlib.pyplot as plt\n",
    "f, ax = plt.subplots(figsize=(16, 15))\n",
    "\n",
    "df = car_crashes.sort_values('alcohol',ascending=False)\n",
    "sns.set_color_codes(\"colorblind\")\n",
    "sns.barplot(x=\"alcohol\", y=\"abbrev\", data=df,\n",
    "            label=\"Total\", color=\"b\")\n",
    "\n",
    "\n",
    "# Add a legend and informative axis label\n",
    "ax.legend(ncol=2, loc=\"lower right\", frameon=True)\n",
    "ax.set(xlim=(0, 24), ylabel=\"\",\n",
    "       xlabel=\"Automobile collisions per billion miles\")\n",
    "sns.despine(left=True, bottom=True)"
   ]
  },
  {
   "cell_type": "markdown",
   "metadata": {},
   "source": [
    "\n",
    "\n",
    "\n",
    "# Explanations on some of the algorithms high level for interview etc.<a id='algorithms'></a>\n",
    "\n",
    "\n",
    "## Decision Tree : \n",
    "\n",
    "It is a supervised algorithm which means you have features and target label where you train your model. Based on the features you have in your training dataset, it starts splitting up the dataset to different decision nodes until you get to leaf/terminal nodes where you determine the outcome of the model. So in each tree when the data gets split, it will also look at the purity of the data. If is 100% pure or close to 100% then you know that will be the end of your decision tree. Otherwise, it will keep splitting the data until it can get purity of the data to determine decision to be made. We do decision tree on regular basis such as when I decide if I want to wash my car or not. If it is raining definitely not otherwise I look at other factors such as list of things I have to do today and decide if I have time to wash my car.\n",
    "\n",
    "Check out below youtube from statquest which explain in a simple way.\n",
    "https://www.youtube.com/watch?v=7VeUPuFGJHk&t=484s\n",
    "\n",
    "\n",
    "## Random Forests :\n",
    "\n",
    "As is implied by the names \"Tree\" and \"Forest,\" a Random Forest is essentially a collection of Decision Trees. A decision tree is built on an entire dataset, using all the features/variables of interest, whereas a random forest randomly selects observations/rows and specific features/variables to build multiple decision trees from and then averages the results. After a large number of trees are built using this method, each tree \"votes\" or chooses the class, and the class receiving the most votes by a simple majority is the \"winner\" or predicted class. There are of course some more detailed differences, but this is the main conceptual difference.\n",
    "\n",
    "\n",
    "## Overfitting :\n",
    "\n",
    "In statistics, overfitting is \"the production of an analysis that corresponds too closely or exactly to a particular set of data, and may therefore fail to fit additional data or predict future observations reliably\"\n",
    "\n",
    "## Underfitting :\n",
    "\n",
    "The opposite is true when your tree only have a few splits and fails to capture important distinctions and patterns in the data.\n",
    "\n",
    "\n",
    "# Neural Network :\n",
    "\n",
    "So neural network is an algorithm where it tries to replicate how our brains work. So you have inputs and these inputs will go to different neurons and activation functions which determine if a neuron will be activated and will carry to the next hidden layer and you can have more than one hidden layers before it gets to final outcome based on probability to determine for example if it is a dog or a cat for a classification problem. Neural network also has what it is called back propagation where it is capable to go back to initial neuron and change the weight of the variables to reduce the differences between predictid outcome vs the actual outcome. It can run through various EPOCH or iteration and uses gradien descent to find out the optimal value to get the minimal variance between prediction and actual. \n",
    "\n",
    "The algorithm works well with massive data as it is capable to learn massive complex data and probably usefull for things like images as it can be used to analyse complex pixels to determine if it is a dog or cat. \n",
    "\n",
    "But it's probably not great for things like we normally use in banking because it will be hard to determine the relationship with initial features in your data and will be hard to explain to stakeholders and also very expensive process to compute as well. I think a normal algorithm such as random forest probably more usefull and vice versa images probably handled better by neural network.\n",
    "\n",
    "\n",
    "# Gradient Descent :\n",
    "\n",
    "It's basically an iteration process to determine the best optimom variables to reduce the loss/difference between prediction and actual output in your training dataset. \n",
    "\n",
    "\n",
    "\n",
    "\n",
    "# Machine Learning Template, you can apply to Kaggle \n",
    "\n",
    "Steps in doing machine learning :\n",
    "\n",
    "1. Split the data using train test split\n",
    "\n",
    "2. Put to algrorithms\n",
    "\n",
    "3. Evaluate using confusion matrix or RMSE\n",
    "\n",
    "\n",
    "Another rule before putting to algorithms **get rif off null values**, hence use describe function  \n",
    "to see how many values in each column. In Titanic case, you see age has 714 counts where others about 891. \n",
    "So you can't put that field or modify the field to remove null values.\n",
    "\n",
    "Also, you need to split the data into x and y before using train_test split."
   ]
  },
  {
   "cell_type": "markdown",
   "metadata": {},
   "source": [
    "# Example Classification <a id='ExClassification'></a>\n",
    "\n",
    "Titanic dataset is one of the most popular example for classification in data science. In this case, you try to predict how many people would survive in Titanic that sank in North Atlantic Ocean in 1912. This dataset is available within Seaborn and can be downloaded as per below code."
   ]
  },
  {
   "cell_type": "code",
   "execution_count": 105,
   "metadata": {},
   "outputs": [
    {
     "data": {
      "text/plain": [
       "survived         0\n",
       "pclass           0\n",
       "sex              0\n",
       "age            177\n",
       "sibsp            0\n",
       "parch            0\n",
       "fare             0\n",
       "embarked         2\n",
       "class            0\n",
       "who              0\n",
       "adult_male       0\n",
       "deck           688\n",
       "embark_town      2\n",
       "alive            0\n",
       "alone            0\n",
       "dtype: int64"
      ]
     },
     "execution_count": 105,
     "metadata": {},
     "output_type": "execute_result"
    }
   ],
   "source": [
    "\n",
    "import seaborn as sns\n",
    "titanic = sns.load_dataset('titanic')\n",
    "#titanic['sex']=titanic['sex'].astype('category')\n",
    "#titanic['sex']= titanic['sex'].cat.codes\n",
    "#titanic = titanic.drop(['alive','adult_male'],axis=1)\n",
    "\n",
    "titanic.isnull().sum()\n",
    "\n",
    "#titanic.info()"
   ]
  },
  {
   "cell_type": "markdown",
   "metadata": {},
   "source": [
    "As you can see from the above information, there are null values in some features such as age,embarked,deck and embark_town. If you take a peek of the data, you can also see embarked is a short abbreviation of embark_town and we only have two null values. \n",
    "\n",
    "We will replace these null values with the most common value that appear in that column using statistic as per below code."
   ]
  },
  {
   "cell_type": "code",
   "execution_count": 106,
   "metadata": {},
   "outputs": [
    {
     "data": {
      "text/html": [
       "<div>\n",
       "<style scoped>\n",
       "    .dataframe tbody tr th:only-of-type {\n",
       "        vertical-align: middle;\n",
       "    }\n",
       "\n",
       "    .dataframe tbody tr th {\n",
       "        vertical-align: top;\n",
       "    }\n",
       "\n",
       "    .dataframe thead th {\n",
       "        text-align: right;\n",
       "    }\n",
       "</style>\n",
       "<table border=\"1\" class=\"dataframe\">\n",
       "  <thead>\n",
       "    <tr style=\"text-align: right;\">\n",
       "      <th></th>\n",
       "      <th>survived</th>\n",
       "      <th>pclass</th>\n",
       "      <th>sex</th>\n",
       "      <th>age</th>\n",
       "      <th>sibsp</th>\n",
       "      <th>parch</th>\n",
       "      <th>fare</th>\n",
       "      <th>embarked</th>\n",
       "      <th>class</th>\n",
       "      <th>who</th>\n",
       "      <th>adult_male</th>\n",
       "      <th>deck</th>\n",
       "      <th>embark_town</th>\n",
       "      <th>alive</th>\n",
       "      <th>alone</th>\n",
       "    </tr>\n",
       "  </thead>\n",
       "  <tbody>\n",
       "    <tr>\n",
       "      <th>0</th>\n",
       "      <td>0</td>\n",
       "      <td>3</td>\n",
       "      <td>male</td>\n",
       "      <td>22.00</td>\n",
       "      <td>1</td>\n",
       "      <td>0</td>\n",
       "      <td>7.25</td>\n",
       "      <td>S</td>\n",
       "      <td>Third</td>\n",
       "      <td>man</td>\n",
       "      <td>True</td>\n",
       "      <td>NaN</td>\n",
       "      <td>Southampton</td>\n",
       "      <td>no</td>\n",
       "      <td>False</td>\n",
       "    </tr>\n",
       "    <tr>\n",
       "      <th>1</th>\n",
       "      <td>1</td>\n",
       "      <td>1</td>\n",
       "      <td>female</td>\n",
       "      <td>38.00</td>\n",
       "      <td>1</td>\n",
       "      <td>0</td>\n",
       "      <td>71.28</td>\n",
       "      <td>C</td>\n",
       "      <td>First</td>\n",
       "      <td>woman</td>\n",
       "      <td>False</td>\n",
       "      <td>C</td>\n",
       "      <td>Cherbourg</td>\n",
       "      <td>yes</td>\n",
       "      <td>False</td>\n",
       "    </tr>\n",
       "    <tr>\n",
       "      <th>2</th>\n",
       "      <td>1</td>\n",
       "      <td>3</td>\n",
       "      <td>female</td>\n",
       "      <td>26.00</td>\n",
       "      <td>0</td>\n",
       "      <td>0</td>\n",
       "      <td>7.92</td>\n",
       "      <td>S</td>\n",
       "      <td>Third</td>\n",
       "      <td>woman</td>\n",
       "      <td>False</td>\n",
       "      <td>NaN</td>\n",
       "      <td>Southampton</td>\n",
       "      <td>yes</td>\n",
       "      <td>True</td>\n",
       "    </tr>\n",
       "    <tr>\n",
       "      <th>3</th>\n",
       "      <td>1</td>\n",
       "      <td>1</td>\n",
       "      <td>female</td>\n",
       "      <td>35.00</td>\n",
       "      <td>1</td>\n",
       "      <td>0</td>\n",
       "      <td>53.10</td>\n",
       "      <td>S</td>\n",
       "      <td>First</td>\n",
       "      <td>woman</td>\n",
       "      <td>False</td>\n",
       "      <td>C</td>\n",
       "      <td>Southampton</td>\n",
       "      <td>yes</td>\n",
       "      <td>False</td>\n",
       "    </tr>\n",
       "    <tr>\n",
       "      <th>4</th>\n",
       "      <td>0</td>\n",
       "      <td>3</td>\n",
       "      <td>male</td>\n",
       "      <td>35.00</td>\n",
       "      <td>0</td>\n",
       "      <td>0</td>\n",
       "      <td>8.05</td>\n",
       "      <td>S</td>\n",
       "      <td>Third</td>\n",
       "      <td>man</td>\n",
       "      <td>True</td>\n",
       "      <td>NaN</td>\n",
       "      <td>Southampton</td>\n",
       "      <td>no</td>\n",
       "      <td>True</td>\n",
       "    </tr>\n",
       "  </tbody>\n",
       "</table>\n",
       "</div>"
      ],
      "text/plain": [
       "   survived  pclass     sex   age  sibsp  parch  fare embarked  class    who  \\\n",
       "0         0       3    male 22.00      1      0  7.25        S  Third    man   \n",
       "1         1       1  female 38.00      1      0 71.28        C  First  woman   \n",
       "2         1       3  female 26.00      0      0  7.92        S  Third  woman   \n",
       "3         1       1  female 35.00      1      0 53.10        S  First  woman   \n",
       "4         0       3    male 35.00      0      0  8.05        S  Third    man   \n",
       "\n",
       "   adult_male deck  embark_town alive  alone  \n",
       "0        True  NaN  Southampton    no  False  \n",
       "1       False    C    Cherbourg   yes  False  \n",
       "2       False  NaN  Southampton   yes   True  \n",
       "3       False    C  Southampton   yes  False  \n",
       "4        True  NaN  Southampton    no   True  "
      ]
     },
     "metadata": {},
     "output_type": "display_data"
    },
    {
     "data": {
      "text/plain": [
       "survived         0\n",
       "pclass           0\n",
       "sex              0\n",
       "age            177\n",
       "sibsp            0\n",
       "parch            0\n",
       "fare             0\n",
       "embarked         0\n",
       "class            0\n",
       "who              0\n",
       "adult_male       0\n",
       "deck           688\n",
       "embark_town      0\n",
       "alive            0\n",
       "alone            0\n",
       "dtype: int64"
      ]
     },
     "execution_count": 106,
     "metadata": {},
     "output_type": "execute_result"
    }
   ],
   "source": [
    "import statistics\n",
    "from IPython.display import display\n",
    "\n",
    "\n",
    "display (titanic.head())\n",
    "\n",
    "#prev = titanic['embark_town'].isnull().sum()\n",
    "\n",
    "myval = statistics.mode(titanic['embark_town'])     # find the most common value in embark_town\n",
    "titanic['embark_town'].fillna(myval,inplace=True)   # fill na with the above common value\n",
    "\n",
    "\n",
    "myval = statistics.mode(titanic['embarked'])     # find the most common value in embark_town\n",
    "titanic['embarked'].fillna(myval,inplace=True)   # fill na with the above common value\n",
    "\n",
    "#after = titanic['embark_town'].isnull().sum()\n",
    "#display ('Previous null rows are ' + str(prev),'Current null rows are ' + str(after))  # check before/after\n",
    "\n",
    "titanic.isnull().sum()"
   ]
  },
  {
   "cell_type": "markdown",
   "metadata": {},
   "source": [
    "After fixing up the previous two null value issues, we can now focus on age. I don't think deck will give much information considering how many null values it has as well.\n",
    "\n",
    "We're going to start by looking at the distribution of the data using histogram from Seaborn.\n",
    "As per below code, you can see both have median age around 28 years old which is the overall median in the dataset.\n",
    "\n"
   ]
  },
  {
   "cell_type": "code",
   "execution_count": 107,
   "metadata": {},
   "outputs": [
    {
     "data": {
      "text/plain": [
       "'Median Age for Male is 29.0'"
      ]
     },
     "metadata": {},
     "output_type": "display_data"
    },
    {
     "data": {
      "text/plain": [
       "'Median Age for Female is 27.0'"
      ]
     },
     "metadata": {},
     "output_type": "display_data"
    },
    {
     "data": {
      "text/plain": [
       "<seaborn.axisgrid.FacetGrid at 0x7ff99fadb1c0>"
      ]
     },
     "execution_count": 107,
     "metadata": {},
     "output_type": "execute_result"
    },
    {
     "data": {
      "image/png": "[encoded data removed]",
      "text/plain": [
       "<Figure size 1008x504 with 2 Axes>"
      ]
     },
     "metadata": {},
     "output_type": "display_data"
    }
   ],
   "source": [
    "\n",
    "display ('Median Age for Male is ' + str(titanic[titanic['sex']=='male']['age'].median()))\n",
    "display ('Median Age for Female is ' + str(titanic[titanic['sex']=='female']['age'].median()))\n",
    "\n",
    "\n",
    "sns.displot(\n",
    "    titanic, x=\"age\", col=\"sex\",\n",
    "    binwidth=3, height=7, facet_kws=dict(margin_titles=True),\n",
    ")"
   ]
  },
  {
   "cell_type": "markdown",
   "metadata": {},
   "source": [
    "By running below code, we will replace the null values for column age with the median value of 28 years old. By running the total null values, we can see now the remaining null values will be at column deck. We will ignore this column as it has too many null values and probably does not add any more values anyway."
   ]
  },
  {
   "cell_type": "code",
   "execution_count": 108,
   "metadata": {},
   "outputs": [
    {
     "data": {
      "text/plain": [
       "survived         0\n",
       "pclass           0\n",
       "sex              0\n",
       "age              0\n",
       "sibsp            0\n",
       "parch            0\n",
       "fare             0\n",
       "embarked         0\n",
       "class            0\n",
       "who              0\n",
       "adult_male       0\n",
       "deck           688\n",
       "embark_town      0\n",
       "alive            0\n",
       "alone            0\n",
       "dtype: int64"
      ]
     },
     "execution_count": 108,
     "metadata": {},
     "output_type": "execute_result"
    }
   ],
   "source": [
    "myval = titanic['age'].median()\n",
    "titanic['age'].fillna(value=myval,inplace=True)\n",
    "\n",
    "titanic.isnull().sum()"
   ]
  },
  {
   "cell_type": "code",
   "execution_count": 109,
   "metadata": {},
   "outputs": [
    {
     "data": {
      "text/plain": [
       "<seaborn.axisgrid.FacetGrid at 0x7ff9a090cf40>"
      ]
     },
     "execution_count": 109,
     "metadata": {},
     "output_type": "execute_result"
    },
    {
     "data": {
      "image/png": "[encoded data removed]",
      "text/plain": [
       "<Figure size 504.85x432 with 1 Axes>"
      ]
     },
     "metadata": {},
     "output_type": "display_data"
    }
   ],
   "source": [
    "# Draw a nested barplot to show survival for class and sex\n",
    "g = sns.catplot(x=\"class\", y=\"survived\", hue=\"sex\", data=titanic,\n",
    "                height=6, kind=\"bar\", palette=\"deep\")\n",
    "g.despine(left=True)\n",
    "g.set_ylabels(\"survival probability\")"
   ]
  },
  {
   "cell_type": "code",
   "execution_count": 110,
   "metadata": {},
   "outputs": [
    {
     "data": {
      "text/plain": [
       "<seaborn.axisgrid.FacetGrid at 0x7ff9a0864a90>"
      ]
     },
     "execution_count": 110,
     "metadata": {},
     "output_type": "execute_result"
    },
    {
     "data": {
      "image/png": "[encoded data removed]",
      "text/plain": [
       "<Figure size 360x360 with 1 Axes>"
      ]
     },
     "metadata": {},
     "output_type": "display_data"
    }
   ],
   "source": [
    "import seaborn as sns\n",
    "sns.catplot(x='embark_town',data=titanic, kind='count')"
   ]
  },
  {
   "cell_type": "code",
   "execution_count": 138,
   "metadata": {},
   "outputs": [
    {
     "data": {
      "text/html": [
       "<div>\n",
       "<style scoped>\n",
       "    .dataframe tbody tr th:only-of-type {\n",
       "        vertical-align: middle;\n",
       "    }\n",
       "\n",
       "    .dataframe tbody tr th {\n",
       "        vertical-align: top;\n",
       "    }\n",
       "\n",
       "    .dataframe thead th {\n",
       "        text-align: right;\n",
       "    }\n",
       "</style>\n",
       "<table border=\"1\" class=\"dataframe\">\n",
       "  <thead>\n",
       "    <tr style=\"text-align: right;\">\n",
       "      <th></th>\n",
       "      <th>embark_town</th>\n",
       "      <th>sex</th>\n",
       "      <th>count</th>\n",
       "    </tr>\n",
       "  </thead>\n",
       "  <tbody>\n",
       "    <tr>\n",
       "      <th>0</th>\n",
       "      <td>Cherbourg</td>\n",
       "      <td>female</td>\n",
       "      <td>73</td>\n",
       "    </tr>\n",
       "    <tr>\n",
       "      <th>1</th>\n",
       "      <td>Cherbourg</td>\n",
       "      <td>male</td>\n",
       "      <td>95</td>\n",
       "    </tr>\n",
       "    <tr>\n",
       "      <th>2</th>\n",
       "      <td>Queenstown</td>\n",
       "      <td>female</td>\n",
       "      <td>36</td>\n",
       "    </tr>\n",
       "    <tr>\n",
       "      <th>3</th>\n",
       "      <td>Queenstown</td>\n",
       "      <td>male</td>\n",
       "      <td>41</td>\n",
       "    </tr>\n",
       "    <tr>\n",
       "      <th>4</th>\n",
       "      <td>Southampton</td>\n",
       "      <td>female</td>\n",
       "      <td>203</td>\n",
       "    </tr>\n",
       "    <tr>\n",
       "      <th>5</th>\n",
       "      <td>Southampton</td>\n",
       "      <td>male</td>\n",
       "      <td>441</td>\n",
       "    </tr>\n",
       "  </tbody>\n",
       "</table>\n",
       "</div>"
      ],
      "text/plain": [
       "   embark_town     sex  count\n",
       "0    Cherbourg  female     73\n",
       "1    Cherbourg    male     95\n",
       "2   Queenstown  female     36\n",
       "3   Queenstown    male     41\n",
       "4  Southampton  female    203\n",
       "5  Southampton    male    441"
      ]
     },
     "execution_count": 138,
     "metadata": {},
     "output_type": "execute_result"
    }
   ],
   "source": [
    "df = titanic[['embark_town','sex','survived']]\n",
    "df = df.groupby(['embark_town','sex']).count()\n",
    "\n",
    "#type(s)\n",
    "\n",
    "df.reset_index(inplace=True)  # reset index to remove multiple index back to normal columns\n",
    "\n",
    "df.sort_values(['embark_town','sex'])\n",
    "\n",
    "df = df.rename(columns={'survived':'count'})   #rename survived column to count\n",
    "\n",
    "df"
   ]
  },
  {
   "cell_type": "markdown",
   "metadata": {},
   "source": [
    "One of the issues with applying machine learning algorithm in scikit-learn, it does not like non numeric values. It's a bit different with R where you can include categorical values without needing to convert them to numeric values. \n",
    "\n",
    "By running the codes below to exclude data types category, integer and float you'll see there are some columns that need to be converted to category which later can be converted to numeric.\n",
    "\n",
    "Once those columns get converted to category, you can apply lambda x to get category codes as numeric values.\n"
   ]
  },
  {
   "cell_type": "code",
   "execution_count": 111,
   "metadata": {},
   "outputs": [
    {
     "data": {
      "text/plain": [
       "Index(['sex', 'embarked', 'who', 'adult_male', 'embark_town', 'alive',\n",
       "       'alone'],\n",
       "      dtype='object')"
      ]
     },
     "metadata": {},
     "output_type": "display_data"
    },
    {
     "name": "stdout",
     "output_type": "stream",
     "text": [
      "<class 'pandas.core.frame.DataFrame'>\n",
      "RangeIndex: 891 entries, 0 to 890\n",
      "Data columns (total 15 columns):\n",
      " #   Column       Non-Null Count  Dtype  \n",
      "---  ------       --------------  -----  \n",
      " 0   survived     891 non-null    int64  \n",
      " 1   pclass       891 non-null    int64  \n",
      " 2   sex          891 non-null    int8   \n",
      " 3   age          891 non-null    float64\n",
      " 4   sibsp        891 non-null    int64  \n",
      " 5   parch        891 non-null    int64  \n",
      " 6   fare         891 non-null    float64\n",
      " 7   embarked     891 non-null    int8   \n",
      " 8   class        891 non-null    int8   \n",
      " 9   who          891 non-null    int8   \n",
      " 10  adult_male   891 non-null    int8   \n",
      " 11  deck         891 non-null    int8   \n",
      " 12  embark_town  891 non-null    int8   \n",
      " 13  alive        891 non-null    int8   \n",
      " 14  alone        891 non-null    int8   \n",
      "dtypes: float64(2), int64(4), int8(9)\n",
      "memory usage: 49.7 KB\n"
     ]
    }
   ],
   "source": [
    "other = titanic.select_dtypes(exclude=['category','int64','float64']).columns\n",
    "\n",
    "display (other)\n",
    "\n",
    "# convert other to category\n",
    "for i in other:\n",
    "    titanic[i]=titanic[i].astype('category')\n",
    "\n",
    "# pick up those category columns only and apply the cat codes (numeric)    \n",
    "cat_columns = titanic.select_dtypes(include='category').columns\n",
    "titanic[cat_columns]=titanic[cat_columns].apply(lambda x:x.cat.codes)\n",
    "\n",
    "titanic.info()"
   ]
  },
  {
   "cell_type": "code",
   "execution_count": 112,
   "metadata": {},
   "outputs": [
    {
     "data": {
      "text/html": [
       "<div>\n",
       "<style scoped>\n",
       "    .dataframe tbody tr th:only-of-type {\n",
       "        vertical-align: middle;\n",
       "    }\n",
       "\n",
       "    .dataframe tbody tr th {\n",
       "        vertical-align: top;\n",
       "    }\n",
       "\n",
       "    .dataframe thead th {\n",
       "        text-align: right;\n",
       "    }\n",
       "</style>\n",
       "<table border=\"1\" class=\"dataframe\">\n",
       "  <thead>\n",
       "    <tr style=\"text-align: right;\">\n",
       "      <th></th>\n",
       "      <th>Desc</th>\n",
       "      <th>Category</th>\n",
       "    </tr>\n",
       "  </thead>\n",
       "  <tbody>\n",
       "    <tr>\n",
       "      <th>0</th>\n",
       "      <td>2</td>\n",
       "      <td>2</td>\n",
       "    </tr>\n",
       "    <tr>\n",
       "      <th>1</th>\n",
       "      <td>0</td>\n",
       "      <td>0</td>\n",
       "    </tr>\n",
       "    <tr>\n",
       "      <th>5</th>\n",
       "      <td>1</td>\n",
       "      <td>1</td>\n",
       "    </tr>\n",
       "  </tbody>\n",
       "</table>\n",
       "</div>"
      ],
      "text/plain": [
       "   Desc  Category\n",
       "0     2         2\n",
       "1     0         0\n",
       "5     1         1"
      ]
     },
     "execution_count": 112,
     "metadata": {},
     "output_type": "execute_result"
    }
   ],
   "source": [
    "import pandas as pd\n",
    "cat = titanic['embark_town'].astype('category').cat.codes\n",
    "desc = titanic['embark_town']\n",
    "\n",
    "pd.DataFrame({'Desc':desc,'Category':cat}).drop_duplicates()\n",
    "\n",
    "#a.cat.codes.unique()"
   ]
  },
  {
   "cell_type": "markdown",
   "metadata": {},
   "source": [
    "The next step is to split the dataset into training and test using scikit-learn train_test_split. In this case, I will split the data into 80% training and 20% test to validate the model.\n",
    "\n"
   ]
  },
  {
   "cell_type": "code",
   "execution_count": 113,
   "metadata": {},
   "outputs": [
    {
     "name": "stdout",
     "output_type": "stream",
     "text": [
      "891 623 268\n"
     ]
    }
   ],
   "source": [
    "from sklearn.model_selection import train_test_split\n",
    "\n",
    "X = titanic.drop(['survived','deck'],axis=1)\n",
    "y = titanic['survived']\n",
    "\n",
    "X_train, X_test, y_train, y_test = train_test_split(X,y,train_size=0.7, random_state=42)\n",
    "\n",
    "print (titanic.shape[0],X_train.shape[0],X_test.shape[0])"
   ]
  },
  {
   "cell_type": "code",
   "execution_count": 114,
   "metadata": {},
   "outputs": [],
   "source": [
    "from sklearn.ensemble import RandomForestClassifier\n",
    "model = RandomForestClassifier(min_samples_split=5,n_estimators=100, random_state=20)\n",
    "model.fit(X_train, y_train)\n",
    "\n",
    "prediction = model.predict(X_test)"
   ]
  },
  {
   "cell_type": "code",
   "execution_count": 115,
   "metadata": {},
   "outputs": [
    {
     "name": "stdout",
     "output_type": "stream",
     "text": [
      "              precision    recall  f1-score   support\n",
      "\n",
      "        Died       1.00      1.00      1.00       157\n",
      "    Survived       1.00      1.00      1.00       111\n",
      "\n",
      "    accuracy                           1.00       268\n",
      "   macro avg       1.00      1.00      1.00       268\n",
      "weighted avg       1.00      1.00      1.00       268\n",
      "\n"
     ]
    }
   ],
   "source": [
    "from sklearn.metrics import classification_report\n",
    "\n",
    "target_names = ['Died','Survived']   # remember the order is 0,1  hence the labelling follow that order\n",
    "\n",
    "print(classification_report(y_test,prediction,target_names=target_names))\n"
   ]
  },
  {
   "cell_type": "code",
   "execution_count": 116,
   "metadata": {},
   "outputs": [
    {
     "name": "stdout",
     "output_type": "stream",
     "text": [
      "              precision    recall  f1-score   support\n",
      "\n",
      "           0       1.00      1.00      1.00       157\n",
      "           1       1.00      1.00      1.00       111\n",
      "\n",
      "    accuracy                           1.00       268\n",
      "   macro avg       1.00      1.00      1.00       268\n",
      "weighted avg       1.00      1.00      1.00       268\n",
      "\n"
     ]
    },
    {
     "data": {
      "text/plain": [
       "array([[157,   0],\n",
       "       [  0, 111]])"
      ]
     },
     "execution_count": 116,
     "metadata": {},
     "output_type": "execute_result"
    }
   ],
   "source": [
    "from sklearn.metrics import confusion_matrix\n",
    "print(classification_report(y_test,prediction))\n",
    "confusion_matrix(y_test,prediction)"
   ]
  },
  {
   "cell_type": "code",
   "execution_count": 117,
   "metadata": {},
   "outputs": [
    {
     "data": {
      "image/png": "[encoded data removed]",
      "text/plain": [
       "<Figure size 432x288 with 1 Axes>"
      ]
     },
     "metadata": {},
     "output_type": "display_data"
    }
   ],
   "source": [
    "import matplotlib.pyplot as plt\n",
    "from sklearn.inspection import permutation_importance\n",
    "result = permutation_importance(model, X_train, y_train, n_repeats=10,\n",
    "                                random_state=42, n_jobs=2)\n",
    "sorted_idx = result.importances_mean.argsort()\n",
    "\n",
    "fig, ax = plt.subplots()\n",
    "ax.boxplot(result.importances[sorted_idx].T,\n",
    "           vert=False, labels=X_train.columns[sorted_idx])\n",
    "ax.set_title(\"Permutation Importances (train set)\")\n",
    "fig.tight_layout()\n",
    "plt.show()"
   ]
  },
  {
   "cell_type": "code",
   "execution_count": 118,
   "metadata": {},
   "outputs": [
    {
     "name": "stdout",
     "output_type": "stream",
     "text": [
      "              precision    recall  f1-score   support\n",
      "\n",
      "        Died       1.00      1.00      1.00       105\n",
      "    Survived       1.00      1.00      1.00        74\n",
      "\n",
      "    accuracy                           1.00       179\n",
      "   macro avg       1.00      1.00      1.00       179\n",
      "weighted avg       1.00      1.00      1.00       179\n",
      "\n"
     ]
    }
   ],
   "source": [
    "X = titanic.drop(['alone', 'parch', 'embarked', 'deck', 'sibsp', 'embark_town','survived'],axis=1)\n",
    "y = titanic['survived']\n",
    "\n",
    "X_train, X_test, y_train, y_test = train_test_split(X,y,train_size=0.8, random_state=42)\n",
    "\n",
    "\n",
    "from sklearn.ensemble import RandomForestClassifier\n",
    "model = RandomForestClassifier(min_samples_split=20,n_estimators=100, random_state=20)\n",
    "model.fit(X_train, y_train)\n",
    "\n",
    "prediction = model.predict(X_test)\n",
    "type(prediction)\n",
    "\n",
    "from sklearn.metrics import classification_report\n",
    "\n",
    "target_names = ['Died','Survived']   # remember the order is 0,1  hence the labelling follow that order\n",
    "\n",
    "print(classification_report(y_test,prediction,target_names=target_names))\n",
    "\n"
   ]
  },
  {
   "cell_type": "markdown",
   "metadata": {},
   "source": [
    "By pruning some of the features based on importance, it does not really change the results much. Actually dropped a little from 0.83 to 0.82"
   ]
  },
  {
   "cell_type": "markdown",
   "metadata": {},
   "source": [
    "\n",
    "# Fine tuning parameters using gridsearchCV\n",
    "\n",
    "We can improve the previous results by tuning the available parameters for Random Forest.  \n",
    "In this case we want to change the max dept by trying 2,3,4 and n_estimators by 50,70 etc.  \n",
    "You can see the outcome showing improvement from 74% to 76%.\n",
    "\n",
    "```python\n",
    "from sklearn.model_selection import GridSearchCV\n",
    "parameters = {'max_depth':[2,3,4], 'n_estimators':[50, 70,100,200]}\n",
    "```\n",
    "\n",
    "You can also add cross validation by adding cv=\n",
    "\n",
    "```python\n",
    "tuning = GridSearchCV(model,parameters,cv=10)\n",
    "```"
   ]
  },
  {
   "cell_type": "code",
   "execution_count": 119,
   "metadata": {
    "scrolled": true
   },
   "outputs": [
    {
     "data": {
      "text/plain": [
       "GridSearchCV(cv=10,\n",
       "             estimator=RandomForestClassifier(min_samples_split=20,\n",
       "                                              random_state=20),\n",
       "             param_grid={'max_depth': [2, 3, 4],\n",
       "                         'n_estimators': [50, 70, 100, 200]})"
      ]
     },
     "execution_count": 119,
     "metadata": {},
     "output_type": "execute_result"
    }
   ],
   "source": [
    "from sklearn.model_selection import GridSearchCV\n",
    "parameters = {'max_depth':[2,3,4], 'n_estimators':[50, 70,100,200]}\n",
    "\n",
    "tuning = GridSearchCV(model,parameters,cv=10)\n",
    "tuning.fit(X_train,y_train)"
   ]
  },
  {
   "cell_type": "code",
   "execution_count": 120,
   "metadata": {},
   "outputs": [
    {
     "data": {
      "text/plain": [
       "{'cv': 10,\n",
       " 'error_score': nan,\n",
       " 'estimator__bootstrap': True,\n",
       " 'estimator__ccp_alpha': 0.0,\n",
       " 'estimator__class_weight': None,\n",
       " 'estimator__criterion': 'gini',\n",
       " 'estimator__max_depth': None,\n",
       " 'estimator__max_features': 'auto',\n",
       " 'estimator__max_leaf_nodes': None,\n",
       " 'estimator__max_samples': None,\n",
       " 'estimator__min_impurity_decrease': 0.0,\n",
       " 'estimator__min_impurity_split': None,\n",
       " 'estimator__min_samples_leaf': 1,\n",
       " 'estimator__min_samples_split': 20,\n",
       " 'estimator__min_weight_fraction_leaf': 0.0,\n",
       " 'estimator__n_estimators': 100,\n",
       " 'estimator__n_jobs': None,\n",
       " 'estimator__oob_score': False,\n",
       " 'estimator__random_state': 20,\n",
       " 'estimator__verbose': 0,\n",
       " 'estimator__warm_start': False,\n",
       " 'estimator': RandomForestClassifier(min_samples_split=20, random_state=20),\n",
       " 'iid': 'deprecated',\n",
       " 'n_jobs': None,\n",
       " 'param_grid': {'max_depth': [2, 3, 4], 'n_estimators': [50, 70, 100, 200]},\n",
       " 'pre_dispatch': '2*n_jobs',\n",
       " 'refit': True,\n",
       " 'return_train_score': False,\n",
       " 'scoring': None,\n",
       " 'verbose': 0}"
      ]
     },
     "execution_count": 120,
     "metadata": {},
     "output_type": "execute_result"
    }
   ],
   "source": [
    "tuning.get_params()"
   ]
  },
  {
   "cell_type": "code",
   "execution_count": 121,
   "metadata": {},
   "outputs": [
    {
     "name": "stdout",
     "output_type": "stream",
     "text": [
      "              precision    recall  f1-score   support\n",
      "\n",
      "        Died       1.00      1.00      1.00       105\n",
      "    Survived       1.00      1.00      1.00        74\n",
      "\n",
      "    accuracy                           1.00       179\n",
      "   macro avg       1.00      1.00      1.00       179\n",
      "weighted avg       1.00      1.00      1.00       179\n",
      "\n"
     ]
    }
   ],
   "source": [
    "prediction2 =  tuning.predict(X_test)\n",
    "\n",
    "from sklearn.metrics import classification_report\n",
    "\n",
    "target_names = ['Died','Survived']   # remember the order is 0,1  hence the labelling follow that order\n",
    "\n",
    "print(classification_report(y_test,prediction2,target_names=target_names))"
   ]
  },
  {
   "cell_type": "markdown",
   "metadata": {},
   "source": [
    "\n",
    "## More advanced coding using pipeline for titanic <a id='pipeline'></a>\n",
    "\n",
    "\n",
    "Explanation can be found below :\n",
    "\n",
    "1. These two codes create **pipeline** for numeric and categorical for some columns.  \n",
    "   For age and fare, it uses simpleimputer using median and standard scaler.  \n",
    "   For embarked, sex and pclass, it uses constant replacing null with word missing.  \n",
    "   After that it uses one hot encoding.\n",
    "\n",
    "```python\n",
    "numeric_features = ['age', 'fare']\n",
    "numeric_transformer = Pipeline(steps=[\n",
    "    ('imputer', SimpleImputer(strategy='median')),\n",
    "    ('scaler', StandardScaler())])\n",
    "\n",
    "categorical_features = ['embarked', 'sex', 'pclass']\n",
    "categorical_transformer = Pipeline(steps=[\n",
    "    ('imputer', SimpleImputer(strategy='constant', fill_value='missing')),\n",
    "    ('onehot', OneHotEncoder(handle_unknown='ignore'))])\n",
    "```\n",
    "\n",
    "2. The next codes basically applying the pipeline to columns (category and numeric).    \n",
    "\n",
    "```python\n",
    "preprocessor = ColumnTransformer(\n",
    "    transformers=[\n",
    "        ('num', numeric_transformer, numeric_features),\n",
    "        ('cat', categorical_transformer, categorical_features)])\n",
    "```\n",
    "\n",
    "\n",
    "3. Then it does another pipeline to combine data wrangling with another model in this case logistic regression.  \n",
    "Then this becomes your model which you can train against dataset.\n",
    "\n",
    "```python\n",
    "# Append classifier to preprocessing pipeline.\n",
    "# Now we have a full prediction pipeline.\n",
    "clf = Pipeline(steps=[('preprocessor', preprocessor),\n",
    "                      ('classifier', LogisticRegression())])\n",
    "```\n",
    "\n",
    "\n",
    "\n",
    "## Full code can be seen below\n",
    "```python\n",
    "import numpy as np\n",
    "from sklearn.compose import ColumnTransformer\n",
    "from sklearn.datasets import fetch_openml\n",
    "from sklearn.pipeline import Pipeline\n",
    "from sklearn.impute import SimpleImputer\n",
    "from sklearn.preprocessing import StandardScaler, OneHotEncoder\n",
    "from sklearn.linear_model import LogisticRegression\n",
    "from sklearn.model_selection import train_test_split, GridSearchCV\n",
    "```\n",
    "\n",
    "```python\n",
    "# We create the preprocessing pipelines for both numeric and categorical data.\n",
    "\n",
    "X = titanic.drop('survived',axis=1)\n",
    "y = titanic['survived']\n",
    "numeric_features = ['age', 'fare']\n",
    "numeric_transformer = Pipeline(steps=[\n",
    "    ('imputer', SimpleImputer(strategy='median')),\n",
    "    ('scaler', StandardScaler())])\n",
    "\n",
    "categorical_features = ['embarked', 'sex', 'pclass']\n",
    "categorical_transformer = Pipeline(steps=[\n",
    "    ('imputer', SimpleImputer(strategy='constant', fill_value='missing')),\n",
    "    ('onehot', OneHotEncoder(handle_unknown='ignore'))])\n",
    "\n",
    "preprocessor = ColumnTransformer(\n",
    "    transformers=[\n",
    "        ('num', numeric_transformer, numeric_features),\n",
    "        ('cat', categorical_transformer, categorical_features)])\n",
    "\n",
    "# Append classifier to preprocessing pipeline.\n",
    "# Now we have a full prediction pipeline.\n",
    "clf = Pipeline(steps=[('preprocessor', preprocessor),\n",
    "                      ('classifier', LogisticRegression())])\n",
    "\n",
    "X_train, X_test, y_train, y_test = train_test_split(X, y, test_size=0.2)\n",
    "\n",
    "clf.fit(X_train, y_train)\n",
    "print(\"model score: %.3f\" % clf.score(X_test, y_test))\n",
    "```"
   ]
  },
  {
   "cell_type": "markdown",
   "metadata": {},
   "source": [
    "\n",
    "# Adding Gridsearch on top of pipeline\n",
    "\n",
    "Once you've done with setting up pipeline above, you can fine tune parameters even more.  \n",
    "To see the attributes under your pipeline you can use .get_params().keys().    \n",
    "As in our case, our final pipeline contains **preprocessor and classifier**.   \n",
    "So you can check the parameters for those two using codes below.  \n",
    "\n",
    "```python\n",
    "preprocessor.get_params().keys()\n",
    "LogisticRegression().get_params().keys()\n",
    "```\n",
    "\n",
    "Once you have identified the parameters you want to change, you can apply them  \n",
    "to your param_grid or you can name it whatever before applying to GridSearchCV.\n",
    "\n",
    "\n",
    "# use below code for adding GridSearch\n",
    "```python\n",
    "param_grid = {\n",
    "    'preprocessor__num__imputer__strategy': ['mean','median','most_frequent'],\n",
    "    'classifier__C': [0.1, 1.0, 10, 100],\n",
    "}\n",
    "\n",
    "grid_search = GridSearchCV(clf, param_grid, cv=10)\n",
    "grid_search.fit(X_train, y_train)\n",
    "\n",
    "print((\"best logistic regression from grid search: %.3f\"\n",
    "       % grid_search.score(X_test, y_test)))\n",
    "```"
   ]
  },
  {
   "cell_type": "markdown",
   "metadata": {},
   "source": [
    "# Linear Regression Example Using Boston Dataset <a id='ExLinear'></a>\n",
    "\n",
    "The following example will show how to apply linear regression againt Boston dataset which is available from scikit-learn.  \n",
    "Run the below code to download the data as well as to show the full description of all attributes. "
   ]
  },
  {
   "cell_type": "code",
   "execution_count": 126,
   "metadata": {},
   "outputs": [
    {
     "name": "stdout",
     "output_type": "stream",
     "text": [
      ".. _boston_dataset:\n",
      "\n",
      "Boston house prices dataset\n",
      "---------------------------\n",
      "\n",
      "**Data Set Characteristics:**  \n",
      "\n",
      "    :Number of Instances: 506 \n",
      "\n",
      "    :Number of Attributes: 13 numeric/categorical predictive. Median Value (attribute 14) is usually the target.\n",
      "\n",
      "    :Attribute Information (in order):\n",
      "        - CRIM     per capita crime rate by town\n",
      "        - ZN       proportion of residential land zoned for lots over 25,000 sq.ft.\n",
      "        - INDUS    proportion of non-retail business acres per town\n",
      "        - CHAS     Charles River dummy variable (= 1 if tract bounds river; 0 otherwise)\n",
      "        - NOX      nitric oxides concentration (parts per 10 million)\n",
      "        - RM       average number of rooms per dwelling\n",
      "        - AGE      proportion of owner-occupied units built prior to 1940\n",
      "        - DIS      weighted distances to five Boston employment centres\n",
      "        - RAD      index of accessibility to radial highways\n",
      "        - TAX      full-value property-tax rate per $10,000\n",
      "        - PTRATIO  pupil-teacher ratio by town\n",
      "        - B        1000(Bk - 0.63)^2 where Bk is the proportion of blacks by town\n",
      "        - LSTAT    % lower status of the population\n",
      "        - MEDV     Median value of owner-occupied homes in $1000's\n",
      "\n",
      "    :Missing Attribute Values: None\n",
      "\n",
      "    :Creator: Harrison, D. and Rubinfeld, D.L.\n",
      "\n",
      "This is a copy of UCI ML housing dataset.\n",
      "https://archive.ics.uci.edu/ml/machine-learning-databases/housing/\n",
      "\n",
      "\n",
      "This dataset was taken from the StatLib library which is maintained at Carnegie Mellon University.\n",
      "\n",
      "The Boston house-price data of Harrison, D. and Rubinfeld, D.L. 'Hedonic\n",
      "prices and the demand for clean air', J. Environ. Economics & Management,\n",
      "vol.5, 81-102, 1978.   Used in Belsley, Kuh & Welsch, 'Regression diagnostics\n",
      "...', Wiley, 1980.   N.B. Various transformations are used in the table on\n",
      "pages 244-261 of the latter.\n",
      "\n",
      "The Boston house-price data has been used in many machine learning papers that address regression\n",
      "problems.   \n",
      "     \n",
      ".. topic:: References\n",
      "\n",
      "   - Belsley, Kuh & Welsch, 'Regression diagnostics: Identifying Influential Data and Sources of Collinearity', Wiley, 1980. 244-261.\n",
      "   - Quinlan,R. (1993). Combining Instance-Based and Model-Based Learning. In Proceedings on the Tenth International Conference of Machine Learning, 236-243, University of Massachusetts, Amherst. Morgan Kaufmann.\n",
      "\n"
     ]
    }
   ],
   "source": [
    "import pandas as pd\n",
    "from sklearn.datasets import load_boston\n",
    "boston = load_boston()\n",
    "#print(boston_dataset.keys())\n",
    "print(boston.DESCR)"
   ]
  },
  {
   "cell_type": "markdown",
   "metadata": {},
   "source": [
    "Once the above code finished running, you can create a dataframe as per below code. The code **load_boston()** will populate the data under  **boston.data** as well as column names under **boston.feature_names**. The target data or predicted values can be found under **boston.target**.  Based on this information, you can create a complete dataframe in Pandas. It is also good to check if there are any null values in your dataset which in this case none due to data from scikit-learn is clean.\n"
   ]
  },
  {
   "cell_type": "code",
   "execution_count": 124,
   "metadata": {},
   "outputs": [
    {
     "data": {
      "text/plain": [
       "CRIM       0\n",
       "ZN         0\n",
       "INDUS      0\n",
       "CHAS       0\n",
       "NOX        0\n",
       "RM         0\n",
       "AGE        0\n",
       "DIS        0\n",
       "RAD        0\n",
       "TAX        0\n",
       "PTRATIO    0\n",
       "B          0\n",
       "LSTAT      0\n",
       "MEDV       0\n",
       "dtype: int64"
      ]
     },
     "execution_count": 124,
     "metadata": {},
     "output_type": "execute_result"
    }
   ],
   "source": [
    "import pandas as pd\n",
    "from sklearn.datasets import load_boston\n",
    "boston = load_boston()\n",
    "df = pd.DataFrame(boston.data,columns=boston.feature_names)\n",
    "df['MEDV'] = boston.target      # assign the target value to dataframe\n",
    "\n",
    "df.isnull().sum()\n"
   ]
  },
  {
   "cell_type": "markdown",
   "metadata": {},
   "source": [
    "One of the issues found in dataset is you have to many attributes but not all of them really have linear relationship with the target value, in this case MEDV. The easiest way to sort this out is by running correlation function in Pandas and use Seaborn heatmap to show the overall relationship. \n",
    "\n",
    "We know the outcome of correlation will either be +1 or -1 which can help determine which attributes should be used. We can filter the output using a threshold such as > 0.5 and convert the correlation to absolute values. \n",
    "\n",
    "In the below code, you can see the print out of 3 features above 0.5 threshold : RM, PTRATIO and LSTAT.\n",
    "\n",
    "- LSTAT    : % lower status of the population\n",
    "- PTRATIO  : pupil-teacher ratio by town\n",
    "- RM       : average number of rooms per dwelling"
   ]
  },
  {
   "cell_type": "code",
   "execution_count": null,
   "metadata": {},
   "outputs": [],
   "source": [
    "import matplotlib.pyplot as plt\n",
    "plt.figure(figsize=(13, 6))\n",
    "\n",
    "\n",
    "corr_table = df.corr().round(2)\n",
    "# annot = True to print the values inside the square\n",
    "sns.heatmap(data=corr_table, annot=True)\n",
    "\n",
    "abs_cor = corr_table[abs(corr_table['MEDV'])>0.5]\n",
    "print (abs_cor['MEDV'])"
   ]
  },
  {
   "cell_type": "markdown",
   "metadata": {},
   "source": [
    "You can plot those three features against the target value to see how linear the relationships are. You can see LSTAT and RM look pretty linear due to their values close to +1 or -1. From the charts, we can exclude PTRATIO and just use LSTAT and RM to our linear regression model. "
   ]
  },
  {
   "cell_type": "code",
   "execution_count": null,
   "metadata": {},
   "outputs": [],
   "source": [
    "plt.figure(figsize=(13, 6))\n",
    "\n",
    "features = ['LSTAT', 'RM','PTRATIO']\n",
    "target = df['MEDV']\n",
    "\n",
    "for i, col in enumerate(features):\n",
    "    plt.subplot(1, len(features) , i+1)\n",
    "    x = df[col]\n",
    "    y = target\n",
    "    plt.scatter(x, y, marker='x')\n",
    "    plt.title(col)\n",
    "    plt.xlabel(col)\n",
    "    plt.ylabel('MEDV')"
   ]
  },
  {
   "cell_type": "code",
   "execution_count": null,
   "metadata": {},
   "outputs": [],
   "source": [
    "sns.set(rc={'figure.figsize':(11.7,8.27)})\n",
    "sns.distplot(df['MEDV'], bins=30)\n",
    "plt.show()"
   ]
  },
  {
   "cell_type": "code",
   "execution_count": null,
   "metadata": {},
   "outputs": [],
   "source": [
    "x = df.drop('MEDV',1)           # split x to exclude target \n",
    "y = df['MEDV']                  # target value as y\n",
    "boston.keys()\n",
    "#print(boston.DESCR)        # if you want to see the full description of dataset just run this code\n",
    "\n",
    "\n",
    "from sklearn.model_selection import train_test_split\n",
    "X_train,X_test,y_train,y_test = train_test_split(x,y,train_size=0.8)\n",
    "\n",
    "\n",
    "from sklearn.linear_model import LinearRegression\n",
    "model = LinearRegression()\n",
    "\n",
    "model.fit(X_train,y_train)\n",
    "\n",
    "\n",
    "predict = model.predict(X_test)\n",
    "\n",
    "\n",
    "from sklearn.metrics import mean_absolute_error, mean_squared_error\n",
    "myerror = round(mean_absolute_error(y_test, predict),2)\n",
    "print ('The absolute error is ' + str(myerror) + '\\n')\n",
    "\n",
    "print(y_test.describe())"
   ]
  },
  {
   "cell_type": "markdown",
   "metadata": {},
   "source": [
    "If you check the stats for y_test, the average is about 22.85 and error rate is about 3.55 so pretty good result"
   ]
  },
  {
   "cell_type": "markdown",
   "metadata": {},
   "source": [
    "# MNIST Example - Handwriting Prediction <a id='Handwriting'></a>\n",
    "\n",
    "The following example will show how to apply linear regression againt Boston dataset which is available from scikit-learn.  \n",
    "Run the below code to download the data as well as to show the full description of all attributes. "
   ]
  },
  {
   "cell_type": "code",
   "execution_count": null,
   "metadata": {},
   "outputs": [],
   "source": [
    "from sklearn import datasets\n",
    "digit = datasets.load_digits()\n",
    "digit.keys()"
   ]
  },
  {
   "cell_type": "code",
   "execution_count": null,
   "metadata": {},
   "outputs": [],
   "source": [
    "from sklearn.model_selection import train_test_split\n",
    "from sklearn.model_selection import GridSearchCV\n",
    "from sklearn.svm import SVC\n",
    "\n",
    "\n",
    "x = digit.data\n",
    "y = digit.target\n",
    "\n",
    "\n",
    "model = SVC()\n",
    "parm ={'kernel':('linear','rbf'),'C':[1,10]}\n",
    "\n",
    "x_train, x_test, y_train, y_test = train_test_split(x,y,train_size=0.8)"
   ]
  },
  {
   "cell_type": "code",
   "execution_count": null,
   "metadata": {},
   "outputs": [],
   "source": [
    "clf = GridSearchCV(model,parm,cv=5)\n",
    "clf = clf.fit(x_train,y_train)\n",
    "clf.best_score_"
   ]
  },
  {
   "cell_type": "code",
   "execution_count": null,
   "metadata": {},
   "outputs": [],
   "source": [
    "pred = clf.predict(x_test)\n",
    "\n",
    "from sklearn.metrics import classification_report\n",
    "from sklearn.metrics import confusion_matrix\n",
    "\n",
    "print(classification_report(y_test,pred))\n",
    "confusion_matrix(y_test,pred)"
   ]
  },
  {
   "cell_type": "code",
   "execution_count": null,
   "metadata": {},
   "outputs": [],
   "source": [
    "# combine pred and actual \n",
    "\n",
    "import numpy as np\n",
    "\n",
    "c = np.dstack((pred,y_test))\n",
    "c = c.reshape(c.shape[1],c.shape[2])\n",
    "\n",
    "# find index where pred and actual not equal\n",
    "t, = np.where(c[:,0]!=c[:,1])\n",
    "\n",
    "# figure out the size of the plot\n",
    "z = round(len(t) ** 0.5,0) + 1\n",
    "\n",
    "# create plots\n",
    "plt.figure(figsize=(10,8))\n",
    "\n",
    "for i in range(len(t)):\n",
    "    plt.subplot(z,z,i+1)\n",
    "    plt.imshow(x_test[t[i]].reshape(8,8))\n",
    "    plt.title('Pred %s' %(pred[t[i]]) + ' Act %s' %(y_test[t[i]]))\n"
   ]
  },
  {
   "cell_type": "markdown",
   "metadata": {},
   "source": [
    "# Evaluation Matrix <a id='Evaluation'></a>"
   ]
  },
  {
   "cell_type": "markdown",
   "metadata": {},
   "source": [
    "The following section will explain how the evaluation matrix works.\n",
    "\n",
    "It will start with two lists : y_true and y_pred\n",
    "\n",
    "Also remember when you put target names, follow sequential order.  \n",
    "So it will sort based on A - Z or sequential numbers so your output will be correct\n",
    "\n",
    "Explanation on precision and recall\n",
    "\n",
    "* Precision : for example value c, the result is 100% because it only predicts once and that one is correct.\n",
    "* Recall : for example c, we predict c once but there are 3 cs. Hence 1/3 showing recall of 0.33\n",
    "* Accuracy : it's just the overall prediction correct vs wrong, in this case 4/6 = 67%\n",
    "* F1 Score : it's a formula to avg (confused the shit out of me! but here it is)  \n",
    "       * precision X recall/(precision + recall) X 2 *\n",
    "       \n",
    "* Macro avg : this is similar to balanced accuracy , see the next code to show the results\n",
    "\n",
    "Good link for change the colour for heatmap [Link](https://likegeeks.com/seaborn-heatmap-tutorial/)"
   ]
  },
  {
   "cell_type": "code",
   "execution_count": null,
   "metadata": {},
   "outputs": [],
   "source": [
    "from sklearn.metrics import classification_report\n",
    "from sklearn.metrics import confusion_matrix\n",
    "import seaborn as sns\n",
    "\n",
    "\n",
    "y_true = ['b', 'b', 'c', 'c', 'z', 'c']\n",
    "y_pred = ['b', 'b', 'z', 'c', 'z', 'b']\n",
    "z = confusion_matrix(y_true, y_pred)\n",
    "\n",
    "plt.figure(figsize=(9, 6))\n",
    "sns.heatmap(z,annot=True,cmap='Reds')\n",
    "\n",
    "\n",
    "target_names = ['b','c','z']\n",
    "\n",
    "print(classification_report(y_true,y_pred,target_names=target_names))"
   ]
  },
  {
   "cell_type": "code",
   "execution_count": null,
   "metadata": {},
   "outputs": [],
   "source": [
    "from sklearn.metrics import balanced_accuracy_score\n",
    "display (round(balanced_accuracy_score(y_true,y_pred),2))\n",
    "display (round(balanced_accuracy_score(y_pred,y_true),2))"
   ]
  },
  {
   "cell_type": "markdown",
   "metadata": {},
   "source": [
    "# Mean Absolute Error and RMS\n",
    "\n",
    "Please note for RMS, you need to put False for squared =. Otherwise it will just take the root numbers without squaering it. "
   ]
  },
  {
   "cell_type": "code",
   "execution_count": null,
   "metadata": {},
   "outputs": [],
   "source": [
    "from sklearn.metrics import mean_absolute_error\n",
    "y_true = [5, 5, 5]\n",
    "y_pred = [7, 7, 7]\n",
    "mean_absolute_error(y_true, y_pred)"
   ]
  },
  {
   "cell_type": "code",
   "execution_count": null,
   "metadata": {},
   "outputs": [],
   "source": [
    "from sklearn.metrics import mean_squared_error\n",
    "y_true = [5, 5, 5]\n",
    "y_pred = [7, 7, 7]\n",
    "mean_squared_error(y_true, y_pred,squared=False)"
   ]
  },
  {
   "cell_type": "code",
   "execution_count": null,
   "metadata": {},
   "outputs": [],
   "source": [
    "from sklearn.datasets import load_iris\n",
    "from sklearn.linear_model import LogisticRegression\n",
    "X, y = load_iris(return_X_y=True)\n",
    "clf = LogisticRegression(random_state=0).fit(X, y)\n",
    "clf.predict(X[:2, :])\n",
    "clf.predict_proba(X[:2, :])\n",
    "clf.score(X, y)"
   ]
  },
  {
   "cell_type": "markdown",
   "metadata": {},
   "source": [
    "# Playing around with words <a id='Words'></a>\n",
    "\n",
    "The code below will be usefull later on for example to analyse credit card descriptions and doing grouping. It can be used for other things later on."
   ]
  },
  {
   "cell_type": "code",
   "execution_count": null,
   "metadata": {},
   "outputs": [],
   "source": [
    "word_list = ['Jellicle', 'Cats', 'are', 'black', 'and', 'white,', 'Jellicle', 'Cats', 'are', 'rather', 'small;', 'Jellicle', 'Cats', 'are', 'merry', 'and', 'bright,', 'And', 'pleasant', 'to', 'hear', 'when', 'they', 'caterwaul.', 'Jellicle', 'Cats', 'have', 'cheerful', 'faces,', 'Jellicle', 'Cats', 'have', 'bright', 'black', 'eyes;', 'They', 'like', 'to', 'practise', 'their', 'airs', 'and', 'graces', 'And', 'wait', 'for', 'the', 'Jellicle', 'Moon', 'to', 'rise.', '']\n",
    "\n",
    "word_counter = {}\n",
    "\n",
    "for word in word_list:\n",
    "    if word in word_counter:\n",
    "         word_counter[word] += 1\n",
    "    else:\n",
    "         word_counter[word] = 1\n",
    "\n",
    "popular_words = sorted(word_counter, key = word_counter.get, reverse = True)\n",
    "\n",
    "display ('top 3 popular words are ' + str(popular_words[:3]))\n",
    "\n",
    "\n",
    "for i in popular_words:\n",
    "    print (i + ' ' + str(word_counter.get(i)))"
   ]
  },
  {
   "cell_type": "markdown",
   "metadata": {},
   "source": [
    "\n",
    "## COVID Charts - Live Data\n",
    "\n",
    "This is a really cool website to explain subplotting for seaborn which is used in this COVID charts. [refer to this website](https://dev.to/thalesbruno/subplotting-with-matplotlib-and-seaborn-5ei8) <a id='COVID'></a>"
   ]
  },
  {
   "cell_type": "code",
   "execution_count": 127,
   "metadata": {},
   "outputs": [],
   "source": [
    "import os\n",
    "import pandas as pd\n",
    "#os.getcwd()\n",
    "#os.chdir('/Users/ronny/downloads')\n",
    "df_confirmed = pd.read_csv('https://raw.githubusercontent.com/CSSEGISandData/COVID-19/master/csse_covid_19_data/csse_covid_19_time_series/time_series_covid19_confirmed_global.csv')\n",
    "df_death = pd.read_csv('https://raw.githubusercontent.com/CSSEGISandData/COVID-19/master/csse_covid_19_data/csse_covid_19_time_series/time_series_covid19_deaths_global.csv')\n",
    "df_recovered = pd.read_csv('https://raw.githubusercontent.com/CSSEGISandData/COVID-19/master/csse_covid_19_data/csse_covid_19_time_series/time_series_covid19_recovered_global.csv')\n",
    "\n",
    "\n",
    "\n",
    "\n",
    "# fix wide data to proper dataframe using melt\n",
    "df_confirmed = df_confirmed.melt(id_vars=['Province/State','Country/Region','Lat','Long'])\n",
    "df_confirmed.columns = ['State','Country','Lat','Long','Date','Confirmed']\n",
    "\n",
    "df_death = df_death.melt(id_vars=['Province/State','Country/Region','Lat','Long'])\n",
    "df_death.columns = ['State','Country','Lat','Long','Date','Death']\n",
    "\n",
    "df_recovered = df_recovered.melt(id_vars=['Province/State','Country/Region','Lat','Long'])\n",
    "df_recovered.columns = ['State','Country','Lat','Long','Date','Recovered']\n",
    "\n",
    "# join the different data\n",
    "df_covid = df_confirmed.join(df_death['Death']).join(df_recovered['Recovered'])\n",
    "df_covid['Date'] = pd.to_datetime(df_covid['Date'])\n",
    "                                          \n"
   ]
  },
  {
   "cell_type": "code",
   "execution_count": 128,
   "metadata": {
    "scrolled": false
   },
   "outputs": [
    {
     "data": {
      "image/png": "[encoded data removed]",
      "text/plain": [
       "<Figure size 2160x1800 with 10 Axes>"
      ]
     },
     "metadata": {},
     "output_type": "display_data"
    }
   ],
   "source": [
    "import matplotlib.pyplot as plt\n",
    "import seaborn as sns\n",
    "\n",
    "start_date = '2020-01-01'\n",
    "\n",
    "country = ['US','United Kingdom','Korea, South','Japan','China']\n",
    "columns = ['NewCases','NewDeath']\n",
    "\n",
    "fig, axes = plt.subplots(len(country), len(columns), figsize=(30,25))\n",
    "fig.suptitle('COVID WORLWIDE')\n",
    "\n",
    "for i,d in enumerate(country):\n",
    "    for n,k in enumerate(columns):\n",
    "        axes[i,n].set(title=d + ' ' + k)\n",
    "        \n",
    "        Country = df_covid[(df_covid['Date']>start_date) & (df_covid['Country']==d)].groupby(['Date','Country']).sum()\n",
    "        Country.reset_index(inplace=True)\n",
    "        Country = Country.sort_values(['Date'],ascending=True)     # sort values for cal purpose later on, use ascending otherwise you get negative numbers\n",
    "        Country['NewDeath']= Country[['Death']].diff()\n",
    "        Country['NewCases']= Country[['Confirmed']].diff()\n",
    "        Country['Mortality%']= Country['Death']/Country['Confirmed']*100\n",
    "        Country['Date'] = Country['Date'].dt.strftime('%d/%m/%Y')\n",
    "\n",
    "        sns.barplot(ax=axes[i,n],x='Date',y=k,data=Country,label='big')        "
   ]
  },
  {
   "cell_type": "code",
   "execution_count": 129,
   "metadata": {},
   "outputs": [
    {
     "data": {
      "text/plain": [
       "Text(0.5, 0.98, 'Top 10 Countries with Highest Covid Cases')"
      ]
     },
     "execution_count": 129,
     "metadata": {},
     "output_type": "execute_result"
    },
    {
     "data": {
      "image/png": "[encoded data removed]",
      "text/plain": [
       "<Figure size 1080x864 with 1 Axes>"
      ]
     },
     "metadata": {},
     "output_type": "display_data"
    }
   ],
   "source": [
    "import matplotlib.pyplot as plt\n",
    "f, ax = plt.subplots(figsize=(15, 12))\n",
    "\n",
    "data = df_covid.groupby('Country')['Confirmed'].sum().sort_values(ascending=False).reset_index()\n",
    "data = data.head(10)\n",
    "\n",
    "#sns.set_color_codes(\"colorblind\")\n",
    "sns.barplot(x=\"Confirmed\", y=\"Country\", data=data,\n",
    "            label=\"Total\", color=\"b\")\n",
    "\n",
    "fig.suptitle('Top 10 Countries with Highest Covid Cases')\n"
   ]
  },
  {
   "cell_type": "markdown",
   "metadata": {},
   "source": [
    "# Yahoo Finance <a id='Yahoo'></a>"
   ]
  },
  {
   "cell_type": "code",
   "execution_count": null,
   "metadata": {},
   "outputs": [],
   "source": [
    "import pandas as pd\n",
    "import datetime\n",
    "import math\n",
    "import numpy as np\n",
    "#import pandas_datareader.data as web\n",
    "from pandas import Series, DataFrame\n",
    "from sklearn import preprocessing\n",
    "import matplotlib.pyplot as plt\n",
    "from datetime import date, timedelta\n",
    "import yfinance as yf\n",
    "\n",
    "pd.set_option('mode.chained_assignment',None)    # turn off chain error warning since I use loc function properly\n",
    "pd.options.display.float_format = '{:,.2f}'.format\n",
    "\n",
    "\n",
    "# myfunction to use MACD to give signal\n",
    "\n",
    "\n",
    "# 1. look at mac\n",
    "# 2. look at overall market \n",
    "\n",
    "def MAC(MACDiff,MACD,Trigger,Movement):\n",
    "    if MACDiff >= 0.01:\n",
    "        if MACD < 0 and MACD < Trigger:\n",
    "            action = 'Buy - accumulate'\n",
    "        elif MACD < 0 and MACD > Trigger and Movement > 0:\n",
    "            action = 'Buy - positive trigger'\n",
    "        elif MACD < 0 and MACD > Trigger and Movement < 0:\n",
    "            action = 'Buy - weak trigger'\n",
    "        elif MACD > 0 and MACD > Trigger:\n",
    "            action = 'Buy - positive signal'\n",
    "        else:\n",
    "            action = 'MACD increases but no comment'\n",
    "    elif MACDiff > -0.01 and MACDiff < 0.01:\n",
    "        if Movement > 0:\n",
    "            action = 'MACD flat with buy activity'\n",
    "        elif Movement < 0:\n",
    "            action = 'MACD flat with sell activity'\n",
    "        else:\n",
    "            action = 'Sideway'\n",
    "    else:    # MACDIFF IS NEGATIVE\n",
    "        if MACD > 0:\n",
    "            action = 'Buy - but momentum declines'    \n",
    "        elif MACD < 0 and MACD < Trigger:\n",
    "            action = 'Sell'\n",
    "        elif MACD < 0 and Movement > 0:                 \n",
    "            action = 'Sell - a bit of buy support'       #technical bad but ppl still buy? must be good value\n",
    "        else:\n",
    "            action = 'MACD declines'\n",
    "    return action\n",
    "\n",
    "\n",
    "\n",
    "# my purchase price table\n",
    "myInput = pd.DataFrame({'Code':['AGL.AX','WPL.AX','WBC.AX'],\n",
    "                        'PurchasePrice': [13.535,19.98,21.35],\n",
    "                        'Unit': [4447,1275,163],\n",
    "                        'InPortfolio':['y','y','y']\n",
    "                       })\n",
    "\n",
    "# pick up data from yahoo finance\n",
    "start = datetime.datetime(2020, 7, 1)\n",
    "end = datetime.date.today() + datetime.timedelta(days=1)\n",
    "#end = datetime.datetime(2020,10,14)\n",
    "\n",
    "\n",
    "# new code to pick up from csv instead with more details\n",
    "mycsv = 'https://raw.githubusercontent.com/RonnyCh/mydsbook/master/margin.csv'\n",
    "mystock = pd.read_csv(mycsv)\n",
    "mystock = mystock['ASX Code']\n",
    "#mystock = mystock.replace('^AORD.AX','^AORD')    # all ord does not come with .ax\n",
    "\n",
    "# convert to string to make it better status bar downloading\n",
    "mystring = ''\n",
    "mylist = []\n",
    "for i in mystock:\n",
    "    if i in ['^AORD','^DJI','^FTSE','CL=F','^AXJO','^IXIC','^HIS','^N225']:     # indexes no need to add .AX\n",
    "        mystring = mystring + ' ' + i\n",
    "        mylist.append(i)\n",
    "    else:\n",
    "        mystring = mystring + ' ' + i + '.AX'\n",
    "        mylist.append(i+'.AX')\n",
    "\n",
    "# download data \n",
    "data = yf.download(mystring, start=start, end=end, group_by=\"ticker\")\n",
    "\n",
    "\n",
    "# create columns for dataframe and the dataframe itself\n",
    "mycol = ['Code','Close','Movement','Volume','ShortAvg','LongAvg','MACD','Trigger','Max','Min','2DAvg','VolDiff','P/Max']\n",
    "mytbl = pd.DataFrame(columns=mycol)\n",
    "\n",
    "\n",
    "# looping through the list to modify table\n",
    "for i in mylist:\n",
    "    df = data[i][['Close','Volume']]     # new one using Yfinance\n",
    "    df['Code'] = i\n",
    "    df.loc[:,'ShortAvg'] = df.Close.ewm(span=5).mean()        \n",
    "    df.loc[:,'LongAvg'] = df.Close.ewm(span=14).mean()\n",
    "    df['MACD'] = df['ShortAvg'] - df['LongAvg']\n",
    "    df['MACD_Diff'] = df['MACD'].diff(1)\n",
    "    df['Trigger'] = df.MACD.rolling(window=4).mean()\n",
    "    df['Movement'] = df['Close'].diff(1)\n",
    "    df['2DAvg'] = df.Movement.rolling(window=2).sum()\n",
    "    df['Max'] = df['Close'].max()\n",
    "    df['Min'] = df['Close'].min()\n",
    "    df['VolDiff'] = df['Volume'].diff(1)\n",
    "    df['P/Max'] = df['Close']/df['Max']\n",
    "    mytbl = mytbl.append(df)\n",
    "\n",
    "mytbl = mytbl.reset_index()\n",
    "mytbl = mytbl.rename(columns={'index':'Date'})\n",
    "\n",
    "\n",
    "# apply function to dataframe to show the advice\n",
    "mytbl['Advice']= mytbl.apply(lambda x:MAC(x['MACD_Diff'],x['MACD'],x['Trigger'],x['2DAvg']),axis=1)\n",
    "\n",
    "\n",
    "# save to csv to be used in Power BI\n",
    "#mytbl.to_csv('YahooFinance.csv')\n",
    "\n"
   ]
  },
  {
   "cell_type": "code",
   "execution_count": null,
   "metadata": {},
   "outputs": [],
   "source": [
    "from IPython.display import display\n",
    "\n",
    "print(\"Enter Date (YYYY-MM-DD):\")\n",
    "x = input()\n",
    "\n",
    "a = mytbl[(mytbl['Date']==x) & mytbl['Advice'].str.contains('trigger') & (mytbl['P/Max'] < 0.91)]\n",
    "mystock = pd.read_csv(mycsv)\n",
    "mystock = mystock.rename(columns={'ASX Code':'Code'})\n",
    "mystock['Code']=mystock['Code'] + '.AX'\n",
    "mycol = ['Date','Code','Industry','LVR','Close','MACD','Trigger','2DAvg','Max','P/Max','Advice']\n",
    "mybuy = pd.merge(a,mystock,on='Code')\n",
    "\n",
    "\n",
    "display ('############# list of buy trigger ##############',mybuy[mycol])\n",
    "\n"
   ]
  },
  {
   "cell_type": "code",
   "execution_count": null,
   "metadata": {},
   "outputs": [],
   "source": [
    "import matplotlib.pyplot as plt\n",
    "\n",
    "print(\"Enter the code you want to check\")\n",
    "x = input()\n",
    "\n",
    "plt.subplots(figsize=(17,10))\n",
    "\n",
    "mystock = mytbl[mytbl['Code']==x]\n",
    "mystock.dropna(subset=['Close'],inplace=True)\n",
    "index = mytbl[mytbl['Code']=='^AORD']\n",
    "index.dropna(subset=['Close'],inplace=True)\n",
    "\n",
    "\n",
    "plt.subplot(311)\n",
    "a = index['Date']\n",
    "b = index['Close']\n",
    "plt.plot(a,b,color='tab:orange',linestyle='--')\n",
    "plt.xlabel('All Ordinaries')\n",
    "\n",
    "plt.subplot(312)\n",
    "a = mystock['Date']\n",
    "b = mystock['Close']\n",
    "plt.plot(a,b,color='tab:blue', marker='o')\n",
    "plt.xlabel('Share')\n",
    "\n",
    "plt.subplot(313)\n",
    "short = mystock['ShortAvg']\n",
    "long = mystock['LongAvg']\n",
    "\n",
    "plt.plot(short, label ='Short',linestyle='--')\n",
    "plt.plot(long, label = 'Long')\n",
    "plt.legend()\n",
    "plt.xlabel('Long vs Short Avg')"
   ]
  },
  {
   "cell_type": "markdown",
   "metadata": {},
   "source": [
    "# Forecasting <a id='forecast'></a>"
   ]
  },
  {
   "cell_type": "code",
   "execution_count": 143,
   "metadata": {},
   "outputs": [],
   "source": [
    "def cat(mytext):\n",
    "    \n",
    "    # list of keywords, add as you find new ones\n",
    "    Car              = ['Top One','AAMI','BPme','Etoll','Petrol']\n",
    "    Utilities        = ['TPG','Optus','Gas','Electricity']\n",
    "\n",
    "    # combine all the categories into one list called collection\n",
    "    collection      = [Car,Utilities]\n",
    "\n",
    "\n",
    "    for i in range(len(collection)):\n",
    "        for k in range(len(collection[i])):\n",
    "            if collection[i][k].lower() in mytext.lower():\n",
    "                if i == 0:\n",
    "                    cat = 'Car'\n",
    "                elif i == 1:\n",
    "                    cat = 'Utilities'\n",
    "                return cat\n",
    "            \n",
    "   "
   ]
  },
  {
   "cell_type": "code",
   "execution_count": 146,
   "metadata": {},
   "outputs": [],
   "source": [
    "import pandas as pd\n",
    "import numpy as np\n",
    "\n",
    "EndDate = '2021-12-31'\n",
    "\n",
    "\n",
    "######## input your forecast/budget number to the list below ###########\n",
    "     \n",
    "            # Desc         Amt  Start Date  Freq Offfset\n",
    "mylist = [\n",
    "          ['AAMI Car'            ,-94.2,'2020-12-18','','MS',17],\n",
    "          ['Car Petrol'          ,-30,'2021-01-01','','7D',0],\n",
    "          ['TPG'                 ,-59.99,'2020-12-2','','MS',1],\n",
    "          ['Gas'                 ,-191,'2020-12-5','','MS',4],\n",
    "          ['Electricity'         ,-238,'2021-02-25','','3MS',24],  #MS means beg of month, M means end of month\n",
    "          ['Optus'               ,-60,'2020-12-21','','MS',20],\n",
    "         ]\n",
    "\n",
    "########################################################################\n",
    "\n",
    "\n",
    "df = pd.DataFrame(columns=['Date','Description','Amount'])\n",
    "\n",
    "for i in range(len(mylist)):\n",
    "    if mylist[i][3] == '':\n",
    "        ToDate = EndDate\n",
    "        #print(ToDate,mylist[i][0])\n",
    "    else:\n",
    "        ToDate = mylist[i][3]\n",
    "        #print(ToDate,mylist[i][0])\n",
    "    date = pd.date_range(mylist[i][2],ToDate,freq=mylist[i][4]) + pd.DateOffset(days=mylist[i][5])\n",
    "    amount = mylist[i][1]\n",
    "    desc = mylist[i][0]\n",
    "    tmp = pd.DataFrame({'Date':date,'Description':desc,'Amount':amount})\n",
    "    df = df.append(tmp)   \n",
    "    \n",
    "# add Period\n",
    "df['Period'] = pd.to_datetime(df['Date'],dayfirst=True).dt.to_period('M')\n",
    "df['Cat']= df.apply(lambda x:cat(x['Description']),axis=1)"
   ]
  },
  {
   "cell_type": "code",
   "execution_count": 176,
   "metadata": {},
   "outputs": [],
   "source": [
    "# create forecast table for specific period\n",
    "tbl_forecast = df[df['Date']<='2021-06-30'].sort_values('Cat')\n",
    "forecast = tbl_forecast[['Cat','Amount']].groupby(['Cat']).sum().reset_index()\n",
    "\n",
    "# simulate actual\n",
    "tbl_actual = df[df['Date']<='2021-06-30'].sort_values('Cat')\n",
    "tbl_actual['Amount'] = tbl_actual['Amount'] * 1.05\n",
    "actual = tbl_actual[['Cat','Amount']].groupby(['Cat']).sum().reset_index()"
   ]
  },
  {
   "cell_type": "code",
   "execution_count": 177,
   "metadata": {
    "scrolled": true
   },
   "outputs": [
    {
     "data": {
      "text/html": [
       "<div>\n",
       "<style scoped>\n",
       "    .dataframe tbody tr th:only-of-type {\n",
       "        vertical-align: middle;\n",
       "    }\n",
       "\n",
       "    .dataframe tbody tr th {\n",
       "        vertical-align: top;\n",
       "    }\n",
       "\n",
       "    .dataframe thead th {\n",
       "        text-align: right;\n",
       "    }\n",
       "</style>\n",
       "<table border=\"1\" class=\"dataframe\">\n",
       "  <thead>\n",
       "    <tr style=\"text-align: right;\">\n",
       "      <th></th>\n",
       "      <th>Description</th>\n",
       "      <th>Actual</th>\n",
       "      <th>Forecast</th>\n",
       "      <th>Var</th>\n",
       "    </tr>\n",
       "  </thead>\n",
       "  <tbody>\n",
       "    <tr>\n",
       "      <th>0</th>\n",
       "      <td>Car</td>\n",
       "      <td>-1,412.46</td>\n",
       "      <td>-1,345.20</td>\n",
       "      <td>-67.26</td>\n",
       "    </tr>\n",
       "    <tr>\n",
       "      <th>1</th>\n",
       "      <td>Utilities</td>\n",
       "      <td>-2,459.04</td>\n",
       "      <td>-2,341.94</td>\n",
       "      <td>-117.10</td>\n",
       "    </tr>\n",
       "  </tbody>\n",
       "</table>\n",
       "</div>"
      ],
      "text/plain": [
       "  Description    Actual  Forecast     Var\n",
       "0         Car -1,412.46 -1,345.20  -67.26\n",
       "1   Utilities -2,459.04 -2,341.94 -117.10"
      ]
     },
     "execution_count": 177,
     "metadata": {},
     "output_type": "execute_result"
    }
   ],
   "source": [
    "final = pd.merge(actual,forecast,on=['Cat'],how='left')\n",
    "final.columns=['Description','Actual','Forecast']\n",
    "final['Var']=final['Actual']-final['Forecast']\n",
    "final"
   ]
  },
  {
   "cell_type": "code",
   "execution_count": 178,
   "metadata": {},
   "outputs": [
    {
     "data": {
      "text/plain": [
       "\"top 3 popular words are ['Coles', 'Kmart', 'Bunnings']\""
      ]
     },
     "metadata": {},
     "output_type": "display_data"
    },
    {
     "name": "stdout",
     "output_type": "stream",
     "text": [
      "Coles 3\n",
      "Kmart 1\n",
      "Bunnings 1\n"
     ]
    }
   ],
   "source": [
    "word_list = ['Kmart','Bunnings','Coles','Coles','Coles']\n",
    "\n",
    "word_counter = {}\n",
    "\n",
    "for word in word_list:\n",
    "    if word in word_counter:\n",
    "         word_counter[word] += 1\n",
    "    else:\n",
    "         word_counter[word] = 1\n",
    "\n",
    "popular_words = sorted(word_counter, key = word_counter.get, reverse = True)\n",
    "\n",
    "display ('top 3 popular words are ' + str(popular_words[:3]))\n",
    "\n",
    "\n",
    "for i in popular_words:\n",
    "    print (i + ' ' + str(word_counter.get(i)))"
   ]
  },
  {
   "cell_type": "code",
   "execution_count": null,
   "metadata": {},
   "outputs": [],
   "source": []
  }
 ],
 "metadata": {
  "kernelspec": {
   "display_name": "Python 3",
   "language": "python",
   "name": "python3"
  },
  "language_info": {
   "codemirror_mode": {
    "name": "ipython",
    "version": 3
   },
   "file_extension": ".py",
   "mimetype": "text/x-python",
   "name": "python",
   "nbconvert_exporter": "python",
   "pygments_lexer": "ipython3",
   "version": "3.8.3"
  }
 },
 "nbformat": 4,
 "nbformat_minor": 4
}
