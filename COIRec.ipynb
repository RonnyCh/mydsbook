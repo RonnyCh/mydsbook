{
 "cells": [
  {
   "cell_type": "code",
   "execution_count": null,
   "metadata": {},
   "outputs": [],
   "source": [
    "import teradatasql\n",
    "import pandas as pd\n",
    "\n",
    "\n",
    "# you can connect directly to GDW table downloaded or use csv if you are not connected to the network\n",
    "\n",
    "# download centre mapping from GDW\n",
    "with teradatasql.connect(host='tdp5dbcw.teradata.westpac.com.au', user='M118954', password='mygdw2021!') as connect:\n",
    "    lg_hier = pd.read_sql('select * from dwpviewa.LG_Hier_Centre where date between from_date and to_date and lg_centre_l14_key in (\\'RB4892\\',\\'RB4152\\',\\'RB7062\\')', connect)\n",
    "\n",
    "# download product mapping from GDW\n",
    "with teradatasql.connect(host='tdp5dbcw.teradata.westpac.com.au', user='M118954', password='mygdw2021!') as connect:\n",
    "    lg_prod = pd.read_sql('select * from dwpviewa.LG_Hier_Product where date between from_date and to_date', connect)\n",
    "    \n",
    "# download the latest credit risk file and dont forget to change the month\n",
    "with teradatasql.connect(host='tdp5dbcw.teradata.westpac.com.au', user='M118954', password='mygdw2021!') as connect:\n",
    "    df = pd.read_sql('select * from finiq.CRDBEXTRACT where month_key in (\\'202009\\')', connect)\n",
    "\n",
    "\n",
    "# create mapping table to csv\n",
    "lg_hier.to_csv(r'C:\\Users\\m118954\\OneDrive - Westpac Group\\LOB Project\\Map_Centre.csv')\n",
    "lg_prod.to_csv(r'C:\\Users\\m118954\\OneDrive - Westpac Group\\LOB Project\\Map_Product.csv')\n",
    "\n"
   ]
  },
  {
   "cell_type": "code",
   "execution_count": 23,
   "metadata": {},
   "outputs": [
    {
     "name": "stdout",
     "output_type": "stream",
     "text": [
      "32.98898124694824\n"
     ]
    }
   ],
   "source": [
    "import teradatasql\n",
    "import pandas as pd\n",
    "\n",
    "start = time.time()\n",
    "\n",
    "mysql = \"\"\"\n",
    "select * from \n",
    "dwpviewa.LG_Hier_Centre \n",
    "where date between from_date and to_date \n",
    "and lg_centre_l14_key in (\\'RB4892\\',\\'RB4152\\',\\'RB7062\\')  \"\"\"\n",
    "\n",
    "\n",
    "# you can connect directly to GDW table downloaded or use csv if you are not connected to the network\n",
    "\n",
    "# download centre mapping from GDW\n",
    "with teradatasql.connect(host='tdp5dbcw.teradata.westpac.com.au', user='M118954', password='mygdw2021!') as connect:\n",
    "    test = pd.read_sql(mysql, connect)\n",
    "\n",
    "    \n",
    "    \n",
    "finish = time.time()\n",
    "\n",
    "print (finish - start)"
   ]
  },
  {
   "cell_type": "code",
   "execution_count": 10,
   "metadata": {},
   "outputs": [],
   "source": [
    "def leadZero(a):\n",
    "    mystr = str(a)\n",
    "    if len(mystr) == 5:\n",
    "        mystr = '0' + mystr\n",
    "    if len(mystr) == 4:\n",
    "        mystr = '00' + mystr\n",
    "    if len(mystr) == 3:\n",
    "        mystr = '000' + mystr\n",
    "    else:\n",
    "        mystr = mystr\n",
    "    return mystr\n",
    "\n",
    "# ECC Only\n",
    "def CR_ECC(Class,ECC,RWA):\n",
    "    if Class in ['SMECORP','SLIPRE','CORP']:\n",
    "        calc = ECC\n",
    "    else:\n",
    "        calc = 0\n",
    "    return calc\n",
    "\n",
    "# RWA Only\n",
    "def CR_RWA(Class,ECC,RWA):\n",
    "    if Class in ['SMECORP','SLIPRE','CORP']:\n",
    "        calc = 0\n",
    "    else:\n",
    "        calc = RWA * 0.0875\n",
    "    return calc\n",
    "\n",
    "# Total Credit Risk (ECC + RWA)\n",
    "def CR_Tot(Class,ECC,RWA):\n",
    "    if Class in ['SMECORP','SLIPRE','CORP']:\n",
    "        calc = ECC\n",
    "    else:\n",
    "        calc = RWA * 0.0875\n",
    "    return calc"
   ]
  },
  {
   "cell_type": "code",
   "execution_count": 6,
   "metadata": {},
   "outputs": [
    {
     "name": "stdout",
     "output_type": "stream",
     "text": [
      "It took around 3.3130995512008665 minutes\n"
     ]
    }
   ],
   "source": [
    "import pandas as pd\n",
    "import time\n",
    "\n",
    "\n",
    "start = time.time()\n",
    "# download the file from spreadsheet\n",
    "risk = pd.read_excel(r'C:\\Users\\m118954\\OneDrive - Westpac Group\\LOB Project\\RECSOURCEDATA.xlsx', sheet_name='RISK DATA') \n",
    "coi = pd.read_excel(r'C:\\Users\\m118954\\OneDrive - Westpac Group\\LOB Project\\RECSOURCEDATA.xlsx', sheet_name='COI DATA') \n",
    "\n",
    "# fill all the NAs\n",
    "risk['CENTRE_ID'] = risk['CENTRE_ID'].fillna(0)\n",
    "risk['PRODUCT_CODE'] = risk['PRODUCT_CODE'].fillna(0)\n",
    "\n",
    "# convert data type\n",
    "risk = risk.astype({'CENTRE_ID': 'int64','PRODUCT_CODE':'int64'})\n",
    "\n",
    "finish = time.time()\n",
    "\n",
    "print ('It took around ' + str((finish-start)/60) + ' minutes')\n",
    "\n"
   ]
  },
  {
   "cell_type": "code",
   "execution_count": 13,
   "metadata": {},
   "outputs": [],
   "source": [
    "a = risk[['CENTRE_ID','ASSET_SUBCLASS','DIVISION','BUSINESS_UNIT','PRODUCT_CODE','PRODUCT_1','ECC_AMT','RWA']]\n",
    "b = coi[['CENTRE_ID','ASSET_SUBCLASS','l13','PRODUCT_CODE','prod10','ECC','RWA']]\n",
    "\n",
    "finalrec = pd.merge(a,b,on=['CENTRE_ID','PRODUCT_CODE','ASSET_SUBCLASS'],how='left')\n",
    "finalrec = finalrec[['CENTRE_ID', 'PRODUCT_CODE','ASSET_SUBCLASS','DIVISION', 'BUSINESS_UNIT', 'l13', 'PRODUCT_1', 'prod10','ECC_AMT', 'RWA_x',  'ECC', 'RWA_y']]\n",
    "\n",
    "finalrec.to_csv((r'C:\\Users\\m118954\\OneDrive - Westpac Group\\LOB Project\\FinalRec.csv'))"
   ]
  },
  {
   "cell_type": "code",
   "execution_count": 11,
   "metadata": {},
   "outputs": [
    {
     "name": "stdout",
     "output_type": "stream",
     "text": [
      "it took around 43.57 seconds\n"
     ]
    }
   ],
   "source": [
    "import time\n",
    "import pandas as pd\n",
    "\n",
    "start = time.time()\n",
    "lg_hier = pd.read_csv(r'C:\\Users\\m118954\\OneDrive - Westpac Group\\LOB Project\\Map_Centre.csv')\n",
    "lg_hier['LG_Centre_Id'] = lg_hier['LG_Centre_Id'].str.strip()    # remove trailing spaces\n",
    "\n",
    "\n",
    "aggMap = pd.read_excel(r'C:\\Users\\m118954\\OneDrive - Westpac Group\\LOB Project\\Check Credit Risk.xlsm', sheet_name='Ctr Mapping') \n",
    "#aggMap = aggMap.rename(columns={'CENTRE_ID':'LG_Centre_Id'})\n",
    "\n",
    "# convert to string\n",
    "aggMap = aggMap.astype({'Centre': 'str'})\n",
    "aggMap = aggMap.astype({'Mapping': 'str'})\n",
    "\n",
    "# rename column\n",
    "aggMap = aggMap.rename(columns={'Centre':'LG_Centre_Id'})\n",
    "aggMap = aggMap[['LG_Centre_Id','Mapping']]\n",
    "\n",
    "# remove trailing spaces\n",
    "aggMap['LG_Centre_Id'] = aggMap['LG_Centre_Id'].str.strip()    # remove trailing spaces\n",
    "aggMap['Mapping'] = aggMap['Mapping'].str.strip()    # remove trailing spaces\n",
    "aggMap['LG_Centre_Id'] = aggMap.apply(lambda x:leadZero(x['LG_Centre_Id']),axis=1)    # apply function to fix leading zero\n",
    "\n",
    "\n",
    "# run merging sql\n",
    "aggMap = pd.merge(aggMap,lg_hier,how=\"left\",on=['LG_Centre_Id'])\n",
    "aggMap = aggMap[['LG_Centre_Id','Mapping','LG_Centre_L14_Name','LG_Centre_L13_Name','LG_Centre_L12_Name']]\n",
    "\n",
    "\n",
    "#rename columns\n",
    "aggMap = aggMap.rename(columns={'LG_Centre_L14_Name':'L14',\n",
    "                                'LG_Centre_L13_Name':'L13',\n",
    "                                'LG_Centre_L12_Name':'L12',\n",
    "                                'LG_Centre_Id':'Centre_Id',\n",
    "                                'Mapping':'LG_Centre_Id'\n",
    "                               })\n",
    "\n",
    "# run second mergin sql\n",
    "aggMap = pd.merge(aggMap,lg_hier,how=\"left\",on=['LG_Centre_Id'])\n",
    "aggMap = aggMap[['Centre_Id','LG_Centre_Id','L14','L13','L12','LG_Centre_L14_Name','LG_Centre_L13_Name','LG_Centre_L12_Name']]\n",
    "\n",
    "#rename columns 2\n",
    "aggMap = aggMap.rename(columns={'LG_Centre_L14_Name':'L14_Agg',\n",
    "                                'LG_Centre_L13_Name':'L13_Agg',\n",
    "                                'LG_Centre_L12_Name':'L12_Agg',\n",
    "                                'LG_Centre_Id':'Agg_Id'\n",
    "                               })\n",
    "\n",
    "\n",
    "\n",
    "finish = time.time()\n",
    "duration = round(((finish-start)/60),2)\n",
    "\n",
    "\n",
    "if (finish-start)<60:\n",
    "    duration = round((finish-start),2)\n",
    "    print ('it took around ' + str(duration) + ' seconds')\n",
    "else:\n",
    "    duration = round(((finish-start)/60),2)\n",
    "    print ('it took around ' + str(duration) + ' minutes')\n",
    "\n",
    "    "
   ]
  },
  {
   "cell_type": "code",
   "execution_count": 6,
   "metadata": {},
   "outputs": [],
   "source": [
    "aggMap.to_csv(r'C:\\Users\\m118954\\OneDrive - Westpac Group\\LOB Project\\OldData.csv')"
   ]
  },
  {
   "cell_type": "code",
   "execution_count": null,
   "metadata": {},
   "outputs": [],
   "source": []
  }
 ],
 "metadata": {
  "kernelspec": {
   "display_name": "Python 3",
   "language": "python",
   "name": "python3"
  },
  "language_info": {
   "codemirror_mode": {
    "name": "ipython",
    "version": 3
   },
   "file_extension": ".py",
   "mimetype": "text/x-python",
   "name": "python",
   "nbconvert_exporter": "python",
   "pygments_lexer": "ipython3",
   "version": "3.8.3"
  }
 },
 "nbformat": 4,
 "nbformat_minor": 4
}
